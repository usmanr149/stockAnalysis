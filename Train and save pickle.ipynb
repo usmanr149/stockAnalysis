{
 "cells": [
  {
   "cell_type": "code",
   "execution_count": 2,
   "metadata": {},
   "outputs": [],
   "source": [
    "import pandas as pd\n",
    "import numpy as np\n",
    "import talib\n",
    "\n",
    "from plotly.subplots import make_subplots\n",
    "\n",
    "import plotly.graph_objects as go"
   ]
  },
  {
   "cell_type": "code",
   "execution_count": 3,
   "metadata": {},
   "outputs": [],
   "source": [
    "import yfinance as yf\n",
    "import os"
   ]
  },
  {
   "cell_type": "code",
   "execution_count": null,
   "metadata": {},
   "outputs": [],
   "source": [
    "msft = yf.Ticker(\"MSFT\")\n",
    "\n",
    "# get stock info\n",
    "msft.info\n",
    "\n",
    "# get historical market data\n",
    "hist = msft.history(period=\"max\")"
   ]
  },
  {
   "cell_type": "code",
   "execution_count": null,
   "metadata": {},
   "outputs": [],
   "source": [
    "data = yf.download(\"AAPL\")"
   ]
  },
  {
   "cell_type": "code",
   "execution_count": null,
   "metadata": {},
   "outputs": [],
   "source": [
    "data.reset_index()"
   ]
  },
  {
   "cell_type": "code",
   "execution_count": null,
   "metadata": {},
   "outputs": [],
   "source": []
  },
  {
   "cell_type": "code",
   "execution_count": null,
   "metadata": {},
   "outputs": [],
   "source": [
    "def assignFactor(ticker, training=True):\n",
    "#     df = pd.read_csv(filename)\n",
    "    try:\n",
    "        df = yf.download(ticker)\n",
    "\n",
    "        df.reset_index(inplace=True)\n",
    "\n",
    "        df.Date = pd.to_datetime(df.Date)\n",
    "\n",
    "        df.sort_values(by='Date', inplace=True)\n",
    "\n",
    "        df['sma_15'] = talib.SMA(df['Adj Close'], timeperiod=15)\n",
    "\n",
    "        df['sma_15_diff'] = df['sma_15'].diff()\n",
    "\n",
    "        df['Trend'] = 'no'\n",
    "\n",
    "        start_ = min(df.index) + 20\n",
    "\n",
    "        for d, row in df[df.index > start_].iterrows():\n",
    "            if sum(df[(df.index <= d) & (df.index > d - 5)].sma_15_diff < 0) == 5 and row['sma_15'] > row['Adj Close']:\n",
    "                df.loc[d, 'Trend'] = 'down'\n",
    "            elif sum(df[(df.index <= d) & (df.index > d - 5)].sma_15_diff > 0) == 5 and row['sma_15'] < row['Adj Close']:\n",
    "                df.loc[d, 'Trend'] = 'up'\n",
    "\n",
    "        df['Trading Signal'] = 0\n",
    "\n",
    "        hold = 0\n",
    "\n",
    "        for d, row in df[df.index > start_].iterrows():\n",
    "            try:\n",
    "                min_ = min(df[(df.index >= d) & (df.index < d + 3)]['Adj Close'])\n",
    "                max_ = max(df[(df.index >= d) & (df.index < d + 3)]['Adj Close'])\n",
    "            except:\n",
    "                print(\"Can't lood ahead\")\n",
    "                break\n",
    "            if max_ != min_:\n",
    "                if row['Trend'] == 'up':\n",
    "                    hold = 0.5\n",
    "                    df.loc[d, 'Trading Signal'] = (row['Adj Close'] - min_)*0.5/(max_ - min_) + hold\n",
    "\n",
    "                elif row['Trend'] == 'down':\n",
    "                    hold = 0\n",
    "                    df.loc[d, 'Trading Signal'] = (row['Adj Close'] - min_)*0.5/(max_ - min_) + hold\n",
    "                else:\n",
    "                    df.loc[d, 'Trading Signal'] = (row['Adj Close'] - min_)*0.5/(max_ - min_) + hold\n",
    "\n",
    "        macd, macdsignal, macdhist = talib.MACD(df['Adj Close'], fastperiod=12, slowperiod=26, signalperiod=9)\n",
    "        df['macd'] = macd\n",
    "        df['macdsignal'] = macdsignal\n",
    "\n",
    "        slowk, slowd = talib.STOCH(df.High.values, df.Low.values, df.Close.values, 5, 3, 0, 3, 0)\n",
    "\n",
    "        df['slowk'], df['slowd'] = slowk, slowd\n",
    "\n",
    "        df['RSI'] = talib.RSI(df['Adj Close'])\n",
    "\n",
    "        df['WILLR'] = talib.WILLR(df.High.values, df.Low.values, df.Close.values)\n",
    "\n",
    "        df.dropna(inplace=True)\n",
    "        \n",
    "        df.to_csv('stockData/' + ticker + '.csv', index=False)\n",
    "\n",
    "        return df\n",
    "    \n",
    "    except:\n",
    "#         print(\"Can't be done for {}\".format(ticker))\n",
    "        return None"
   ]
  },
  {
   "cell_type": "code",
   "execution_count": null,
   "metadata": {},
   "outputs": [],
   "source": [
    "df_ticker_list = pd.read_csv('/home/usman/Downloads/ticker_list.csv')\n",
    "\n",
    "tickers = df_ticker_list.Ticker.values"
   ]
  },
  {
   "cell_type": "code",
   "execution_count": null,
   "metadata": {},
   "outputs": [],
   "source": [
    "tickers"
   ]
  },
  {
   "cell_type": "code",
   "execution_count": null,
   "metadata": {},
   "outputs": [],
   "source": [
    "# df = assignFactor('AAPL.csv')\n",
    "\n",
    "# df = df.append(assignFactor('/home/usman/Downloads/BB.csv'))\n",
    "# df = df.append(assignFactor('/home/usman/Downloads/FE.csv'))\n",
    "# df = df.append(assignFactor('/home/usman/Downloads/AMD.csv'))\n",
    "# df = df.append(assignFactor('/home/usman/Downloads/INTC.csv'))\n",
    "# df = df.append(assignFactor('/home/usman/Downloads/NVDA.csv'))\n",
    "# df = df.append(assignFactor('/home/usman/Downloads/DK.csv'))\n",
    "\n",
    "\n",
    "# df = assignFactor(tickers[0])\n",
    "# df['symbol'] = tickers[0]\n",
    "\n",
    "df = pd.read_csv('stockData/A.csv')\n",
    "\n",
    "for i in range(1, len(tickers)):\n",
    "    print(tickers[i])\n",
    "    if os.path.exists('stockData/' + tickers[i] + '.csv') == False:\n",
    "        df_hold = assignFactor(tickers[i])\n",
    "        if type(df_hold) == pd.core.frame.DataFrame and len(df_hold) > 0:\n",
    "            df_hold['symbol'] = tickers[0]\n",
    "            df = df.append(df_hold)"
   ]
  },
  {
   "cell_type": "code",
   "execution_count": 4,
   "metadata": {},
   "outputs": [],
   "source": [
    "import glob"
   ]
  },
  {
   "cell_type": "code",
   "execution_count": 5,
   "metadata": {
    "scrolled": true
   },
   "outputs": [],
   "source": [
    "files = glob.glob('stockData/*csv')[:1000]"
   ]
  },
  {
   "cell_type": "code",
   "execution_count": 6,
   "metadata": {
    "scrolled": true
   },
   "outputs": [
    {
     "name": "stdout",
     "output_type": "stream",
     "text": [
      "2 stockData/FEMS.csv\n",
      "3 stockData/HRTG.csv\n",
      "4 stockData/ESXB.csv\n",
      "5 stockData/AOA.csv\n",
      "6 stockData/GDL.csv\n",
      "7 stockData/BLV.csv\n",
      "8 stockData/AMED.csv\n",
      "9 stockData/HTLFP.csv\n",
      "10 stockData/HII.csv\n",
      "11 stockData/ASPU.csv\n",
      "12 stockData/CCXI.csv\n",
      "13 stockData/INVA.csv\n",
      "14 stockData/DUK.csv\n",
      "15 stockData/FRT.csv\n",
      "16 stockData/BLDP.csv\n",
      "17 stockData/EUO.csv\n",
      "18 stockData/CHCI.csv\n",
      "19 stockData/AUTL.csv\n",
      "20 stockData/GBT.csv\n",
      "21 stockData/JPXN.csv\n",
      "22 stockData/GTS.csv\n",
      "23 stockData/ABT.csv\n",
      "24 stockData/CIO.csv\n",
      "25 stockData/FRSX.csv\n",
      "26 stockData/FMK.csv\n",
      "27 stockData/IDMO.csv\n",
      "28 stockData/CELP.csv\n",
      "29 stockData/IGIB.csv\n",
      "30 stockData/FANH.csv\n",
      "31 stockData/DQ.csv\n",
      "32 stockData/GJO.csv\n",
      "33 stockData/ATXI.csv\n",
      "34 stockData/CNSP.csv\n",
      "35 stockData/EWU.csv\n",
      "36 stockData/BSX.csv\n",
      "37 stockData/HXL.csv\n",
      "38 stockData/HHR.csv\n",
      "39 stockData/CMSA.csv\n",
      "40 stockData/GNE.csv\n",
      "41 stockData/EZJ.csv\n",
      "42 stockData/JHCS.csv\n",
      "43 stockData/FNGO.csv\n",
      "44 stockData/CFFI.csv\n",
      "45 stockData/ESGR.csv\n",
      "46 stockData/JHB.csv\n",
      "47 stockData/DNN.csv\n",
      "48 stockData/APOG.csv\n",
      "49 stockData/IBB.csv\n",
      "50 stockData/APTS.csv\n",
      "51 stockData/DSPG.csv\n",
      "52 stockData/EWZS.csv\n",
      "53 stockData/DTE.csv\n",
      "54 stockData/AMYT.csv\n",
      "55 stockData/CTIC.csv\n",
      "56 stockData/FULC.csv\n",
      "57 stockData/EEX.csv\n",
      "58 stockData/GNRC.csv\n",
      "59 stockData/CSTE.csv\n",
      "60 stockData/ELY.csv\n",
      "61 stockData/CBL.csv\n",
      "62 stockData/JJM.csv\n",
      "63 stockData/AIRR.csv\n",
      "64 stockData/FLSA.csv\n",
      "65 stockData/BPYU.csv\n",
      "66 stockData/ELTK.csv\n",
      "67 stockData/ESGE.csv\n",
      "68 stockData/BIPC.csv\n",
      "69 stockData/JHY.csv\n",
      "70 stockData/DMO.csv\n",
      "71 stockData/CGBD.csv\n",
      "72 stockData/BBY.csv\n",
      "73 stockData/FPXE.csv\n",
      "74 stockData/AQMS.csv\n",
      "75 stockData/IPOC.csv\n",
      "76 stockData/CXSE.csv\n",
      "77 stockData/INOD.csv\n",
      "78 stockData/BSCR.csv\n",
      "79 stockData/JKH.csv\n",
      "80 stockData/APHA.csv\n",
      "81 stockData/HFXJ.csv\n",
      "82 stockData/BERY.csv\n",
      "83 stockData/DNKN.csv\n",
      "84 stockData/CHAU.csv\n",
      "85 stockData/EINC.csv\n",
      "86 stockData/CLBK.csv\n",
      "87 stockData/KBR.csv\n",
      "88 stockData/FINV.csv\n",
      "89 stockData/HFRO.csv\n",
      "90 stockData/FLC.csv\n",
      "91 stockData/BBVA.csv\n",
      "92 stockData/IT.csv\n",
      "93 stockData/CLSD.csv\n",
      "94 stockData/ITT.csv\n",
      "95 stockData/JPNL.csv\n",
      "96 stockData/CMCL.csv\n",
      "97 stockData/ELS.csv\n",
      "98 stockData/ARE.csv\n",
      "99 stockData/DXPE.csv\n",
      "100 stockData/AUPH.csv\n",
      "101 stockData/CCLP.csv\n",
      "102 stockData/GXGX.csv\n",
      "103 stockData/GMRE.csv\n",
      "104 stockData/FBT.csv\n",
      "105 stockData/DOMO.csv\n",
      "106 stockData/IBTF.csv\n",
      "107 stockData/GSIG.csv\n",
      "108 stockData/GRU.csv\n",
      "109 stockData/BK.csv\n",
      "110 stockData/GLMD.csv\n",
      "111 stockData/CKH.csv\n",
      "112 stockData/DBEZ.csv\n",
      "113 stockData/BXMT.csv\n",
      "114 stockData/EXK.csv\n",
      "115 stockData/CLMT.csv\n",
      "116 stockData/ALLK.csv\n",
      "117 stockData/ALXO.csv\n",
      "118 stockData/EIGR.csv\n",
      "119 stockData/DGLY.csv\n",
      "120 stockData/DFS.csv\n",
      "121 stockData/CEI.csv\n",
      "122 stockData/CWH.csv\n",
      "123 stockData/GSV.csv\n",
      "124 stockData/AZPN.csv\n",
      "125 stockData/AMRB.csv\n",
      "126 stockData/FAMI.csv\n",
      "127 stockData/CARE.csv\n",
      "128 stockData/INTC.csv\n",
      "129 stockData/BNKU.csv\n",
      "130 stockData/GCO.csv\n",
      "131 stockData/BMEZ.csv\n",
      "132 stockData/BLW.csv\n",
      "133 stockData/GPS.csv\n",
      "134 stockData/IXUS.csv\n",
      "135 stockData/ASHX.csv\n",
      "136 stockData/IDXX.csv\n",
      "137 stockData/CMU.csv\n",
      "138 stockData/GBCI.csv\n",
      "139 stockData/GWGH.csv\n",
      "140 stockData/IMTX.csv\n",
      "141 stockData/CCK.csv\n",
      "142 stockData/AT.csv\n",
      "143 stockData/CEV.csv\n",
      "144 stockData/GYRO.csv\n",
      "145 stockData/ANAT.csv\n",
      "146 stockData/ISTR.csv\n",
      "147 stockData/EVOL.csv\n",
      "148 stockData/DIOD.csv\n",
      "149 stockData/FPI.csv\n",
      "150 stockData/ABEV.csv\n",
      "151 stockData/BLIN.csv\n",
      "152 stockData/ATRO.csv\n",
      "153 stockData/AIV.csv\n",
      "154 stockData/EXPE.csv\n",
      "155 stockData/FPEI.csv\n",
      "156 stockData/GMO.csv\n",
      "157 stockData/ETG.csv\n",
      "158 stockData/FLGE.csv\n",
      "159 stockData/BHF.csv\n",
      "160 stockData/JP.csv\n",
      "161 stockData/CMF.csv\n",
      "162 stockData/JMPNL.csv\n",
      "163 stockData/ASGI.csv\n",
      "164 stockData/CVY.csv\n",
      "165 stockData/JEQ.csv\n",
      "166 stockData/AIHS.csv\n",
      "167 stockData/FIVA.csv\n",
      "168 stockData/HDMV.csv\n",
      "169 stockData/APDN.csv\n",
      "170 stockData/CCRN.csv\n",
      "171 stockData/IDRA.csv\n",
      "172 stockData/HUM.csv\n",
      "173 stockData/FCPT.csv\n",
      "174 stockData/HE.csv\n",
      "175 stockData/INSE.csv\n",
      "176 stockData/IEA.csv\n",
      "177 stockData/GWX.csv\n",
      "178 stockData/DALI.csv\n",
      "179 stockData/DFIN.csv\n",
      "180 stockData/AVA.csv\n",
      "181 stockData/DTEA.csv\n",
      "182 stockData/ARGD.csv\n",
      "183 stockData/FCAL.csv\n",
      "184 stockData/APT.csv\n",
      "185 stockData/BTAQU.csv\n",
      "186 stockData/KLIC.csv\n",
      "187 stockData/JOYY.csv\n",
      "188 stockData/HWM.csv\n",
      "189 stockData/DBB.csv\n",
      "190 stockData/GJH.csv\n",
      "191 stockData/ANAB.csv\n",
      "192 stockData/FHI.csv\n",
      "193 stockData/ATEC.csv\n",
      "194 stockData/GFIN.csv\n",
      "195 stockData/BRKL.csv\n",
      "196 stockData/JNPR.csv\n",
      "197 stockData/CALT.csv\n",
      "198 stockData/EVI.csv\n",
      "199 stockData/ICBK.csv\n",
      "200 stockData/JBHT.csv\n",
      "201 stockData/HOLX.csv\n",
      "202 stockData/GTYH.csv\n",
      "203 stockData/AVLR.csv\n",
      "204 stockData/CBRL.csv\n",
      "205 stockData/CFR.csv\n",
      "206 stockData/BUG.csv\n",
      "207 stockData/CWST.csv\n",
      "208 stockData/ASR.csv\n",
      "209 stockData/FTI.csv\n",
      "210 stockData/ACGL.csv\n",
      "211 stockData/HBNC.csv\n",
      "212 stockData/IBM.csv\n",
      "213 stockData/AFL.csv\n",
      "214 stockData/FOF.csv\n",
      "215 stockData/ATEN.csv\n",
      "216 stockData/AQN.csv\n",
      "217 stockData/CHRA.csv\n",
      "218 stockData/BSJO.csv\n",
      "219 stockData/KMED.csv\n",
      "220 stockData/INBK.csv\n",
      "221 stockData/AQST.csv\n",
      "222 stockData/GTHX.csv\n",
      "223 stockData/JFIN.csv\n",
      "224 stockData/HLIO.csv\n",
      "225 stockData/IDCC.csv\n",
      "226 stockData/DIG.csv\n",
      "227 stockData/FYT.csv\n",
      "228 stockData/ITEQ.csv\n",
      "229 stockData/AFGH.csv\n",
      "230 stockData/CREE.csv\n",
      "231 stockData/ATVI.csv\n",
      "232 stockData/EAD.csv\n",
      "233 stockData/EEMX.csv\n",
      "234 stockData/CDMO.csv\n",
      "235 stockData/IAG.csv\n",
      "236 stockData/CDEV.csv\n",
      "237 stockData/AZRE.csv\n",
      "238 stockData/GTN.csv\n",
      "239 stockData/ARQT.csv\n",
      "240 stockData/FNCB.csv\n",
      "241 stockData/GLL.csv\n",
      "242 stockData/FNX.csv\n",
      "243 stockData/INKM.csv\n",
      "244 stockData/CRSP.csv\n",
      "245 stockData/FAUS.csv\n",
      "246 stockData/ITIC.csv\n",
      "247 stockData/GT.csv\n",
      "248 stockData/COMB.csv\n",
      "249 stockData/HYMC.csv\n",
      "250 stockData/BKD.csv\n",
      "251 stockData/GLOB.csv\n",
      "252 stockData/IZEA.csv\n",
      "253 stockData/IJT.csv\n",
      "254 stockData/CZWI.csv\n",
      "255 stockData/EVG.csv\n",
      "256 stockData/FOSL.csv\n",
      "257 stockData/F.csv\n",
      "258 stockData/DELL.csv\n",
      "259 stockData/GAIA.csv\n",
      "260 stockData/BMRG.csv\n",
      "261 stockData/BBX.csv\n",
      "262 stockData/BOE.csv\n",
      "263 stockData/APPS.csv\n",
      "264 stockData/BLMN.csv\n",
      "265 stockData/HVBC.csv\n",
      "266 stockData/BB.csv\n",
      "267 stockData/AUB.csv\n",
      "268 stockData/GGO.csv\n",
      "269 stockData/CEFD.csv\n",
      "270 stockData/BRPAU.csv\n",
      "271 stockData/AMCX.csv\n",
      "272 stockData/BGGSQ.csv\n",
      "273 stockData/IHRT.csv\n",
      "274 stockData/FSTA.csv\n",
      "275 stockData/ARCE.csv\n",
      "276 stockData/IBTB.csv\n",
      "277 stockData/CPAA.csv\n",
      "278 stockData/AXR.csv\n",
      "279 stockData/INO.csv\n",
      "280 stockData/BPOPN.csv\n",
      "281 stockData/GSLD.csv\n",
      "282 stockData/FDN.csv\n",
      "283 stockData/BSCP.csv\n",
      "284 stockData/CCI.csv\n",
      "285 stockData/HIBL.csv\n",
      "286 stockData/FXO.csv\n",
      "287 stockData/FIYY.csv\n",
      "288 stockData/ESLT.csv\n",
      "289 stockData/AMKR.csv\n",
      "290 stockData/COHR.csv\n",
      "291 stockData/HFC.csv\n",
      "292 stockData/FLSP.csv\n",
      "293 stockData/GOL.csv\n",
      "294 stockData/BMLP.csv\n",
      "295 stockData/DMDV.csv\n",
      "296 stockData/GWRE.csv\n",
      "297 stockData/AEL.csv\n",
      "298 stockData/FIXX.csv\n",
      "299 stockData/CARG.csv\n",
      "300 stockData/FGBI.csv\n",
      "301 stockData/CAN.csv\n",
      "302 stockData/BPOP.csv\n",
      "303 stockData/AIEQ.csv\n",
      "304 stockData/FFC.csv\n",
      "305 stockData/GOOS.csv\n",
      "306 stockData/EVBG.csv\n",
      "307 stockData/HGBL.csv\n",
      "308 stockData/FPF.csv\n",
      "309 stockData/ADI.csv\n",
      "310 stockData/CSPI.csv\n",
      "311 stockData/ECOL.csv\n",
      "312 stockData/ELA.csv\n",
      "313 stockData/CRSA.csv\n",
      "314 stockData/K.csv\n",
      "315 stockData/BTT.csv\n",
      "316 stockData/INFI.csv\n",
      "317 stockData/GNK.csv\n",
      "318 stockData/ESBK.csv\n",
      "319 stockData/BLE.csv\n",
      "320 stockData/CCXX.csv\n",
      "321 stockData/AMNB.csv\n",
      "322 stockData/DHY.csv\n",
      "323 stockData/CUB.csv\n",
      "324 stockData/FTLS.csv\n",
      "325 stockData/CLCT.csv\n",
      "326 stockData/ACV.csv\n",
      "327 stockData/CMO.csv\n",
      "328 stockData/BTBT.csv\n",
      "329 stockData/CVAC.csv\n",
      "330 stockData/INTT.csv\n",
      "331 stockData/BPT.csv\n",
      "332 stockData/CCC.csv\n",
      "333 stockData/CLLS.csv\n",
      "334 stockData/CPAC.csv\n",
      "335 stockData/DEO.csv\n",
      "336 stockData/DYNF.csv\n",
      "337 stockData/IIF.csv\n",
      "338 stockData/CPE.csv\n",
      "339 stockData/IHE.csv\n",
      "340 stockData/IHDG.csv\n",
      "341 stockData/DNL.csv\n",
      "342 stockData/CHIH.csv\n",
      "343 stockData/FMAT.csv\n",
      "344 stockData/CANG.csv\n",
      "345 stockData/FINX.csv\n",
      "346 stockData/ASUR.csv\n",
      "347 stockData/HYLD.csv\n",
      "348 stockData/CHH.csv\n",
      "349 stockData/HBMD.csv\n",
      "350 stockData/ACA.csv\n",
      "351 stockData/EMO.csv\n",
      "352 stockData/KFYP.csv\n",
      "353 stockData/FIT.csv\n",
      "354 stockData/CPIX.csv\n",
      "355 stockData/EVF.csv\n",
      "356 stockData/GBAB.csv\n",
      "357 stockData/BXP.csv\n",
      "358 stockData/CIICU.csv\n",
      "359 stockData/GRPN.csv\n",
      "360 stockData/ECOW.csv\n",
      "361 stockData/HMST.csv\n",
      "362 stockData/EFO.csv\n",
      "363 stockData/FBSS.csv\n",
      "364 stockData/JMIN.csv\n",
      "365 stockData/CNFR.csv\n",
      "366 stockData/DCI.csv\n",
      "367 stockData/DDD.csv\n",
      "368 stockData/CETX.csv\n"
     ]
    },
    {
     "name": "stdout",
     "output_type": "stream",
     "text": [
      "369 stockData/IBTH.csv\n",
      "370 stockData/BLOK.csv\n",
      "371 stockData/HUGE.csv\n",
      "372 stockData/EIG.csv\n",
      "373 stockData/ETTX.csv\n",
      "374 stockData/DMXF.csv\n",
      "375 stockData/AMT.csv\n",
      "376 stockData/ATHE.csv\n",
      "377 stockData/AESE.csv\n",
      "378 stockData/GSG.csv\n",
      "379 stockData/GSBC.csv\n",
      "380 stockData/HCCOU.csv\n",
      "381 stockData/FIV.csv\n",
      "382 stockData/EBR.csv\n",
      "383 stockData/FLT.csv\n",
      "384 stockData/IDA.csv\n",
      "385 stockData/DBS.csv\n",
      "386 stockData/IBN.csv\n",
      "387 stockData/HA.csv\n",
      "388 stockData/CASH.csv\n",
      "389 stockData/CTY.csv\n",
      "390 stockData/CCO.csv\n",
      "391 stockData/FRME.csv\n",
      "392 stockData/EDV.csv\n",
      "393 stockData/AVNW.csv\n",
      "394 stockData/AGS.csv\n",
      "395 stockData/CHU.csv\n",
      "396 stockData/FUND.csv\n",
      "397 stockData/FEYE.csv\n",
      "398 stockData/FSEA.csv\n",
      "399 stockData/IPGP.csv\n",
      "400 stockData/CPAAU.csv\n",
      "401 stockData/DMRE.csv\n",
      "402 stockData/BRID.csv\n",
      "403 stockData/KELYB.csv\n",
      "404 stockData/ADRO.csv\n",
      "405 stockData/AXTA.csv\n",
      "406 stockData/CGA.csv\n",
      "407 stockData/CRM.csv\n",
      "408 stockData/AEMD.csv\n",
      "409 stockData/CHAD.csv\n",
      "410 stockData/GES.csv\n",
      "411 stockData/FFHL.csv\n",
      "412 stockData/AFH.csv\n",
      "413 stockData/CIF.csv\n",
      "414 stockData/FCNCA.csv\n",
      "415 stockData/ARGO.csv\n",
      "416 stockData/HBM.csv\n",
      "417 stockData/BELFA.csv\n",
      "418 stockData/CUT.csv\n",
      "419 stockData/BOTZ.csv\n",
      "420 stockData/CNX.csv\n",
      "421 stockData/FTSM.csv\n",
      "422 stockData/CRAK.csv\n",
      "423 stockData/BXRX.csv\n",
      "424 stockData/JJE.csv\n",
      "425 stockData/CUBB.csv\n",
      "426 stockData/FE.csv\n",
      "427 stockData/BOSC.csv\n",
      "428 stockData/KBE.csv\n",
      "429 stockData/BROG.csv\n",
      "430 stockData/GATX.csv\n",
      "431 stockData/GHL.csv\n",
      "432 stockData/CPRI.csv\n",
      "433 stockData/CFFN.csv\n",
      "434 stockData/DWEQ.csv\n",
      "435 stockData/BFZ.csv\n",
      "436 stockData/FLNT.csv\n",
      "437 stockData/HYS.csv\n",
      "438 stockData/FBIO.csv\n",
      "439 stockData/ECTM.csv\n",
      "440 stockData/DWSH.csv\n",
      "441 stockData/CERC.csv\n",
      "442 stockData/CG.csv\n",
      "443 stockData/FRA.csv\n",
      "444 stockData/GDX.csv\n",
      "445 stockData/BEN.csv\n",
      "446 stockData/JPC.csv\n",
      "447 stockData/CBMG.csv\n",
      "448 stockData/HIMX.csv\n",
      "449 stockData/AER.csv\n",
      "450 stockData/FUL.csv\n",
      "451 stockData/DON.csv\n",
      "452 stockData/ARW.csv\n",
      "453 stockData/KBA.csv\n",
      "454 stockData/JAX.csv\n",
      "455 stockData/BFIT.csv\n",
      "456 stockData/FMHI.csv\n",
      "457 stockData/ALIM.csv\n",
      "458 stockData/GUSH.csv\n",
      "459 stockData/JPMV.csv\n",
      "460 stockData/DBEH.csv\n",
      "461 stockData/CEO.csv\n",
      "462 stockData/COUP.csv\n",
      "463 stockData/CPF.csv\n",
      "464 stockData/AEZS.csv\n",
      "465 stockData/HTEC.csv\n",
      "466 stockData/ALYA.csv\n",
      "467 stockData/APEI.csv\n",
      "468 stockData/GTEC.csv\n",
      "469 stockData/FLBR.csv\n",
      "470 stockData/GRSVU.csv\n",
      "471 stockData/FBM.csv\n",
      "472 stockData/DMLP.csv\n",
      "473 stockData/CANF.csv\n",
      "474 stockData/EQX.csv\n",
      "475 stockData/FSLF.csv\n",
      "476 stockData/AFIN.csv\n",
      "477 stockData/III.csv\n",
      "478 stockData/BCEL.csv\n",
      "479 stockData/GPK.csv\n",
      "480 stockData/DXCM.csv\n",
      "481 stockData/APWC.csv\n",
      "482 stockData/DGICB.csv\n",
      "483 stockData/BIDU.csv\n",
      "484 stockData/GILT.csv\n",
      "485 stockData/EPD.csv\n",
      "486 stockData/EFAS.csv\n",
      "487 stockData/ALUS.csv\n",
      "488 stockData/GSHD.csv\n",
      "489 stockData/CS.csv\n",
      "490 stockData/BSV.csv\n",
      "491 stockData/FSKR.csv\n",
      "492 stockData/ENO.csv\n",
      "493 stockData/AEB.csv\n",
      "494 stockData/AUBAP.csv\n",
      "495 stockData/IBKR.csv\n",
      "496 stockData/CAI.csv\n",
      "497 stockData/JPMB.csv\n",
      "498 stockData/JHME.csv\n",
      "499 stockData/GIM.csv\n",
      "500 stockData/AVT.csv\n",
      "501 stockData/BGNE.csv\n",
      "502 stockData/INT.csv\n",
      "503 stockData/FITB.csv\n",
      "504 stockData/AGE.csv\n",
      "505 stockData/BNS.csv\n",
      "506 stockData/ALTR.csv\n",
      "507 stockData/FCRW.csv\n",
      "508 stockData/FLTB.csv\n",
      "509 stockData/GOGO.csv\n",
      "510 stockData/CTVA.csv\n",
      "511 stockData/ISCF.csv\n",
      "512 stockData/FIDI.csv\n",
      "513 stockData/GIGB.csv\n",
      "514 stockData/DGRW.csv\n",
      "515 stockData/BYM.csv\n",
      "516 stockData/GRA.csv\n",
      "517 stockData/FDX.csv\n",
      "518 stockData/FLQG.csv\n",
      "519 stockData/AAON.csv\n",
      "520 stockData/ETB.csv\n",
      "521 stockData/DLS.csv\n",
      "522 stockData/IYC.csv\n",
      "523 stockData/JPUS.csv\n",
      "524 stockData/CLM.csv\n",
      "525 stockData/BSJP.csv\n",
      "526 stockData/DVAX.csv\n",
      "527 stockData/CXP.csv\n",
      "528 stockData/AUVI.csv\n",
      "529 stockData/CVEO.csv\n",
      "530 stockData/FMC.csv\n",
      "531 stockData/ALGN.csv\n",
      "532 stockData/FDIV.csv\n",
      "533 stockData/FOE.csv\n",
      "534 stockData/ITMR.csv\n",
      "535 stockData/GREK.csv\n",
      "536 stockData/JRO.csv\n",
      "537 stockData/BBAR.csv\n",
      "538 stockData/BHVN.csv\n",
      "539 stockData/GFN.csv\n",
      "540 stockData/GROW.csv\n",
      "541 stockData/DESP.csv\n",
      "542 stockData/DCO.csv\n",
      "543 stockData/FBZ.csv\n",
      "544 stockData/ENJ.csv\n",
      "545 stockData/JOE.csv\n",
      "546 stockData/AFC.csv\n",
      "547 stockData/GME.csv\n",
      "548 stockData/FSS.csv\n",
      "549 stockData/CUBA.csv\n",
      "550 stockData/HPKEW.csv\n",
      "551 stockData/AROW.csv\n",
      "552 stockData/FVAL.csv\n",
      "553 stockData/EMBD.csv\n",
      "554 stockData/IBTX.csv\n",
      "555 stockData/ARCT.csv\n",
      "556 stockData/CIDM.csv\n",
      "557 stockData/CLRB.csv\n",
      "558 stockData/BW.csv\n",
      "559 stockData/ARKR.csv\n",
      "560 stockData/IVZ.csv\n",
      "561 stockData/FDIS.csv\n",
      "562 stockData/GPI.csv\n",
      "563 stockData/BKLC.csv\n",
      "564 stockData/ATLO.csv\n",
      "565 stockData/FMTX.csv\n",
      "566 stockData/GECCN.csv\n",
      "567 stockData/ADS.csv\n",
      "568 stockData/CTRM.csv\n",
      "569 stockData/IGLB.csv\n",
      "570 stockData/BSTZ.csv\n",
      "571 stockData/BHK.csv\n",
      "572 stockData/EVX.csv\n",
      "573 stockData/BILI.csv\n",
      "574 stockData/JMM.csv\n",
      "575 stockData/ENOB.csv\n",
      "576 stockData/AIZ.csv\n",
      "577 stockData/FXF.csv\n",
      "578 stockData/BOKFL.csv\n",
      "579 stockData/CGO.csv\n",
      "580 stockData/EML.csv\n",
      "581 stockData/FUNC.csv\n",
      "582 stockData/DOCU.csv\n",
      "583 stockData/DDG.csv\n",
      "584 stockData/GLG.csv\n",
      "585 stockData/AMRX.csv\n",
      "586 stockData/BGFV.csv\n",
      "587 stockData/GOODN.csv\n",
      "588 stockData/BIP.csv\n",
      "589 stockData/HPI.csv\n",
      "590 stockData/ECHO.csv\n",
      "591 stockData/EAGG.csv\n",
      "592 stockData/ERIC.csv\n",
      "593 stockData/FREQ.csv\n",
      "594 stockData/CCS.csv\n",
      "595 stockData/AIF.csv\n",
      "596 stockData/FEMB.csv\n",
      "597 stockData/AAPL.csv\n",
      "598 stockData/CXW.csv\n",
      "599 stockData/BLI.csv\n",
      "600 stockData/HBANO.csv\n",
      "601 stockData/FCEF.csv\n",
      "602 stockData/ITRN.csv\n",
      "603 stockData/CBLI.csv\n",
      "604 stockData/EME.csv\n",
      "605 stockData/CBON.csv\n",
      "606 stockData/EEV.csv\n",
      "607 stockData/CPHC.csv\n",
      "608 stockData/GTO.csv\n",
      "609 stockData/BDC.csv\n",
      "610 stockData/DVOL.csv\n",
      "611 stockData/IWS.csv\n",
      "612 stockData/ALVR.csv\n",
      "613 stockData/ANGO.csv\n",
      "614 stockData/DYNT.csv\n",
      "615 stockData/BBMC.csv\n",
      "616 stockData/FLIY.csv\n",
      "617 stockData/FKO.csv\n",
      "618 stockData/HLAL.csv\n",
      "619 stockData/ICFI.csv\n",
      "620 stockData/CRSAU.csv\n",
      "621 stockData/CBH.csv\n",
      "622 stockData/HONE.csv\n",
      "623 stockData/CSTM.csv\n",
      "624 stockData/FIVG.csv\n",
      "625 stockData/HES.csv\n",
      "626 stockData/BQH.csv\n",
      "627 stockData/BORR.csv\n",
      "628 stockData/EYE.csv\n",
      "629 stockData/KEN.csv\n",
      "630 stockData/KIN.csv\n",
      "631 stockData/AUG.csv\n",
      "632 stockData/FLNG.csv\n",
      "633 stockData/ENB.csv\n",
      "634 stockData/BKYI.csv\n",
      "635 stockData/DRRX.csv\n",
      "636 stockData/CXE.csv\n",
      "637 stockData/AMPE.csv\n",
      "638 stockData/ESP.csv\n",
      "639 stockData/COLM.csv\n",
      "640 stockData/ELJ.csv\n",
      "641 stockData/GTT.csv\n",
      "642 stockData/BMRA.csv\n",
      "643 stockData/BRBR.csv\n",
      "644 stockData/CCBG.csv\n",
      "645 stockData/GRX.csv\n",
      "646 stockData/IBTI.csv\n",
      "647 stockData/CX.csv\n",
      "648 stockData/ALJJ.csv\n",
      "649 stockData/BNTX.csv\n",
      "650 stockData/BKTI.csv\n",
      "651 stockData/BPYUP.csv\n",
      "652 stockData/IWP.csv\n",
      "653 stockData/GLO.csv\n",
      "654 stockData/IHIT.csv\n",
      "655 stockData/DY.csv\n",
      "656 stockData/BLRX.csv\n",
      "657 stockData/CAE.csv\n",
      "658 stockData/HDLB.csv\n",
      "659 stockData/DZSI.csv\n",
      "660 stockData/CPI.csv\n",
      "661 stockData/ARKW.csv\n",
      "662 stockData/BBW.csv\n",
      "663 stockData/GMS.csv\n",
      "664 stockData/EFF.csv\n",
      "665 stockData/EDU.csv\n",
      "666 stockData/BCOV.csv\n",
      "667 stockData/HR.csv\n",
      "668 stockData/FIIIU.csv\n",
      "669 stockData/KALL.csv\n",
      "670 stockData/JHMI.csv\n",
      "671 stockData/EMN.csv\n",
      "672 stockData/CSBR.csv\n",
      "673 stockData/CHNA.csv\n",
      "674 stockData/ACCD.csv\n",
      "675 stockData/AACG.csv\n",
      "676 stockData/HEXO.csv\n",
      "677 stockData/BBQ.csv\n",
      "678 stockData/CVM.csv\n",
      "679 stockData/DISCA.csv\n",
      "680 stockData/BEP.csv\n",
      "681 stockData/CDE.csv\n",
      "682 stockData/GH.csv\n",
      "683 stockData/CHNG.csv\n",
      "684 stockData/EEMD.csv\n",
      "685 stockData/CTK.csv\n",
      "686 stockData/GSB.csv\n",
      "687 stockData/ECCX.csv\n",
      "688 stockData/BDXB.csv\n",
      "689 stockData/HBANN.csv\n",
      "690 stockData/JIGB.csv\n",
      "691 stockData/ACTG.csv\n",
      "692 stockData/ALK.csv\n",
      "693 stockData/EPAC.csv\n",
      "694 stockData/ATEX.csv\n",
      "695 stockData/FHK.csv\n",
      "696 stockData/GNT.csv\n",
      "697 stockData/IHG.csv\n",
      "698 stockData/AMCR.csv\n",
      "699 stockData/CATH.csv\n",
      "700 stockData/ESGRO.csv\n",
      "701 stockData/HUSV.csv\n",
      "702 stockData/ETR.csv\n",
      "703 stockData/ATOM.csv\n",
      "704 stockData/EIGI.csv\n",
      "705 stockData/JPSE.csv\n",
      "706 stockData/GLIBA.csv\n",
      "707 stockData/JRSH.csv\n",
      "708 stockData/CSL.csv\n",
      "709 stockData/FLCH.csv\n",
      "710 stockData/EURL.csv\n",
      "711 stockData/HNW.csv\n",
      "712 stockData/GECC.csv\n",
      "713 stockData/DADA.csv\n",
      "714 stockData/ASHS.csv\n",
      "715 stockData/GDOT.csv\n",
      "716 stockData/HOME.csv\n",
      "717 stockData/CALB.csv\n",
      "718 stockData/JKJ.csv\n",
      "719 stockData/AGEN.csv\n",
      "720 stockData/HCR.csv\n",
      "721 stockData/JELD.csv\n",
      "722 stockData/HYMB.csv\n",
      "723 stockData/BKMC.csv\n",
      "724 stockData/CMC.csv\n",
      "725 stockData/BPFH.csv\n",
      "726 stockData/EVGN.csv\n",
      "727 stockData/DTH.csv\n",
      "728 stockData/DUKH.csv\n",
      "729 stockData/HTHT.csv\n",
      "730 stockData/JBT.csv\n",
      "731 stockData/HDV.csv\n"
     ]
    },
    {
     "name": "stdout",
     "output_type": "stream",
     "text": [
      "732 stockData/EMB.csv\n",
      "733 stockData/FUSE.csv\n",
      "734 stockData/AVB.csv\n",
      "735 stockData/CSML.csv\n",
      "736 stockData/HIO.csv\n",
      "737 stockData/FLMB.csv\n",
      "738 stockData/FMX.csv\n",
      "739 stockData/IYH.csv\n",
      "740 stockData/FNLC.csv\n",
      "741 stockData/ADBE.csv\n",
      "742 stockData/GP.csv\n",
      "743 stockData/ARYBU.csv\n",
      "744 stockData/HDG.csv\n",
      "745 stockData/FVE.csv\n",
      "746 stockData/CNHI.csv\n",
      "747 stockData/EMKR.csv\n",
      "748 stockData/B.csv\n",
      "749 stockData/DE.csv\n",
      "750 stockData/BLBD.csv\n",
      "751 stockData/H.csv\n",
      "752 stockData/FRG.csv\n",
      "753 stockData/CAJ.csv\n",
      "754 stockData/BLD.csv\n",
      "755 stockData/CI.csv\n",
      "756 stockData/FSFG.csv\n",
      "757 stockData/DAX.csv\n",
      "758 stockData/ITRI.csv\n",
      "759 stockData/AGNC.csv\n",
      "760 stockData/FLCO.csv\n",
      "761 stockData/JPM.csv\n",
      "762 stockData/GMDA.csv\n",
      "763 stockData/FTOCU.csv\n",
      "764 stockData/ADVM.csv\n",
      "765 stockData/CMS.csv\n",
      "766 stockData/BRZU.csv\n",
      "767 stockData/JTD.csv\n",
      "768 stockData/ATGE.csv\n",
      "769 stockData/JAGG.csv\n",
      "770 stockData/ESGS.csv\n",
      "771 stockData/FENY.csv\n",
      "772 stockData/ADT.csv\n",
      "773 stockData/EYEN.csv\n",
      "774 stockData/CYTK.csv\n",
      "775 stockData/HDGE.csv\n",
      "776 stockData/DAO.csv\n",
      "777 stockData/DIVO.csv\n",
      "778 stockData/KNOP.csv\n",
      "779 stockData/AGNCP.csv\n",
      "780 stockData/CPB.csv\n",
      "781 stockData/HMG.csv\n",
      "782 stockData/FRLG.csv\n",
      "783 stockData/ECLN.csv\n",
      "784 stockData/ICL.csv\n",
      "785 stockData/ISIG.csv\n",
      "786 stockData/GENC.csv\n",
      "787 stockData/EDUC.csv\n",
      "788 stockData/CHIR.csv\n",
      "789 stockData/GLUU.csv\n",
      "790 stockData/FBK.csv\n",
      "791 stockData/HCXZ.csv\n",
      "792 stockData/CVX.csv\n",
      "793 stockData/CLEU.csv\n",
      "794 stockData/CSTL.csv\n",
      "795 stockData/IHY.csv\n",
      "796 stockData/KNAB.csv\n",
      "797 stockData/IGN.csv\n",
      "798 stockData/EVER.csv\n",
      "799 stockData/ACEL.csv\n",
      "800 stockData/BDN.csv\n",
      "801 stockData/CNET.csv\n",
      "802 stockData/IQV.csv\n",
      "803 stockData/EDF.csv\n",
      "804 stockData/DVY.csv\n",
      "805 stockData/BSMM.csv\n",
      "806 stockData/BLNK.csv\n",
      "807 stockData/AMCIU.csv\n",
      "808 stockData/DLTR.csv\n",
      "809 stockData/AMTBB.csv\n",
      "810 stockData/IDE.csv\n",
      "811 stockData/FHLC.csv\n",
      "812 stockData/AYRO.csv\n",
      "813 stockData/BNTC.csv\n",
      "814 stockData/ASEA.csv\n",
      "815 stockData/CTV.csv\n",
      "816 stockData/ABG.csv\n",
      "817 stockData/APOP.csv\n",
      "818 stockData/COOP.csv\n",
      "819 stockData/IVAC.csv\n",
      "820 stockData/CMPR.csv\n",
      "821 stockData/GSY.csv\n",
      "822 stockData/DJD.csv\n",
      "823 stockData/AAP.csv\n",
      "824 stockData/CHA.csv\n",
      "825 stockData/EBTC.csv\n",
      "826 stockData/EXPCU.csv\n",
      "827 stockData/AVK.csv\n",
      "828 stockData/ALACR.csv\n",
      "829 stockData/BBCP.csv\n",
      "830 stockData/GUT.csv\n",
      "831 stockData/KIO.csv\n",
      "832 stockData/DGII.csv\n",
      "833 stockData/DZZ.csv\n",
      "834 stockData/ESTA.csv\n",
      "835 stockData/DLHC.csv\n",
      "836 stockData/FMAO.csv\n",
      "837 stockData/HEBT.csv\n",
      "838 stockData/CPSS.csv\n",
      "839 stockData/CWI.csv\n",
      "840 stockData/AKER.csv\n",
      "841 stockData/JSD.csv\n",
      "842 stockData/FIEE.csv\n",
      "843 stockData/BFS.csv\n",
      "844 stockData/INBKZ.csv\n",
      "845 stockData/CNK.csv\n",
      "846 stockData/ATRC.csv\n",
      "847 stockData/KALA.csv\n",
      "848 stockData/HSMV.csv\n",
      "849 stockData/CRESY.csv\n",
      "850 stockData/ASH.csv\n",
      "851 stockData/CCAP.csv\n",
      "852 stockData/CPSH.csv\n",
      "853 stockData/FORR.csv\n",
      "854 stockData/CHD.csv\n",
      "855 stockData/APXTU.csv\n",
      "856 stockData/ESE.csv\n",
      "857 stockData/JNCE.csv\n",
      "858 stockData/ARYB.csv\n",
      "859 stockData/JO.csv\n",
      "860 stockData/ERESU.csv\n",
      "861 stockData/CHRS.csv\n",
      "862 stockData/EYPT.csv\n",
      "863 stockData/FCRD.csv\n",
      "864 stockData/EWV.csv\n",
      "865 stockData/ETY.csv\n",
      "866 stockData/CDLX.csv\n",
      "867 stockData/APTV.csv\n",
      "868 stockData/EDIV.csv\n",
      "869 stockData/FCA.csv\n",
      "870 stockData/CRIS.csv\n",
      "871 stockData/CSX.csv\n",
      "872 stockData/AQB.csv\n",
      "873 stockData/GBUY.csv\n",
      "874 stockData/ACSG.csv\n",
      "875 stockData/GOLF.csv\n",
      "876 stockData/CIX.csv\n",
      "877 stockData/JKHY.csv\n",
      "878 stockData/CCON.csv\n",
      "879 stockData/DHIL.csv\n",
      "880 stockData/ALRS.csv\n",
      "881 stockData/FUSN.csv\n",
      "882 stockData/IMVT.csv\n",
      "883 stockData/DSGX.csv\n",
      "884 stockData/IGF.csv\n",
      "885 stockData/GBL.csv\n",
      "886 stockData/CALA.csv\n",
      "887 stockData/CORR.csv\n",
      "888 stockData/BND.csv\n",
      "889 stockData/ACY.csv\n",
      "890 stockData/FCN.csv\n",
      "891 stockData/JHMU.csv\n",
      "892 stockData/HLF.csv\n",
      "893 stockData/GCAP.csv\n",
      "894 stockData/CKX.csv\n",
      "895 stockData/ILF.csv\n",
      "896 stockData/ETH.csv\n",
      "897 stockData/JBL.csv\n",
      "898 stockData/IGBH.csv\n",
      "899 stockData/JJA.csv\n",
      "900 stockData/IAF.csv\n",
      "901 stockData/HEWP.csv\n",
      "902 stockData/CERN.csv\n",
      "903 stockData/CRHM.csv\n",
      "904 stockData/EWX.csv\n",
      "905 stockData/ILMN.csv\n",
      "906 stockData/EGIF.csv\n",
      "907 stockData/FCO.csv\n",
      "908 stockData/GHIVU.csv\n",
      "909 stockData/IBDV.csv\n",
      "910 stockData/INTU.csv\n",
      "911 stockData/CIIC.csv\n",
      "912 stockData/KIRK.csv\n",
      "913 stockData/BFK.csv\n",
      "914 stockData/CLTL.csv\n",
      "915 stockData/AMN.csv\n",
      "916 stockData/AIZP.csv\n",
      "917 stockData/BSA.csv\n",
      "918 stockData/CVI.csv\n",
      "919 stockData/EWS.csv\n",
      "920 stockData/INMD.csv\n",
      "921 stockData/CORT.csv\n",
      "922 stockData/AIKI.csv\n",
      "923 stockData/CHGG.csv\n",
      "924 stockData/CNXN.csv\n",
      "925 stockData/FLMN.csv\n",
      "926 stockData/ELP.csv\n",
      "927 stockData/GSL.csv\n",
      "928 stockData/CBSH.csv\n",
      "929 stockData/ETRN.csv\n",
      "930 stockData/JHAA.csv\n",
      "931 stockData/HFXE.csv\n",
      "932 stockData/ASYS.csv\n",
      "933 stockData/FARO.csv\n",
      "934 stockData/COW.csv\n",
      "935 stockData/CDOR.csv\n",
      "936 stockData/ETSY.csv\n",
      "937 stockData/IONS.csv\n",
      "938 stockData/EWCO.csv\n",
      "939 stockData/EPRT.csv\n",
      "940 stockData/BSJQ.csv\n",
      "941 stockData/HJLIW.csv\n",
      "942 stockData/FNJN.csv\n",
      "943 stockData/DK.csv\n",
      "944 stockData/AVYA.csv\n",
      "945 stockData/EBS.csv\n",
      "946 stockData/CYBR.csv\n",
      "947 stockData/CLH.csv\n",
      "948 stockData/ICE.csv\n",
      "949 stockData/DNR.csv\n",
      "950 stockData/DISCK.csv\n",
      "951 stockData/HSAQ.csv\n",
      "952 stockData/HRZN.csv\n",
      "953 stockData/CAMP.csv\n",
      "954 stockData/ITCI.csv\n",
      "955 stockData/DJP.csv\n",
      "956 stockData/FNDE.csv\n",
      "957 stockData/EGF.csv\n",
      "958 stockData/DMF.csv\n",
      "959 stockData/GOODM.csv\n",
      "960 stockData/EXPC.csv\n",
      "961 stockData/JMIA.csv\n",
      "962 stockData/BGCP.csv\n",
      "963 stockData/JFKKU.csv\n",
      "964 stockData/AQUA.csv\n",
      "965 stockData/HYXE.csv\n",
      "966 stockData/EFR.csv\n",
      "967 stockData/CHIC.csv\n",
      "968 stockData/CNBS.csv\n",
      "969 stockData/FTXO.csv\n",
      "970 stockData/IHC.csv\n",
      "971 stockData/ITOT.csv\n",
      "972 stockData/BCDA.csv\n",
      "973 stockData/GEC.csv\n",
      "974 stockData/BL.csv\n",
      "975 stockData/AWF.csv\n",
      "976 stockData/HOMB.csv\n",
      "977 stockData/FRD.csv\n",
      "978 stockData/CIL.csv\n",
      "979 stockData/GTES.csv\n",
      "980 stockData/FBIZ.csv\n",
      "981 stockData/BPY.csv\n",
      "982 stockData/HELE.csv\n",
      "983 stockData/ACHV.csv\n",
      "984 stockData/ACN.csv\n",
      "985 stockData/BWAY.csv\n",
      "986 stockData/ALACU.csv\n",
      "987 stockData/CWK.csv\n",
      "988 stockData/FCFS.csv\n",
      "989 stockData/ATLC.csv\n",
      "990 stockData/GBF.csv\n",
      "991 stockData/FCAN.csv\n",
      "992 stockData/DRD.csv\n",
      "993 stockData/IXC.csv\n",
      "994 stockData/IIM.csv\n",
      "995 stockData/EQR.csv\n",
      "996 stockData/EWL.csv\n",
      "997 stockData/CCB.csv\n",
      "998 stockData/IYE.csv\n",
      "999 stockData/BSCL.csv\n",
      "1000 stockData/JETS.csv\n"
     ]
    }
   ],
   "source": [
    "df = pd.read_csv(files[0])\n",
    "\n",
    "for i, f in enumerate(files[1:]):\n",
    "    print(i+2, f)\n",
    "    df = df.append(pd.read_csv(f))"
   ]
  },
  {
   "cell_type": "code",
   "execution_count": null,
   "metadata": {},
   "outputs": [],
   "source": []
  },
  {
   "cell_type": "code",
   "execution_count": 7,
   "metadata": {},
   "outputs": [
    {
     "data": {
      "text/plain": [
       "3402265"
      ]
     },
     "execution_count": 7,
     "metadata": {},
     "output_type": "execute_result"
    }
   ],
   "source": [
    "len(df)"
   ]
  },
  {
   "cell_type": "code",
   "execution_count": 8,
   "metadata": {},
   "outputs": [
    {
     "data": {
      "text/html": [
       "<div>\n",
       "<style scoped>\n",
       "    .dataframe tbody tr th:only-of-type {\n",
       "        vertical-align: middle;\n",
       "    }\n",
       "\n",
       "    .dataframe tbody tr th {\n",
       "        vertical-align: top;\n",
       "    }\n",
       "\n",
       "    .dataframe thead th {\n",
       "        text-align: right;\n",
       "    }\n",
       "</style>\n",
       "<table border=\"1\" class=\"dataframe\">\n",
       "  <thead>\n",
       "    <tr style=\"text-align: right;\">\n",
       "      <th></th>\n",
       "      <th>Date</th>\n",
       "      <th>Open</th>\n",
       "      <th>High</th>\n",
       "      <th>Low</th>\n",
       "      <th>Close</th>\n",
       "      <th>Adj Close</th>\n",
       "      <th>Volume</th>\n",
       "      <th>sma_15</th>\n",
       "      <th>sma_15_diff</th>\n",
       "      <th>Trend</th>\n",
       "      <th>Trading Signal</th>\n",
       "      <th>macd</th>\n",
       "      <th>macdsignal</th>\n",
       "      <th>slowk</th>\n",
       "      <th>slowd</th>\n",
       "      <th>RSI</th>\n",
       "      <th>WILLR</th>\n",
       "    </tr>\n",
       "  </thead>\n",
       "  <tbody>\n",
       "    <tr>\n",
       "      <th>0</th>\n",
       "      <td>2010-05-18</td>\n",
       "      <td>27.180000</td>\n",
       "      <td>27.180000</td>\n",
       "      <td>25.870001</td>\n",
       "      <td>26.070000</td>\n",
       "      <td>18.719772</td>\n",
       "      <td>12300.0</td>\n",
       "      <td>20.321044</td>\n",
       "      <td>-0.233608</td>\n",
       "      <td>down</td>\n",
       "      <td>0.50000</td>\n",
       "      <td>-1.126530</td>\n",
       "      <td>-1.046674</td>\n",
       "      <td>15.881325</td>\n",
       "      <td>38.378813</td>\n",
       "      <td>34.398507</td>\n",
       "      <td>-80.025451</td>\n",
       "    </tr>\n",
       "    <tr>\n",
       "      <th>1</th>\n",
       "      <td>2010-05-19</td>\n",
       "      <td>25.790001</td>\n",
       "      <td>25.790001</td>\n",
       "      <td>24.760000</td>\n",
       "      <td>25.570000</td>\n",
       "      <td>18.360744</td>\n",
       "      <td>9500.0</td>\n",
       "      <td>20.070681</td>\n",
       "      <td>-0.250363</td>\n",
       "      <td>down</td>\n",
       "      <td>0.50000</td>\n",
       "      <td>-1.185363</td>\n",
       "      <td>-1.074412</td>\n",
       "      <td>22.031663</td>\n",
       "      <td>25.671497</td>\n",
       "      <td>32.670357</td>\n",
       "      <td>-83.538466</td>\n",
       "    </tr>\n",
       "    <tr>\n",
       "      <th>2</th>\n",
       "      <td>2010-05-20</td>\n",
       "      <td>24.540001</td>\n",
       "      <td>24.540001</td>\n",
       "      <td>23.680000</td>\n",
       "      <td>23.900000</td>\n",
       "      <td>17.161591</td>\n",
       "      <td>8000.0</td>\n",
       "      <td>19.726971</td>\n",
       "      <td>-0.343710</td>\n",
       "      <td>down</td>\n",
       "      <td>0.00000</td>\n",
       "      <td>-1.313607</td>\n",
       "      <td>-1.122251</td>\n",
       "      <td>14.144961</td>\n",
       "      <td>17.352650</td>\n",
       "      <td>27.670180</td>\n",
       "      <td>-96.636096</td>\n",
       "    </tr>\n",
       "    <tr>\n",
       "      <th>3</th>\n",
       "      <td>2010-05-21</td>\n",
       "      <td>23.959999</td>\n",
       "      <td>25.260000</td>\n",
       "      <td>23.500000</td>\n",
       "      <td>25.200001</td>\n",
       "      <td>18.095066</td>\n",
       "      <td>6900.0</td>\n",
       "      <td>19.486661</td>\n",
       "      <td>-0.240310</td>\n",
       "      <td>down</td>\n",
       "      <td>0.50000</td>\n",
       "      <td>-1.324648</td>\n",
       "      <td>-1.162730</td>\n",
       "      <td>23.086276</td>\n",
       "      <td>19.754300</td>\n",
       "      <td>35.895162</td>\n",
       "      <td>-70.740087</td>\n",
       "    </tr>\n",
       "    <tr>\n",
       "      <th>4</th>\n",
       "      <td>2010-05-24</td>\n",
       "      <td>25.430000</td>\n",
       "      <td>25.430000</td>\n",
       "      <td>25.020000</td>\n",
       "      <td>25.020000</td>\n",
       "      <td>17.965815</td>\n",
       "      <td>2900.0</td>\n",
       "      <td>19.253053</td>\n",
       "      <td>-0.233608</td>\n",
       "      <td>down</td>\n",
       "      <td>0.23973</td>\n",
       "      <td>-1.328514</td>\n",
       "      <td>-1.195887</td>\n",
       "      <td>30.704057</td>\n",
       "      <td>22.645098</td>\n",
       "      <td>35.296656</td>\n",
       "      <td>-73.097335</td>\n",
       "    </tr>\n",
       "  </tbody>\n",
       "</table>\n",
       "</div>"
      ],
      "text/plain": [
       "         Date       Open       High        Low      Close  Adj Close   Volume  \\\n",
       "0  2010-05-18  27.180000  27.180000  25.870001  26.070000  18.719772  12300.0   \n",
       "1  2010-05-19  25.790001  25.790001  24.760000  25.570000  18.360744   9500.0   \n",
       "2  2010-05-20  24.540001  24.540001  23.680000  23.900000  17.161591   8000.0   \n",
       "3  2010-05-21  23.959999  25.260000  23.500000  25.200001  18.095066   6900.0   \n",
       "4  2010-05-24  25.430000  25.430000  25.020000  25.020000  17.965815   2900.0   \n",
       "\n",
       "      sma_15  sma_15_diff Trend  Trading Signal      macd  macdsignal  \\\n",
       "0  20.321044    -0.233608  down         0.50000 -1.126530   -1.046674   \n",
       "1  20.070681    -0.250363  down         0.50000 -1.185363   -1.074412   \n",
       "2  19.726971    -0.343710  down         0.00000 -1.313607   -1.122251   \n",
       "3  19.486661    -0.240310  down         0.50000 -1.324648   -1.162730   \n",
       "4  19.253053    -0.233608  down         0.23973 -1.328514   -1.195887   \n",
       "\n",
       "       slowk      slowd        RSI      WILLR  \n",
       "0  15.881325  38.378813  34.398507 -80.025451  \n",
       "1  22.031663  25.671497  32.670357 -83.538466  \n",
       "2  14.144961  17.352650  27.670180 -96.636096  \n",
       "3  23.086276  19.754300  35.895162 -70.740087  \n",
       "4  30.704057  22.645098  35.296656 -73.097335  "
      ]
     },
     "execution_count": 8,
     "metadata": {},
     "output_type": "execute_result"
    }
   ],
   "source": [
    "df.head()"
   ]
  },
  {
   "cell_type": "code",
   "execution_count": 9,
   "metadata": {},
   "outputs": [],
   "source": [
    "df.to_csv('trainData.csv', index=False)"
   ]
  },
  {
   "cell_type": "code",
   "execution_count": 10,
   "metadata": {},
   "outputs": [],
   "source": [
    "from sklearn.preprocessing import MinMaxScaler\n",
    "\n",
    "scaler = MinMaxScaler()"
   ]
  },
  {
   "cell_type": "code",
   "execution_count": 11,
   "metadata": {},
   "outputs": [],
   "source": [
    "data = df[(df.Date > '2016-01-01') & (df.Date < '2020-01-01')][['sma_15', 'macd', 'macdsignal', 'slowk', 'slowd', 'RSI', 'WILLR']]\n",
    "\n",
    "scaler.fit(data)\n",
    "\n",
    "import pickle\n",
    "\n",
    "with open(\"sclar.pickle\", \"wb\") as file_:\n",
    "    pickle.dump(scaler, file_, -1)\n",
    "\n",
    "X = scaler.transform(data)\n",
    "\n",
    "y = df[(df.Date > '2016-01-01') & (df.Date < '2020-01-01')]['Trading Signal'].values"
   ]
  },
  {
   "cell_type": "code",
   "execution_count": 13,
   "metadata": {},
   "outputs": [
    {
     "data": {
      "text/plain": [
       "771856"
      ]
     },
     "execution_count": 13,
     "metadata": {},
     "output_type": "execute_result"
    }
   ],
   "source": [
    "len(X)"
   ]
  },
  {
   "cell_type": "code",
   "execution_count": 14,
   "metadata": {},
   "outputs": [],
   "source": [
    "test = df[df.Date >= '2020-01-01'][['sma_15', 'macd', 'macdsignal', 'slowk', 'slowd', 'RSI', 'WILLR']]\n",
    "\n",
    "X_test = scaler.transform(test)\n",
    "\n",
    "y_test = df[df.Date >= '2020-01-01']['Trading Signal'].values"
   ]
  },
  {
   "cell_type": "code",
   "execution_count": 15,
   "metadata": {},
   "outputs": [],
   "source": [
    "import numpy as np\n",
    "import time\n",
    "\n",
    "\n",
    "def _mean_squared_error(y, pred):\n",
    "    return 0.5 * np.mean((y - pred) ** 2)\n",
    "\n",
    "\n",
    "def _mean_abs_error(y, pred):\n",
    "    return np.mean(np.abs(y, pred))\n",
    "\n",
    "\n",
    "def _sigmoid(x):\n",
    "    return 1. / (1. + np.exp(-x))\n",
    "\n",
    "def _tanh(x):\n",
    "    return np.tanh(x)\n",
    "\n",
    "def _fourier(x):\n",
    "    return np.sin(x)\n",
    "\n",
    "\n",
    "def _hardlimit(x):\n",
    "    return (x >= 0).astype(int)\n",
    "\n",
    "\n",
    "def _identity(x):\n",
    "    return x\n",
    "\n",
    "\n",
    "def getActivation(name):\n",
    "    return {\n",
    "        'sigmoid': _sigmoid,\n",
    "        'fourier': _fourier,\n",
    "        'hardlimit': _hardlimit,\n",
    "        'tanh': _tanh\n",
    "    }[name]\n",
    "\n",
    "\n",
    "def getLoss(name):\n",
    "    return {\n",
    "        'mse': _mean_squared_error,\n",
    "        'mae': _mean_abs_error\n",
    "    }[name]\n",
    "\n",
    "\n",
    "class ELM:\n",
    "    def __init__(self, num_input_nodes, num_hidden_units, num_out_units, activation='sigmoid',\n",
    "                 loss='mse', beta_init=None, w_init=None, bias_init=None):\n",
    "        self._num_input_nodes = num_input_nodes\n",
    "        self._num_hidden_units = num_hidden_units\n",
    "        self._num_out_units = num_out_units\n",
    "\n",
    "        self._activation = getActivation(activation)\n",
    "        self._loss = getLoss(loss)\n",
    "\n",
    "        if isinstance(beta_init, np.ndarray):\n",
    "            self._beta = beta_init\n",
    "        else:\n",
    "            self._beta = np.random.uniform(-1., 1., size=(self._num_hidden_units, self._num_out_units))\n",
    "\n",
    "        if isinstance(w_init, np.ndarray):\n",
    "            self._w = w_init\n",
    "        else:\n",
    "            self._w = np.random.uniform(-1, 1, size=(self._num_input_nodes, self._num_hidden_units))\n",
    "\n",
    "        if isinstance(bias_init, np.ndarray):\n",
    "            self._bias = bias_init\n",
    "        else:\n",
    "            self._bias = np.zeros(shape=(self._num_hidden_units,))\n",
    "\n",
    "        print('Bias shape:', self._bias.shape)\n",
    "        print('W shape:', self._w.shape)\n",
    "        print('Beta shape:', self._beta.shape)\n",
    "\n",
    "    def fit(self, X, Y, display_time=False):\n",
    "        H = self._activation(X.dot(self._w) + self._bias)\n",
    "\n",
    "        # Moore–Penrose pseudo inverse\n",
    "        if display_time:\n",
    "            start = time.time()\n",
    "        H_pinv = np.linalg.pinv(H)\n",
    "        if display_time:\n",
    "            stop = time.time()\n",
    "            print(f'Train time: {stop-start}')\n",
    "\n",
    "        self._beta = H_pinv.dot(Y)\n",
    "\n",
    "        # print('Fit Beta shape:', self._beta.shape)\n",
    "\n",
    "    def __call__(self, X):\n",
    "        H = self._activation(X.dot(self._w) + self._bias)\n",
    "        return H.dot(self._beta)\n",
    "\n",
    "    def evaluate(self, X, Y):\n",
    "        pred = self(X)\n",
    "\n",
    "        # Loss (base on model setting)\n",
    "        loss = self._loss(Y, pred)\n",
    "\n",
    "        # Accuracy\n",
    "        acc = np.sum(np.argmax(pred, axis=-1) == np.argmax(Y, axis=-1)) / len(Y)\n",
    "\n",
    "        # Unweighted Average Recall\n",
    "        # TODO\n",
    "\n",
    "        return loss, acc"
   ]
  },
  {
   "cell_type": "code",
   "execution_count": 17,
   "metadata": {
    "scrolled": true
   },
   "outputs": [
    {
     "name": "stdout",
     "output_type": "stream",
     "text": [
      "activation:  sigmoid\n",
      "hiddent_layer:  3\n",
      "Bias shape: (3,)\n",
      "W shape: (7, 3)\n",
      "Beta shape: (3, 1)\n",
      "Train time: 0.08255410194396973\n",
      "hiddent_layer:  4\n",
      "Bias shape: (4,)\n",
      "W shape: (7, 4)\n",
      "Beta shape: (4, 1)\n",
      "Train time: 0.11990237236022949\n",
      "hiddent_layer:  5\n",
      "Bias shape: (5,)\n",
      "W shape: (7, 5)\n",
      "Beta shape: (5, 1)\n",
      "Train time: 0.15575170516967773\n",
      "hiddent_layer:  6\n",
      "Bias shape: (6,)\n",
      "W shape: (7, 6)\n",
      "Beta shape: (6, 1)\n",
      "Train time: 0.20953011512756348\n",
      "hiddent_layer:  7\n",
      "Bias shape: (7,)\n",
      "W shape: (7, 7)\n",
      "Beta shape: (7, 1)\n",
      "Train time: 0.29536938667297363\n",
      "hiddent_layer:  8\n",
      "Bias shape: (8,)\n",
      "W shape: (7, 8)\n",
      "Beta shape: (8, 1)\n",
      "Train time: 0.31659865379333496\n",
      "hiddent_layer:  9\n",
      "Bias shape: (9,)\n",
      "W shape: (7, 9)\n",
      "Beta shape: (9, 1)\n",
      "Train time: 0.34644198417663574\n",
      "hiddent_layer:  10\n",
      "Bias shape: (10,)\n",
      "W shape: (7, 10)\n",
      "Beta shape: (10, 1)\n",
      "Train time: 0.43500351905822754\n",
      "hiddent_layer:  11\n",
      "Bias shape: (11,)\n",
      "W shape: (7, 11)\n",
      "Beta shape: (11, 1)\n",
      "Train time: 0.5083446502685547\n",
      "hiddent_layer:  12\n",
      "Bias shape: (12,)\n",
      "W shape: (7, 12)\n",
      "Beta shape: (12, 1)\n",
      "Train time: 0.5576322078704834\n",
      "hiddent_layer:  13\n",
      "Bias shape: (13,)\n",
      "W shape: (7, 13)\n",
      "Beta shape: (13, 1)\n",
      "Train time: 0.8159995079040527\n",
      "hiddent_layer:  14\n",
      "Bias shape: (14,)\n",
      "W shape: (7, 14)\n",
      "Beta shape: (14, 1)\n",
      "Train time: 0.9764759540557861\n",
      "hiddent_layer:  15\n",
      "Bias shape: (15,)\n",
      "W shape: (7, 15)\n",
      "Beta shape: (15, 1)\n",
      "Train time: 0.9104328155517578\n",
      "hiddent_layer:  16\n",
      "Bias shape: (16,)\n",
      "W shape: (7, 16)\n",
      "Beta shape: (16, 1)\n",
      "Train time: 1.0126497745513916\n",
      "hiddent_layer:  17\n",
      "Bias shape: (17,)\n",
      "W shape: (7, 17)\n",
      "Beta shape: (17, 1)\n",
      "Train time: 1.1835672855377197\n",
      "hiddent_layer:  18\n",
      "Bias shape: (18,)\n",
      "W shape: (7, 18)\n",
      "Beta shape: (18, 1)\n",
      "Train time: 1.2287168502807617\n",
      "hiddent_layer:  19\n",
      "Bias shape: (19,)\n",
      "W shape: (7, 19)\n",
      "Beta shape: (19, 1)\n",
      "Train time: 1.3076999187469482\n",
      "hiddent_layer:  20\n",
      "Bias shape: (20,)\n",
      "W shape: (7, 20)\n",
      "Beta shape: (20, 1)\n",
      "Train time: 1.4245176315307617\n",
      "hiddent_layer:  21\n",
      "Bias shape: (21,)\n",
      "W shape: (7, 21)\n",
      "Beta shape: (21, 1)\n",
      "Train time: 1.5558505058288574\n",
      "hiddent_layer:  22\n",
      "Bias shape: (22,)\n",
      "W shape: (7, 22)\n",
      "Beta shape: (22, 1)\n",
      "Train time: 1.9305634498596191\n",
      "hiddent_layer:  23\n",
      "Bias shape: (23,)\n",
      "W shape: (7, 23)\n",
      "Beta shape: (23, 1)\n",
      "Train time: 1.8778502941131592\n",
      "hiddent_layer:  24\n",
      "Bias shape: (24,)\n",
      "W shape: (7, 24)\n",
      "Beta shape: (24, 1)\n",
      "Train time: 2.0480599403381348\n",
      "hiddent_layer:  25\n",
      "Bias shape: (25,)\n",
      "W shape: (7, 25)\n",
      "Beta shape: (25, 1)\n",
      "Train time: 1.9973855018615723\n",
      "hiddent_layer:  26\n",
      "Bias shape: (26,)\n",
      "W shape: (7, 26)\n",
      "Beta shape: (26, 1)\n",
      "Train time: 2.225281238555908\n",
      "hiddent_layer:  27\n",
      "Bias shape: (27,)\n",
      "W shape: (7, 27)\n",
      "Beta shape: (27, 1)\n",
      "Train time: 2.279893398284912\n",
      "hiddent_layer:  28\n",
      "Bias shape: (28,)\n",
      "W shape: (7, 28)\n",
      "Beta shape: (28, 1)\n",
      "Train time: 2.3475453853607178\n",
      "hiddent_layer:  29\n",
      "Bias shape: (29,)\n",
      "W shape: (7, 29)\n",
      "Beta shape: (29, 1)\n",
      "Train time: 2.474673271179199\n",
      "activation:  fourier\n",
      "hiddent_layer:  3\n",
      "Bias shape: (3,)\n",
      "W shape: (7, 3)\n",
      "Beta shape: (3, 1)\n",
      "Train time: 0.08910489082336426\n",
      "hiddent_layer:  4\n",
      "Bias shape: (4,)\n",
      "W shape: (7, 4)\n",
      "Beta shape: (4, 1)\n",
      "Train time: 0.1286008358001709\n",
      "hiddent_layer:  5\n",
      "Bias shape: (5,)\n",
      "W shape: (7, 5)\n",
      "Beta shape: (5, 1)\n",
      "Train time: 0.16887378692626953\n",
      "hiddent_layer:  6\n",
      "Bias shape: (6,)\n",
      "W shape: (7, 6)\n",
      "Beta shape: (6, 1)\n",
      "Train time: 0.21936702728271484\n",
      "hiddent_layer:  7\n",
      "Bias shape: (7,)\n",
      "W shape: (7, 7)\n",
      "Beta shape: (7, 1)\n",
      "Train time: 0.2795248031616211\n",
      "hiddent_layer:  8\n",
      "Bias shape: (8,)\n",
      "W shape: (7, 8)\n",
      "Beta shape: (8, 1)\n",
      "Train time: 0.34336256980895996\n",
      "hiddent_layer:  9\n",
      "Bias shape: (9,)\n",
      "W shape: (7, 9)\n",
      "Beta shape: (9, 1)\n",
      "Train time: 0.398146390914917\n",
      "hiddent_layer:  10\n",
      "Bias shape: (10,)\n",
      "W shape: (7, 10)\n",
      "Beta shape: (10, 1)\n",
      "Train time: 0.46793174743652344\n",
      "hiddent_layer:  11\n",
      "Bias shape: (11,)\n",
      "W shape: (7, 11)\n",
      "Beta shape: (11, 1)\n",
      "Train time: 0.5604879856109619\n",
      "hiddent_layer:  12\n",
      "Bias shape: (12,)\n",
      "W shape: (7, 12)\n",
      "Beta shape: (12, 1)\n",
      "Train time: 0.635495662689209\n",
      "hiddent_layer:  13\n",
      "Bias shape: (13,)\n",
      "W shape: (7, 13)\n",
      "Beta shape: (13, 1)\n",
      "Train time: 0.7334449291229248\n",
      "hiddent_layer:  14\n",
      "Bias shape: (14,)\n",
      "W shape: (7, 14)\n",
      "Beta shape: (14, 1)\n",
      "Train time: 0.7645378112792969\n",
      "hiddent_layer:  15\n",
      "Bias shape: (15,)\n",
      "W shape: (7, 15)\n",
      "Beta shape: (15, 1)\n",
      "Train time: 0.8689084053039551\n",
      "hiddent_layer:  16\n",
      "Bias shape: (16,)\n",
      "W shape: (7, 16)\n",
      "Beta shape: (16, 1)\n",
      "Train time: 0.995894193649292\n",
      "hiddent_layer:  17\n",
      "Bias shape: (17,)\n",
      "W shape: (7, 17)\n",
      "Beta shape: (17, 1)\n",
      "Train time: 1.1252272129058838\n",
      "hiddent_layer:  18\n",
      "Bias shape: (18,)\n",
      "W shape: (7, 18)\n",
      "Beta shape: (18, 1)\n",
      "Train time: 1.189244270324707\n",
      "hiddent_layer:  19\n",
      "Bias shape: (19,)\n",
      "W shape: (7, 19)\n",
      "Beta shape: (19, 1)\n",
      "Train time: 1.2729029655456543\n",
      "hiddent_layer:  20\n",
      "Bias shape: (20,)\n",
      "W shape: (7, 20)\n",
      "Beta shape: (20, 1)\n",
      "Train time: 1.3851938247680664\n",
      "hiddent_layer:  21\n",
      "Bias shape: (21,)\n",
      "W shape: (7, 21)\n",
      "Beta shape: (21, 1)\n",
      "Train time: 1.4871141910552979\n",
      "hiddent_layer:  22\n",
      "Bias shape: (22,)\n",
      "W shape: (7, 22)\n",
      "Beta shape: (22, 1)\n",
      "Train time: 1.56868314743042\n",
      "hiddent_layer:  23\n",
      "Bias shape: (23,)\n",
      "W shape: (7, 23)\n",
      "Beta shape: (23, 1)\n",
      "Train time: 1.6978495121002197\n",
      "hiddent_layer:  24\n",
      "Bias shape: (24,)\n",
      "W shape: (7, 24)\n",
      "Beta shape: (24, 1)\n",
      "Train time: 1.824446678161621\n",
      "hiddent_layer:  25\n",
      "Bias shape: (25,)\n",
      "W shape: (7, 25)\n",
      "Beta shape: (25, 1)\n",
      "Train time: 1.930769920349121\n",
      "hiddent_layer:  26\n",
      "Bias shape: (26,)\n",
      "W shape: (7, 26)\n",
      "Beta shape: (26, 1)\n",
      "Train time: 2.1035003662109375\n",
      "hiddent_layer:  27\n",
      "Bias shape: (27,)\n",
      "W shape: (7, 27)\n",
      "Beta shape: (27, 1)\n",
      "Train time: 2.2160089015960693\n",
      "hiddent_layer:  28\n",
      "Bias shape: (28,)\n",
      "W shape: (7, 28)\n",
      "Beta shape: (28, 1)\n",
      "Train time: 2.35836124420166\n",
      "hiddent_layer:  29\n",
      "Bias shape: (29,)\n",
      "W shape: (7, 29)\n",
      "Beta shape: (29, 1)\n",
      "Train time: 2.6190052032470703\n",
      "activation:  hardlimit\n",
      "hiddent_layer:  3\n",
      "Bias shape: (3,)\n",
      "W shape: (7, 3)\n",
      "Beta shape: (3, 1)\n",
      "Train time: 0.1153113842010498\n",
      "hiddent_layer:  4\n",
      "Bias shape: (4,)\n",
      "W shape: (7, 4)\n",
      "Beta shape: (4, 1)\n",
      "Train time: 0.17220044136047363\n",
      "hiddent_layer:  5\n",
      "Bias shape: (5,)\n",
      "W shape: (7, 5)\n",
      "Beta shape: (5, 1)\n",
      "Train time: 0.21721434593200684\n",
      "hiddent_layer:  6\n",
      "Bias shape: (6,)\n",
      "W shape: (7, 6)\n",
      "Beta shape: (6, 1)\n",
      "Train time: 0.27153968811035156\n",
      "hiddent_layer:  7\n",
      "Bias shape: (7,)\n",
      "W shape: (7, 7)\n",
      "Beta shape: (7, 1)\n",
      "Train time: 0.3335907459259033\n",
      "hiddent_layer:  8\n",
      "Bias shape: (8,)\n",
      "W shape: (7, 8)\n",
      "Beta shape: (8, 1)\n",
      "Train time: 0.36910104751586914\n",
      "hiddent_layer:  9\n",
      "Bias shape: (9,)\n",
      "W shape: (7, 9)\n",
      "Beta shape: (9, 1)\n",
      "Train time: 0.4319627285003662\n",
      "hiddent_layer:  10\n",
      "Bias shape: (10,)\n",
      "W shape: (7, 10)\n",
      "Beta shape: (10, 1)\n",
      "Train time: 0.5073456764221191\n",
      "hiddent_layer:  11\n",
      "Bias shape: (11,)\n",
      "W shape: (7, 11)\n",
      "Beta shape: (11, 1)\n",
      "Train time: 0.5747902393341064\n",
      "hiddent_layer:  12\n",
      "Bias shape: (12,)\n",
      "W shape: (7, 12)\n",
      "Beta shape: (12, 1)\n",
      "Train time: 0.6784882545471191\n",
      "hiddent_layer:  13\n",
      "Bias shape: (13,)\n",
      "W shape: (7, 13)\n",
      "Beta shape: (13, 1)\n",
      "Train time: 0.7167222499847412\n",
      "hiddent_layer:  14\n",
      "Bias shape: (14,)\n",
      "W shape: (7, 14)\n",
      "Beta shape: (14, 1)\n",
      "Train time: 0.8073084354400635\n",
      "hiddent_layer:  15\n",
      "Bias shape: (15,)\n",
      "W shape: (7, 15)\n",
      "Beta shape: (15, 1)\n",
      "Train time: 0.8743295669555664\n",
      "hiddent_layer:  16\n",
      "Bias shape: (16,)\n",
      "W shape: (7, 16)\n",
      "Beta shape: (16, 1)\n",
      "Train time: 1.0162708759307861\n",
      "hiddent_layer:  17\n",
      "Bias shape: (17,)\n",
      "W shape: (7, 17)\n",
      "Beta shape: (17, 1)\n",
      "Train time: 1.045292615890503\n",
      "hiddent_layer:  18\n",
      "Bias shape: (18,)\n",
      "W shape: (7, 18)\n",
      "Beta shape: (18, 1)\n",
      "Train time: 1.2312986850738525\n",
      "hiddent_layer:  19\n",
      "Bias shape: (19,)\n",
      "W shape: (7, 19)\n",
      "Beta shape: (19, 1)\n",
      "Train time: 1.3335204124450684\n",
      "hiddent_layer:  20\n",
      "Bias shape: (20,)\n",
      "W shape: (7, 20)\n",
      "Beta shape: (20, 1)\n",
      "Train time: 1.4119393825531006\n",
      "hiddent_layer:  21\n",
      "Bias shape: (21,)\n",
      "W shape: (7, 21)\n",
      "Beta shape: (21, 1)\n",
      "Train time: 1.5050487518310547\n",
      "hiddent_layer:  22\n",
      "Bias shape: (22,)\n",
      "W shape: (7, 22)\n",
      "Beta shape: (22, 1)\n",
      "Train time: 1.5542654991149902\n",
      "hiddent_layer:  23\n",
      "Bias shape: (23,)\n",
      "W shape: (7, 23)\n",
      "Beta shape: (23, 1)\n",
      "Train time: 1.7098424434661865\n",
      "hiddent_layer:  24\n",
      "Bias shape: (24,)\n",
      "W shape: (7, 24)\n",
      "Beta shape: (24, 1)\n",
      "Train time: 1.8804092407226562\n",
      "hiddent_layer:  25\n",
      "Bias shape: (25,)\n",
      "W shape: (7, 25)\n",
      "Beta shape: (25, 1)\n",
      "Train time: 1.9496605396270752\n",
      "hiddent_layer:  26\n",
      "Bias shape: (26,)\n",
      "W shape: (7, 26)\n",
      "Beta shape: (26, 1)\n",
      "Train time: 2.0775959491729736\n",
      "hiddent_layer:  27\n",
      "Bias shape: (27,)\n",
      "W shape: (7, 27)\n",
      "Beta shape: (27, 1)\n"
     ]
    },
    {
     "name": "stdout",
     "output_type": "stream",
     "text": [
      "Train time: 2.2374045848846436\n",
      "hiddent_layer:  28\n",
      "Bias shape: (28,)\n",
      "W shape: (7, 28)\n",
      "Beta shape: (28, 1)\n",
      "Train time: 2.3532562255859375\n",
      "hiddent_layer:  29\n",
      "Bias shape: (29,)\n",
      "W shape: (7, 29)\n",
      "Beta shape: (29, 1)\n",
      "Train time: 2.3948678970336914\n",
      "activation:  tanh\n",
      "hiddent_layer:  3\n",
      "Bias shape: (3,)\n",
      "W shape: (7, 3)\n",
      "Beta shape: (3, 1)\n",
      "Train time: 0.09632658958435059\n",
      "hiddent_layer:  4\n",
      "Bias shape: (4,)\n",
      "W shape: (7, 4)\n",
      "Beta shape: (4, 1)\n",
      "Train time: 0.1259756088256836\n",
      "hiddent_layer:  5\n",
      "Bias shape: (5,)\n",
      "W shape: (7, 5)\n",
      "Beta shape: (5, 1)\n",
      "Train time: 0.1704263687133789\n",
      "hiddent_layer:  6\n",
      "Bias shape: (6,)\n",
      "W shape: (7, 6)\n",
      "Beta shape: (6, 1)\n",
      "Train time: 0.2326030731201172\n",
      "hiddent_layer:  7\n",
      "Bias shape: (7,)\n",
      "W shape: (7, 7)\n",
      "Beta shape: (7, 1)\n",
      "Train time: 0.2818410396575928\n",
      "hiddent_layer:  8\n",
      "Bias shape: (8,)\n",
      "W shape: (7, 8)\n",
      "Beta shape: (8, 1)\n",
      "Train time: 0.3733491897583008\n",
      "hiddent_layer:  9\n",
      "Bias shape: (9,)\n",
      "W shape: (7, 9)\n",
      "Beta shape: (9, 1)\n",
      "Train time: 0.42964887619018555\n",
      "hiddent_layer:  10\n",
      "Bias shape: (10,)\n",
      "W shape: (7, 10)\n",
      "Beta shape: (10, 1)\n",
      "Train time: 0.48247480392456055\n",
      "hiddent_layer:  11\n",
      "Bias shape: (11,)\n",
      "W shape: (7, 11)\n",
      "Beta shape: (11, 1)\n",
      "Train time: 0.5460484027862549\n",
      "hiddent_layer:  12\n",
      "Bias shape: (12,)\n",
      "W shape: (7, 12)\n",
      "Beta shape: (12, 1)\n",
      "Train time: 0.630786657333374\n",
      "hiddent_layer:  13\n",
      "Bias shape: (13,)\n",
      "W shape: (7, 13)\n",
      "Beta shape: (13, 1)\n",
      "Train time: 0.7019901275634766\n",
      "hiddent_layer:  14\n",
      "Bias shape: (14,)\n",
      "W shape: (7, 14)\n",
      "Beta shape: (14, 1)\n",
      "Train time: 0.8256564140319824\n",
      "hiddent_layer:  15\n",
      "Bias shape: (15,)\n",
      "W shape: (7, 15)\n",
      "Beta shape: (15, 1)\n",
      "Train time: 0.8699345588684082\n",
      "hiddent_layer:  16\n",
      "Bias shape: (16,)\n",
      "W shape: (7, 16)\n",
      "Beta shape: (16, 1)\n",
      "Train time: 0.990919828414917\n",
      "hiddent_layer:  17\n",
      "Bias shape: (17,)\n",
      "W shape: (7, 17)\n",
      "Beta shape: (17, 1)\n",
      "Train time: 1.0618102550506592\n",
      "hiddent_layer:  18\n",
      "Bias shape: (18,)\n",
      "W shape: (7, 18)\n",
      "Beta shape: (18, 1)\n",
      "Train time: 1.1909778118133545\n",
      "hiddent_layer:  19\n",
      "Bias shape: (19,)\n",
      "W shape: (7, 19)\n",
      "Beta shape: (19, 1)\n",
      "Train time: 1.275541067123413\n",
      "hiddent_layer:  20\n",
      "Bias shape: (20,)\n",
      "W shape: (7, 20)\n",
      "Beta shape: (20, 1)\n",
      "Train time: 1.3626761436462402\n",
      "hiddent_layer:  21\n",
      "Bias shape: (21,)\n",
      "W shape: (7, 21)\n",
      "Beta shape: (21, 1)\n",
      "Train time: 1.4766879081726074\n",
      "hiddent_layer:  22\n",
      "Bias shape: (22,)\n",
      "W shape: (7, 22)\n",
      "Beta shape: (22, 1)\n",
      "Train time: 1.5811173915863037\n",
      "hiddent_layer:  23\n",
      "Bias shape: (23,)\n",
      "W shape: (7, 23)\n",
      "Beta shape: (23, 1)\n",
      "Train time: 1.7310001850128174\n",
      "hiddent_layer:  24\n",
      "Bias shape: (24,)\n",
      "W shape: (7, 24)\n",
      "Beta shape: (24, 1)\n",
      "Train time: 1.8317809104919434\n",
      "hiddent_layer:  25\n",
      "Bias shape: (25,)\n",
      "W shape: (7, 25)\n",
      "Beta shape: (25, 1)\n",
      "Train time: 1.9453444480895996\n",
      "hiddent_layer:  26\n",
      "Bias shape: (26,)\n",
      "W shape: (7, 26)\n",
      "Beta shape: (26, 1)\n",
      "Train time: 2.0909531116485596\n",
      "hiddent_layer:  27\n",
      "Bias shape: (27,)\n",
      "W shape: (7, 27)\n",
      "Beta shape: (27, 1)\n",
      "Train time: 2.2148237228393555\n",
      "hiddent_layer:  28\n",
      "Bias shape: (28,)\n",
      "W shape: (7, 28)\n",
      "Beta shape: (28, 1)\n",
      "Train time: 2.378796100616455\n",
      "hiddent_layer:  29\n",
      "Bias shape: (29,)\n",
      "W shape: (7, 29)\n",
      "Beta shape: (29, 1)\n",
      "Train time: 2.512441873550415\n"
     ]
    }
   ],
   "source": [
    "best_hidden_layer = 0\n",
    "best_train_loss = 1e9\n",
    "best_activation = None\n",
    "activations = ['sigmoid', 'fourier', 'hardlimit', 'tanh']\n",
    "\n",
    "input_length = 7\n",
    "num_classes = 1\n",
    "\n",
    "\n",
    "for act in activations:\n",
    "    print('activation: ', act)\n",
    "    for i in range(3, 30):\n",
    "        print('hiddent_layer: ', i)\n",
    "        num_hidden_layers = i\n",
    "        model = ELM(\n",
    "            input_length,\n",
    "            num_hidden_layers,\n",
    "            num_classes, activation=act, bias_init=np.random.rand((num_hidden_layers))\n",
    "        )\n",
    "        \n",
    "        # Train\n",
    "        model.fit(X, y, display_time=True)\n",
    "        train_loss, train_acc = model.evaluate(X_test, y_test)\n",
    "\n",
    "        if train_loss < best_train_loss:\n",
    "            best_train_loss = train_loss\n",
    "            best_hidden_layer = i\n",
    "            best_activation = act"
   ]
  },
  {
   "cell_type": "code",
   "execution_count": 18,
   "metadata": {},
   "outputs": [
    {
     "name": "stdout",
     "output_type": "stream",
     "text": [
      "0.04428135286857489\n",
      "28\n",
      "tanh\n"
     ]
    }
   ],
   "source": [
    "print(best_train_loss)\n",
    "print(best_hidden_layer)\n",
    "print(best_activation)"
   ]
  },
  {
   "cell_type": "code",
   "execution_count": 19,
   "metadata": {},
   "outputs": [
    {
     "name": "stdout",
     "output_type": "stream",
     "text": [
      "Bias shape: (28,)\n",
      "W shape: (7, 28)\n",
      "Beta shape: (28, 1)\n",
      "Train time: 2.294771432876587\n",
      "train loss: 0.044693\n",
      "train acc: 0.000000\n"
     ]
    }
   ],
   "source": [
    "input_length = 7\n",
    "num_hidden_layers = best_hidden_layer\n",
    "num_classes = 1\n",
    "\n",
    "model = ELM(\n",
    "    input_length,\n",
    "    num_hidden_layers,\n",
    "    num_classes, activation=best_activation, bias_init=np.random.rand((num_hidden_layers))\n",
    ")\n",
    "\n",
    "# Train\n",
    "model.fit(X, y, display_time=True)\n",
    "train_loss, train_acc = model.evaluate(X, y)\n",
    "print('train loss: %f' % train_loss)\n",
    "print('train acc: %f' % train_acc)"
   ]
  },
  {
   "cell_type": "code",
   "execution_count": 20,
   "metadata": {},
   "outputs": [],
   "source": [
    "# import pickle\n",
    "\n",
    "with open(\"ELM.pickle\", \"wb\") as file_:\n",
    "    pickle.dump(model, file_, -1)"
   ]
  },
  {
   "cell_type": "code",
   "execution_count": 21,
   "metadata": {},
   "outputs": [],
   "source": [
    "# import pickle \n",
    "\n",
    "# model = pickle.load(open(\"ELM.pickle\", \"rb\", -1))"
   ]
  },
  {
   "cell_type": "code",
   "execution_count": 86,
   "metadata": {
    "scrolled": true
   },
   "outputs": [
    {
     "name": "stdout",
     "output_type": "stream",
     "text": [
      "try:  stockData/FSRVU.csv\n",
      "try:  stockData/CFFAU.csv\n",
      "try:  stockData/DNRCQ.csv\n",
      "try:  stockData/ASLN.csv\n",
      "try:  stockData/ITRM.csv\n",
      "try:  stockData/DWCR.csv\n",
      "try:  stockData/EVGBC.csv\n",
      "try:  stockData/ERH.csv\n",
      "try:  stockData/IMAC.csv\n",
      "try:  stockData/EVLMC.csv\n",
      "try:  stockData/CIEN.csv\n",
      "try:  stockData/DGX.csv\n",
      "try:  stockData/CCOI.csv\n"
     ]
    }
   ],
   "source": [
    "good_stocks = []\n",
    "for f in glob.glob('stockData/*csv'):\n",
    "    if f not in files:\n",
    "        df_test = pd.read_csv(f)\n",
    "        df_test = df_test[df_test.Date >= '2020-01-01']\n",
    "        if len(df_test) > 0:\n",
    "#             print(f)\n",
    "            df_test.Date = pd.to_datetime(df_test.Date)\n",
    "            \n",
    "            test = df_test[['sma_15', 'macd', 'macdsignal', 'slowk', 'slowd', 'RSI', 'WILLR']]\n",
    "\n",
    "            X_test = scaler.transform(test)\n",
    "\n",
    "            y_test = df_test['Trading Signal'].values\n",
    "\n",
    "            pred = model.__call__(X_test)\n",
    "            \n",
    "            if pred[-1] < 0.1:\n",
    "                print('try: ', f)\n",
    "\n",
    "            mse = 0.5 * np.mean((y_test - pred) ** 2)\n",
    "#             print(f, mse)\n",
    "            if mse < 0.04:\n",
    "                good_stocks.append(f)"
   ]
  },
  {
   "cell_type": "code",
   "execution_count": 33,
   "metadata": {
    "scrolled": true
   },
   "outputs": [
    {
     "name": "stdout",
     "output_type": "stream",
     "text": [
      "283\n"
     ]
    },
    {
     "data": {
      "text/plain": [
       "['stockData/BNDX.csv',\n",
       " 'stockData/EMQQ.csv',\n",
       " 'stockData/KIM.csv',\n",
       " 'stockData/FLZA.csv',\n",
       " 'stockData/AMRC.csv',\n",
       " 'stockData/IDEV.csv',\n",
       " 'stockData/IWF.csv',\n",
       " 'stockData/EMXC.csv',\n",
       " 'stockData/HWCPZ.csv',\n",
       " 'stockData/GNTX.csv',\n",
       " 'stockData/EAI.csv',\n",
       " 'stockData/HAWX.csv',\n",
       " 'stockData/KL.csv',\n",
       " 'stockData/JE.csv',\n",
       " 'stockData/CE.csv',\n",
       " 'stockData/BHAT.csv',\n",
       " 'stockData/CAPL.csv',\n",
       " 'stockData/AMTX.csv',\n",
       " 'stockData/CELC.csv',\n",
       " 'stockData/DXJS.csv',\n",
       " 'stockData/HTRB.csv',\n",
       " 'stockData/ARES.csv',\n",
       " 'stockData/APO.csv',\n",
       " 'stockData/CQQQ.csv',\n",
       " 'stockData/IWV.csv',\n",
       " 'stockData/FLKR.csv',\n",
       " 'stockData/ASG.csv',\n",
       " 'stockData/ALX.csv',\n",
       " 'stockData/IXN.csv',\n",
       " 'stockData/AGI.csv',\n",
       " 'stockData/FFA.csv',\n",
       " 'stockData/AADR.csv',\n",
       " 'stockData/HPQ.csv',\n",
       " 'stockData/BKEM.csv',\n",
       " 'stockData/GDDY.csv',\n",
       " 'stockData/BMRN.csv',\n",
       " 'stockData/HGLB.csv',\n",
       " 'stockData/AIO.csv',\n",
       " 'stockData/IQSI.csv',\n",
       " 'stockData/DKNG.csv',\n",
       " 'stockData/BBSI.csv',\n",
       " 'stockData/CLIX.csv',\n",
       " 'stockData/JEPI.csv',\n",
       " 'stockData/GGT.csv',\n",
       " 'stockData/FCG.csv',\n",
       " 'stockData/CONN.csv',\n",
       " 'stockData/BECN.csv',\n",
       " 'stockData/FNGD.csv',\n",
       " 'stockData/GLRE.csv',\n",
       " 'stockData/BPMP.csv',\n",
       " 'stockData/GMAB.csv',\n",
       " 'stockData/AFT.csv',\n",
       " 'stockData/EDZ.csv',\n",
       " 'stockData/CNRG.csv',\n",
       " 'stockData/ANGL.csv',\n",
       " 'stockData/GLDI.csv',\n",
       " 'stockData/DMAC.csv',\n",
       " 'stockData/GRVY.csv',\n",
       " 'stockData/AOM.csv',\n",
       " 'stockData/HEAR.csv',\n",
       " 'stockData/DWLD.csv',\n",
       " 'stockData/DUC.csv',\n",
       " 'stockData/HIPR.csv',\n",
       " 'stockData/BSCT.csv',\n",
       " 'stockData/AAXN.csv',\n",
       " 'stockData/ACWX.csv',\n",
       " 'stockData/AVUS.csv',\n",
       " 'stockData/APYX.csv',\n",
       " 'stockData/INDS.csv',\n",
       " 'stockData/AGM.csv',\n",
       " 'stockData/FNY.csv',\n",
       " 'stockData/BNO.csv',\n",
       " 'stockData/GMTA.csv',\n",
       " 'stockData/FDMO.csv',\n",
       " 'stockData/AZO.csv',\n",
       " 'stockData/CBIO.csv',\n",
       " 'stockData/CMG.csv',\n",
       " 'stockData/ALEC.csv',\n",
       " 'stockData/CRBP.csv',\n",
       " 'stockData/AAOI.csv',\n",
       " 'stockData/EXD.csv',\n",
       " 'stockData/ENPH.csv',\n",
       " 'stockData/IGI.csv',\n",
       " 'stockData/KAMN.csv',\n",
       " 'stockData/AOR.csv',\n",
       " 'stockData/CNS.csv',\n",
       " 'stockData/IRDM.csv',\n",
       " 'stockData/IMAB.csv',\n",
       " 'stockData/ENFR.csv',\n",
       " 'stockData/BOIL.csv',\n",
       " 'stockData/CII.csv',\n",
       " 'stockData/CSII.csv',\n",
       " 'stockData/CTXR.csv',\n",
       " 'stockData/FCAU.csv',\n",
       " 'stockData/HHS.csv',\n",
       " 'stockData/AUTO.csv',\n",
       " 'stockData/IEUR.csv',\n",
       " 'stockData/DOG.csv',\n",
       " 'stockData/CVLG.csv',\n",
       " 'stockData/KFY.csv',\n",
       " 'stockData/EZT.csv',\n",
       " 'stockData/IEI.csv',\n",
       " 'stockData/CACG.csv',\n",
       " 'stockData/CLOU.csv',\n",
       " 'stockData/DUO.csv',\n",
       " 'stockData/EWM.csv',\n",
       " 'stockData/ALGT.csv',\n",
       " 'stockData/BEAM.csv',\n",
       " 'stockData/AYX.csv',\n",
       " 'stockData/FXA.csv',\n",
       " 'stockData/CTMX.csv',\n",
       " 'stockData/IAU.csv',\n",
       " 'stockData/ELOX.csv',\n",
       " 'stockData/EZA.csv',\n",
       " 'stockData/ANGI.csv',\n",
       " 'stockData/BRKS.csv',\n",
       " 'stockData/EWC.csv',\n",
       " 'stockData/ATSG.csv',\n",
       " 'stockData/KNSL.csv',\n",
       " 'stockData/IVOG.csv',\n",
       " 'stockData/DFP.csv',\n",
       " 'stockData/KCCB.csv',\n",
       " 'stockData/CSGP.csv',\n",
       " 'stockData/FNWB.csv',\n",
       " 'stockData/FXG.csv',\n",
       " 'stockData/BASI.csv',\n",
       " 'stockData/EWY.csv',\n",
       " 'stockData/CP.csv',\n",
       " 'stockData/BCI.csv',\n",
       " 'stockData/EFZ.csv',\n",
       " 'stockData/EFA.csv',\n",
       " 'stockData/BBC.csv',\n",
       " 'stockData/IDN.csv',\n",
       " 'stockData/ALNY.csv',\n",
       " 'stockData/CLFD.csv',\n",
       " 'stockData/AVUV.csv',\n",
       " 'stockData/CABO.csv',\n",
       " 'stockData/FLWS.csv',\n",
       " 'stockData/JACK.csv',\n",
       " 'stockData/GOAU.csv',\n",
       " 'stockData/BSE.csv',\n",
       " 'stockData/FOXF.csv',\n",
       " 'stockData/KNSA.csv',\n",
       " 'stockData/FNGU.csv',\n",
       " 'stockData/AZUL.csv',\n",
       " 'stockData/EPI.csv',\n",
       " 'stockData/AVAV.csv',\n",
       " 'stockData/GOCO.csv',\n",
       " 'stockData/IJS.csv',\n",
       " 'stockData/FWONA.csv',\n",
       " 'stockData/GLCN.csv',\n",
       " 'stockData/CHY.csv',\n",
       " 'stockData/CRMD.csv',\n",
       " 'stockData/AZAL.csv',\n",
       " 'stockData/CLGX.csv',\n",
       " 'stockData/HSKA.csv',\n",
       " 'stockData/FPRX.csv',\n",
       " 'stockData/CABA.csv',\n",
       " 'stockData/IYK.csv',\n",
       " 'stockData/A.csv',\n",
       " 'stockData/FV.csv',\n",
       " 'stockData/CHMI.csv',\n",
       " 'stockData/FNDC.csv',\n",
       " 'stockData/BOND.csv',\n",
       " 'stockData/GGM.csv',\n",
       " 'stockData/EEMS.csv',\n",
       " 'stockData/BCX.csv',\n",
       " 'stockData/IPDN.csv',\n",
       " 'stockData/EVV.csv',\n",
       " 'stockData/FAD.csv',\n",
       " 'stockData/HOTH.csv',\n",
       " 'stockData/HESM.csv',\n",
       " 'stockData/DLPH.csv',\n",
       " 'stockData/EPAY.csv',\n",
       " 'stockData/BHTG.csv',\n",
       " 'stockData/ARCH.csv',\n",
       " 'stockData/ERUS.csv',\n",
       " 'stockData/IOO.csv',\n",
       " 'stockData/HSC.csv',\n",
       " 'stockData/DISH.csv',\n",
       " 'stockData/DINT.csv',\n",
       " 'stockData/AVGR.csv',\n",
       " 'stockData/IEF.csv',\n",
       " 'stockData/GLYC.csv',\n",
       " 'stockData/GOF.csv',\n",
       " 'stockData/JHMT.csv',\n",
       " 'stockData/ETN.csv',\n",
       " 'stockData/EVSI.csv',\n",
       " 'stockData/JJG.csv',\n",
       " 'stockData/DMB.csv',\n",
       " 'stockData/IWR.csv',\n",
       " 'stockData/GSJY.csv',\n",
       " 'stockData/IHTA.csv',\n",
       " 'stockData/DHR.csv',\n",
       " 'stockData/IRBT.csv',\n",
       " 'stockData/CELH.csv',\n",
       " 'stockData/BKSB.csv',\n",
       " 'stockData/JEF.csv',\n",
       " 'stockData/HACK.csv',\n",
       " 'stockData/CNI.csv',\n",
       " 'stockData/FGB.csv',\n",
       " 'stockData/BV.csv',\n",
       " 'stockData/IVV.csv',\n",
       " 'stockData/CMSD.csv',\n",
       " 'stockData/DCPH.csv',\n",
       " 'stockData/EDN.csv',\n",
       " 'stockData/EPU.csv',\n",
       " 'stockData/AVXL.csv',\n",
       " 'stockData/IYW.csv',\n",
       " 'stockData/APPF.csv',\n",
       " 'stockData/ENTX.csv',\n",
       " 'stockData/BAND.csv',\n",
       " 'stockData/FFEU.csv',\n",
       " 'stockData/FDT.csv',\n",
       " 'stockData/IRT.csv',\n",
       " 'stockData/ALTL.csv',\n",
       " 'stockData/AKBA.csv',\n",
       " 'stockData/JPIN.csv',\n",
       " 'stockData/CLSK.csv',\n",
       " 'stockData/DBP.csv',\n",
       " 'stockData/HOOK.csv',\n",
       " 'stockData/EHT.csv',\n",
       " 'stockData/ESTE.csv',\n",
       " 'stockData/EBIZ.csv',\n",
       " 'stockData/DRIP.csv',\n",
       " 'stockData/BNDW.csv',\n",
       " 'stockData/CLS.csv',\n",
       " 'stockData/GSP.csv',\n",
       " 'stockData/DDOG.csv',\n",
       " 'stockData/IWO.csv',\n",
       " 'stockData/FSV.csv',\n",
       " 'stockData/IBUY.csv',\n",
       " 'stockData/IGM.csv',\n",
       " 'stockData/IPO.csv',\n",
       " 'stockData/DG.csv',\n",
       " 'stockData/APLT.csv',\n",
       " 'stockData/KGC.csv',\n",
       " 'stockData/ACP.csv',\n",
       " 'stockData/ARGX.csv',\n",
       " 'stockData/GPP.csv',\n",
       " 'stockData/AVEO.csv',\n",
       " 'stockData/ERSX.csv',\n",
       " 'stockData/EMR.csv',\n",
       " 'stockData/HNRG.csv',\n",
       " 'stockData/BETZ.csv',\n",
       " 'stockData/FATBP.csv',\n",
       " 'stockData/FTV.csv',\n",
       " 'stockData/CZZ.csv',\n",
       " 'stockData/ARWR.csv',\n",
       " 'stockData/IP.csv',\n",
       " 'stockData/CRY.csv',\n",
       " 'stockData/AMPH.csv',\n",
       " 'stockData/IEC.csv',\n",
       " 'stockData/CWEN.csv',\n",
       " 'stockData/GAM.csv',\n",
       " 'stockData/FLIN.csv',\n",
       " 'stockData/AIA.csv',\n",
       " 'stockData/BNR.csv',\n",
       " 'stockData/FLJP.csv',\n",
       " 'stockData/CDTX.csv',\n",
       " 'stockData/FLRN.csv',\n",
       " 'stockData/CMBS.csv',\n",
       " 'stockData/CTBB.csv',\n",
       " 'stockData/IYM.csv',\n",
       " 'stockData/FLXS.csv',\n",
       " 'stockData/DHX.csv',\n",
       " 'stockData/EVTC.csv',\n",
       " 'stockData/CWS.csv',\n",
       " 'stockData/CBTX.csv',\n",
       " 'stockData/AFGD.csv',\n",
       " 'stockData/INCO.csv',\n",
       " 'stockData/ARR.csv',\n",
       " 'stockData/FTF.csv',\n",
       " 'stockData/JGH.csv',\n",
       " 'stockData/EPP.csv',\n",
       " 'stockData/JSM.csv',\n",
       " 'stockData/ADX.csv',\n",
       " 'stockData/KEP.csv',\n",
       " 'stockData/FYX.csv',\n",
       " 'stockData/CHCT.csv',\n",
       " 'stockData/DRV.csv',\n",
       " 'stockData/ARB.csv',\n",
       " 'stockData/DBMF.csv']"
      ]
     },
     "execution_count": 33,
     "metadata": {},
     "output_type": "execute_result"
    }
   ],
   "source": [
    "print(len(good_stocks))\n",
    "good_stocks"
   ]
  },
  {
   "cell_type": "code",
   "execution_count": 87,
   "metadata": {},
   "outputs": [],
   "source": [
    "df_test = pd.read_csv('stockData/CIEN.csv')\n",
    "\n",
    "df_test.Date = pd.to_datetime(df_test.Date)\n",
    "\n",
    "df_test = df_test[df_test.Date >= '2020-01-01']"
   ]
  },
  {
   "cell_type": "code",
   "execution_count": 88,
   "metadata": {},
   "outputs": [
    {
     "data": {
      "text/html": [
       "<div>\n",
       "<style scoped>\n",
       "    .dataframe tbody tr th:only-of-type {\n",
       "        vertical-align: middle;\n",
       "    }\n",
       "\n",
       "    .dataframe tbody tr th {\n",
       "        vertical-align: top;\n",
       "    }\n",
       "\n",
       "    .dataframe thead th {\n",
       "        text-align: right;\n",
       "    }\n",
       "</style>\n",
       "<table border=\"1\" class=\"dataframe\">\n",
       "  <thead>\n",
       "    <tr style=\"text-align: right;\">\n",
       "      <th></th>\n",
       "      <th>Date</th>\n",
       "      <th>Open</th>\n",
       "      <th>High</th>\n",
       "      <th>Low</th>\n",
       "      <th>Close</th>\n",
       "      <th>Adj Close</th>\n",
       "      <th>Volume</th>\n",
       "      <th>sma_15</th>\n",
       "      <th>sma_15_diff</th>\n",
       "      <th>Trend</th>\n",
       "      <th>Trading Signal</th>\n",
       "      <th>macd</th>\n",
       "      <th>macdsignal</th>\n",
       "      <th>slowk</th>\n",
       "      <th>slowd</th>\n",
       "      <th>RSI</th>\n",
       "      <th>WILLR</th>\n",
       "    </tr>\n",
       "  </thead>\n",
       "  <tbody>\n",
       "    <tr>\n",
       "      <th>5729</th>\n",
       "      <td>2020-01-02</td>\n",
       "      <td>43.250000</td>\n",
       "      <td>43.389999</td>\n",
       "      <td>42.450001</td>\n",
       "      <td>42.860001</td>\n",
       "      <td>42.860001</td>\n",
       "      <td>1470900</td>\n",
       "      <td>41.653333</td>\n",
       "      <td>0.544667</td>\n",
       "      <td>up</td>\n",
       "      <td>1.000000</td>\n",
       "      <td>1.452638</td>\n",
       "      <td>1.250546</td>\n",
       "      <td>60.668491</td>\n",
       "      <td>70.983102</td>\n",
       "      <td>69.419109</td>\n",
       "      <td>-18.500010</td>\n",
       "    </tr>\n",
       "    <tr>\n",
       "      <th>5730</th>\n",
       "      <td>2020-01-03</td>\n",
       "      <td>42.330002</td>\n",
       "      <td>42.700001</td>\n",
       "      <td>41.840000</td>\n",
       "      <td>41.869999</td>\n",
       "      <td>41.869999</td>\n",
       "      <td>1354700</td>\n",
       "      <td>42.084000</td>\n",
       "      <td>0.430667</td>\n",
       "      <td>no</td>\n",
       "      <td>0.970588</td>\n",
       "      <td>1.350756</td>\n",
       "      <td>1.270588</td>\n",
       "      <td>36.441858</td>\n",
       "      <td>55.959798</td>\n",
       "      <td>60.428474</td>\n",
       "      <td>-59.490106</td>\n",
       "    </tr>\n",
       "    <tr>\n",
       "      <th>5731</th>\n",
       "      <td>2020-01-06</td>\n",
       "      <td>41.570000</td>\n",
       "      <td>42.160000</td>\n",
       "      <td>41.500000</td>\n",
       "      <td>41.889999</td>\n",
       "      <td>41.889999</td>\n",
       "      <td>1202400</td>\n",
       "      <td>42.035333</td>\n",
       "      <td>-0.048667</td>\n",
       "      <td>no</td>\n",
       "      <td>0.732877</td>\n",
       "      <td>1.257137</td>\n",
       "      <td>1.267898</td>\n",
       "      <td>24.345897</td>\n",
       "      <td>40.485415</td>\n",
       "      <td>60.539663</td>\n",
       "      <td>-50.847444</td>\n",
       "    </tr>\n",
       "    <tr>\n",
       "      <th>5732</th>\n",
       "      <td>2020-01-07</td>\n",
       "      <td>41.730000</td>\n",
       "      <td>41.950001</td>\n",
       "      <td>41.540001</td>\n",
       "      <td>41.549999</td>\n",
       "      <td>41.549999</td>\n",
       "      <td>1163000</td>\n",
       "      <td>42.046666</td>\n",
       "      <td>0.011333</td>\n",
       "      <td>no</td>\n",
       "      <td>0.500000</td>\n",
       "      <td>1.142339</td>\n",
       "      <td>1.242786</td>\n",
       "      <td>8.405255</td>\n",
       "      <td>23.064337</td>\n",
       "      <td>57.577852</td>\n",
       "      <td>-62.372870</td>\n",
       "    </tr>\n",
       "    <tr>\n",
       "      <th>5733</th>\n",
       "      <td>2020-01-08</td>\n",
       "      <td>42.650002</td>\n",
       "      <td>43.290001</td>\n",
       "      <td>42.250000</td>\n",
       "      <td>42.279999</td>\n",
       "      <td>42.279999</td>\n",
       "      <td>2471600</td>\n",
       "      <td>42.115333</td>\n",
       "      <td>0.068667</td>\n",
       "      <td>no</td>\n",
       "      <td>1.000000</td>\n",
       "      <td>1.097614</td>\n",
       "      <td>1.213751</td>\n",
       "      <td>21.516716</td>\n",
       "      <td>18.089289</td>\n",
       "      <td>61.889026</td>\n",
       "      <td>-40.363659</td>\n",
       "    </tr>\n",
       "  </tbody>\n",
       "</table>\n",
       "</div>"
      ],
      "text/plain": [
       "           Date       Open       High        Low      Close  Adj Close  \\\n",
       "5729 2020-01-02  43.250000  43.389999  42.450001  42.860001  42.860001   \n",
       "5730 2020-01-03  42.330002  42.700001  41.840000  41.869999  41.869999   \n",
       "5731 2020-01-06  41.570000  42.160000  41.500000  41.889999  41.889999   \n",
       "5732 2020-01-07  41.730000  41.950001  41.540001  41.549999  41.549999   \n",
       "5733 2020-01-08  42.650002  43.290001  42.250000  42.279999  42.279999   \n",
       "\n",
       "       Volume     sma_15  sma_15_diff Trend  Trading Signal      macd  \\\n",
       "5729  1470900  41.653333     0.544667    up        1.000000  1.452638   \n",
       "5730  1354700  42.084000     0.430667    no        0.970588  1.350756   \n",
       "5731  1202400  42.035333    -0.048667    no        0.732877  1.257137   \n",
       "5732  1163000  42.046666     0.011333    no        0.500000  1.142339   \n",
       "5733  2471600  42.115333     0.068667    no        1.000000  1.097614   \n",
       "\n",
       "      macdsignal      slowk      slowd        RSI      WILLR  \n",
       "5729    1.250546  60.668491  70.983102  69.419109 -18.500010  \n",
       "5730    1.270588  36.441858  55.959798  60.428474 -59.490106  \n",
       "5731    1.267898  24.345897  40.485415  60.539663 -50.847444  \n",
       "5732    1.242786   8.405255  23.064337  57.577852 -62.372870  \n",
       "5733    1.213751  21.516716  18.089289  61.889026 -40.363659  "
      ]
     },
     "execution_count": 88,
     "metadata": {},
     "output_type": "execute_result"
    }
   ],
   "source": [
    "df_test.head()"
   ]
  },
  {
   "cell_type": "code",
   "execution_count": 89,
   "metadata": {},
   "outputs": [],
   "source": [
    "test = df_test[['sma_15', 'macd', 'macdsignal', 'slowk', 'slowd', 'RSI', 'WILLR']]\n",
    "\n",
    "X_test = scaler.transform(test)\n",
    "\n",
    "y_test = df_test['Trading Signal'].values"
   ]
  },
  {
   "cell_type": "code",
   "execution_count": 90,
   "metadata": {},
   "outputs": [
    {
     "data": {
      "text/plain": [
       "0.03923369366745286"
      ]
     },
     "execution_count": 90,
     "metadata": {},
     "output_type": "execute_result"
    }
   ],
   "source": [
    "pred = model.__call__(X_test)\n",
    "\n",
    "0.5 * np.mean((y_test - pred) ** 2)"
   ]
  },
  {
   "cell_type": "code",
   "execution_count": 91,
   "metadata": {},
   "outputs": [],
   "source": [
    "df_test['pred'] = pred"
   ]
  },
  {
   "cell_type": "code",
   "execution_count": 92,
   "metadata": {},
   "outputs": [
    {
     "data": {
      "application/vnd.plotly.v1+json": {
       "config": {
        "plotlyServerURL": "https://plot.ly"
       },
       "data": [
        {
         "mode": "lines",
         "name": "Trading Signal",
         "type": "scatter",
         "x": [
          "2020-01-02T00:00:00",
          "2020-01-03T00:00:00",
          "2020-01-06T00:00:00",
          "2020-01-07T00:00:00",
          "2020-01-08T00:00:00",
          "2020-01-09T00:00:00",
          "2020-01-10T00:00:00",
          "2020-01-13T00:00:00",
          "2020-01-14T00:00:00",
          "2020-01-15T00:00:00",
          "2020-01-16T00:00:00",
          "2020-01-17T00:00:00",
          "2020-01-21T00:00:00",
          "2020-01-22T00:00:00",
          "2020-01-23T00:00:00",
          "2020-01-24T00:00:00",
          "2020-01-27T00:00:00",
          "2020-01-28T00:00:00",
          "2020-01-29T00:00:00",
          "2020-01-30T00:00:00",
          "2020-01-31T00:00:00",
          "2020-02-03T00:00:00",
          "2020-02-04T00:00:00",
          "2020-02-05T00:00:00",
          "2020-02-06T00:00:00",
          "2020-02-07T00:00:00",
          "2020-02-10T00:00:00",
          "2020-02-11T00:00:00",
          "2020-02-12T00:00:00",
          "2020-02-13T00:00:00",
          "2020-02-14T00:00:00",
          "2020-02-18T00:00:00",
          "2020-02-19T00:00:00",
          "2020-02-20T00:00:00",
          "2020-02-21T00:00:00",
          "2020-02-24T00:00:00",
          "2020-02-25T00:00:00",
          "2020-02-26T00:00:00",
          "2020-02-27T00:00:00",
          "2020-02-28T00:00:00",
          "2020-03-02T00:00:00",
          "2020-03-03T00:00:00",
          "2020-03-04T00:00:00",
          "2020-03-05T00:00:00",
          "2020-03-06T00:00:00",
          "2020-03-09T00:00:00",
          "2020-03-10T00:00:00",
          "2020-03-11T00:00:00",
          "2020-03-12T00:00:00",
          "2020-03-13T00:00:00",
          "2020-03-16T00:00:00",
          "2020-03-17T00:00:00",
          "2020-03-18T00:00:00",
          "2020-03-19T00:00:00",
          "2020-03-20T00:00:00",
          "2020-03-23T00:00:00",
          "2020-03-24T00:00:00",
          "2020-03-25T00:00:00",
          "2020-03-26T00:00:00",
          "2020-03-27T00:00:00",
          "2020-03-30T00:00:00",
          "2020-03-31T00:00:00",
          "2020-04-01T00:00:00",
          "2020-04-02T00:00:00",
          "2020-04-03T00:00:00",
          "2020-04-06T00:00:00",
          "2020-04-07T00:00:00",
          "2020-04-08T00:00:00",
          "2020-04-09T00:00:00",
          "2020-04-13T00:00:00",
          "2020-04-14T00:00:00",
          "2020-04-15T00:00:00",
          "2020-04-16T00:00:00",
          "2020-04-17T00:00:00",
          "2020-04-20T00:00:00",
          "2020-04-21T00:00:00",
          "2020-04-22T00:00:00",
          "2020-04-23T00:00:00",
          "2020-04-24T00:00:00",
          "2020-04-27T00:00:00",
          "2020-04-28T00:00:00",
          "2020-04-29T00:00:00",
          "2020-04-30T00:00:00",
          "2020-05-01T00:00:00",
          "2020-05-04T00:00:00",
          "2020-05-05T00:00:00",
          "2020-05-06T00:00:00",
          "2020-05-07T00:00:00",
          "2020-05-08T00:00:00",
          "2020-05-11T00:00:00",
          "2020-05-12T00:00:00",
          "2020-05-13T00:00:00",
          "2020-05-14T00:00:00",
          "2020-05-15T00:00:00",
          "2020-05-18T00:00:00",
          "2020-05-19T00:00:00",
          "2020-05-20T00:00:00",
          "2020-05-21T00:00:00",
          "2020-05-22T00:00:00",
          "2020-05-26T00:00:00",
          "2020-05-27T00:00:00",
          "2020-05-28T00:00:00",
          "2020-05-29T00:00:00",
          "2020-06-01T00:00:00",
          "2020-06-02T00:00:00",
          "2020-06-03T00:00:00",
          "2020-06-04T00:00:00",
          "2020-06-05T00:00:00",
          "2020-06-08T00:00:00",
          "2020-06-09T00:00:00",
          "2020-06-10T00:00:00",
          "2020-06-11T00:00:00",
          "2020-06-12T00:00:00",
          "2020-06-15T00:00:00",
          "2020-06-16T00:00:00",
          "2020-06-17T00:00:00",
          "2020-06-18T00:00:00",
          "2020-06-19T00:00:00",
          "2020-06-22T00:00:00",
          "2020-06-23T00:00:00",
          "2020-06-24T00:00:00",
          "2020-06-25T00:00:00",
          "2020-06-26T00:00:00",
          "2020-06-29T00:00:00",
          "2020-06-30T00:00:00",
          "2020-07-01T00:00:00",
          "2020-07-02T00:00:00",
          "2020-07-06T00:00:00",
          "2020-07-07T00:00:00",
          "2020-07-08T00:00:00",
          "2020-07-09T00:00:00",
          "2020-07-10T00:00:00",
          "2020-07-13T00:00:00",
          "2020-07-14T00:00:00",
          "2020-07-15T00:00:00",
          "2020-07-16T00:00:00",
          "2020-07-17T00:00:00",
          "2020-07-20T00:00:00",
          "2020-07-21T00:00:00",
          "2020-07-22T00:00:00",
          "2020-07-23T00:00:00",
          "2020-07-24T00:00:00",
          "2020-07-27T00:00:00",
          "2020-07-28T00:00:00",
          "2020-07-29T00:00:00",
          "2020-07-30T00:00:00",
          "2020-07-31T00:00:00",
          "2020-08-03T00:00:00",
          "2020-08-04T00:00:00",
          "2020-08-05T00:00:00",
          "2020-08-06T00:00:00",
          "2020-08-07T00:00:00",
          "2020-08-10T00:00:00",
          "2020-08-11T00:00:00",
          "2020-08-12T00:00:00",
          "2020-08-13T00:00:00",
          "2020-08-14T00:00:00",
          "2020-08-17T00:00:00",
          "2020-08-18T00:00:00",
          "2020-08-19T00:00:00",
          "2020-08-20T00:00:00",
          "2020-08-21T00:00:00",
          "2020-08-24T00:00:00",
          "2020-08-25T00:00:00",
          "2020-08-26T00:00:00",
          "2020-08-27T00:00:00",
          "2020-08-28T00:00:00",
          "2020-08-31T00:00:00",
          "2020-09-01T00:00:00",
          "2020-09-02T00:00:00",
          "2020-09-03T00:00:00"
         ],
         "y": [
          1,
          0.970587575312188,
          0.7328769628719985,
          0.5,
          1,
          0.8066660563151042,
          0.5,
          1,
          0.5,
          0.6048397516750856,
          1,
          0.6111134658585173,
          0.5,
          0.5,
          0.7038458039772644,
          1,
          0.5,
          1,
          0.990131983466304,
          1,
          0.5,
          0.5,
          0.6234570517620575,
          0.5178564130044823,
          1,
          0.633332697552881,
          0.5,
          0.5,
          0.541674613770742,
          1,
          0.5779213380166559,
          0.5,
          0.5,
          1,
          1,
          1,
          1,
          1,
          0.7148763847992081,
          0.5,
          0,
          0,
          0.14804427603902498,
          0.5,
          0.5,
          0,
          0.5,
          0.5,
          0,
          0.23501198382640834,
          0,
          0.5,
          0,
          0.5,
          0.17963387626585567,
          0,
          0.0663714498874159,
          0,
          0.4281609888387327,
          0,
          0.5,
          0,
          0,
          0.029850624870369387,
          0,
          0,
          0.5,
          1,
          1,
          0.6879428498767663,
          1,
          0.5,
          0.5953489032290116,
          0.5366383633631164,
          1,
          0.5,
          0.5,
          0.5,
          0.5,
          1,
          0.9204549887943404,
          1,
          0.5,
          0.5,
          0.8493595700144763,
          1,
          0.5,
          0.5,
          0.5,
          1,
          1,
          0.5,
          0.5,
          0.5,
          0.5533713945269889,
          0.5,
          1,
          0.5,
          0.5,
          0.5,
          1,
          0.5,
          0.5,
          0.7578126396976868,
          0.8649783834072129,
          1,
          0.5,
          0.5,
          0.5,
          1,
          1,
          0.5,
          0.5,
          0.5833337408851046,
          1,
          1,
          0.5,
          0.5,
          1,
          1,
          0,
          0.32812388241184465,
          0.15841595377032466,
          0,
          0.5,
          0.04984919851053997,
          0,
          0.5,
          0.3000017606253741,
          0.22688980000064116,
          1,
          1,
          0.5,
          0.5983628086149536,
          0.674285888671875,
          0.5,
          1,
          0.5,
          0.5,
          0.5,
          0.5,
          0.5,
          0.8575262311623748,
          0.5,
          0.9250026226193768,
          0.5,
          0.5,
          0.5106405428218946,
          0.7281553577843701,
          0.5,
          0.953487340536896,
          1,
          1,
          0.5,
          0.9308503946594159,
          1,
          1,
          0.7434208875213951,
          0.5,
          0.5,
          1,
          1,
          1,
          1,
          1,
          0.5,
          0,
          0,
          0.4496919521118435,
          0.5,
          0
         ]
        },
        {
         "mode": "lines",
         "name": "Predictions",
         "type": "scatter",
         "x": [
          "2020-01-02T00:00:00",
          "2020-01-03T00:00:00",
          "2020-01-06T00:00:00",
          "2020-01-07T00:00:00",
          "2020-01-08T00:00:00",
          "2020-01-09T00:00:00",
          "2020-01-10T00:00:00",
          "2020-01-13T00:00:00",
          "2020-01-14T00:00:00",
          "2020-01-15T00:00:00",
          "2020-01-16T00:00:00",
          "2020-01-17T00:00:00",
          "2020-01-21T00:00:00",
          "2020-01-22T00:00:00",
          "2020-01-23T00:00:00",
          "2020-01-24T00:00:00",
          "2020-01-27T00:00:00",
          "2020-01-28T00:00:00",
          "2020-01-29T00:00:00",
          "2020-01-30T00:00:00",
          "2020-01-31T00:00:00",
          "2020-02-03T00:00:00",
          "2020-02-04T00:00:00",
          "2020-02-05T00:00:00",
          "2020-02-06T00:00:00",
          "2020-02-07T00:00:00",
          "2020-02-10T00:00:00",
          "2020-02-11T00:00:00",
          "2020-02-12T00:00:00",
          "2020-02-13T00:00:00",
          "2020-02-14T00:00:00",
          "2020-02-18T00:00:00",
          "2020-02-19T00:00:00",
          "2020-02-20T00:00:00",
          "2020-02-21T00:00:00",
          "2020-02-24T00:00:00",
          "2020-02-25T00:00:00",
          "2020-02-26T00:00:00",
          "2020-02-27T00:00:00",
          "2020-02-28T00:00:00",
          "2020-03-02T00:00:00",
          "2020-03-03T00:00:00",
          "2020-03-04T00:00:00",
          "2020-03-05T00:00:00",
          "2020-03-06T00:00:00",
          "2020-03-09T00:00:00",
          "2020-03-10T00:00:00",
          "2020-03-11T00:00:00",
          "2020-03-12T00:00:00",
          "2020-03-13T00:00:00",
          "2020-03-16T00:00:00",
          "2020-03-17T00:00:00",
          "2020-03-18T00:00:00",
          "2020-03-19T00:00:00",
          "2020-03-20T00:00:00",
          "2020-03-23T00:00:00",
          "2020-03-24T00:00:00",
          "2020-03-25T00:00:00",
          "2020-03-26T00:00:00",
          "2020-03-27T00:00:00",
          "2020-03-30T00:00:00",
          "2020-03-31T00:00:00",
          "2020-04-01T00:00:00",
          "2020-04-02T00:00:00",
          "2020-04-03T00:00:00",
          "2020-04-06T00:00:00",
          "2020-04-07T00:00:00",
          "2020-04-08T00:00:00",
          "2020-04-09T00:00:00",
          "2020-04-13T00:00:00",
          "2020-04-14T00:00:00",
          "2020-04-15T00:00:00",
          "2020-04-16T00:00:00",
          "2020-04-17T00:00:00",
          "2020-04-20T00:00:00",
          "2020-04-21T00:00:00",
          "2020-04-22T00:00:00",
          "2020-04-23T00:00:00",
          "2020-04-24T00:00:00",
          "2020-04-27T00:00:00",
          "2020-04-28T00:00:00",
          "2020-04-29T00:00:00",
          "2020-04-30T00:00:00",
          "2020-05-01T00:00:00",
          "2020-05-04T00:00:00",
          "2020-05-05T00:00:00",
          "2020-05-06T00:00:00",
          "2020-05-07T00:00:00",
          "2020-05-08T00:00:00",
          "2020-05-11T00:00:00",
          "2020-05-12T00:00:00",
          "2020-05-13T00:00:00",
          "2020-05-14T00:00:00",
          "2020-05-15T00:00:00",
          "2020-05-18T00:00:00",
          "2020-05-19T00:00:00",
          "2020-05-20T00:00:00",
          "2020-05-21T00:00:00",
          "2020-05-22T00:00:00",
          "2020-05-26T00:00:00",
          "2020-05-27T00:00:00",
          "2020-05-28T00:00:00",
          "2020-05-29T00:00:00",
          "2020-06-01T00:00:00",
          "2020-06-02T00:00:00",
          "2020-06-03T00:00:00",
          "2020-06-04T00:00:00",
          "2020-06-05T00:00:00",
          "2020-06-08T00:00:00",
          "2020-06-09T00:00:00",
          "2020-06-10T00:00:00",
          "2020-06-11T00:00:00",
          "2020-06-12T00:00:00",
          "2020-06-15T00:00:00",
          "2020-06-16T00:00:00",
          "2020-06-17T00:00:00",
          "2020-06-18T00:00:00",
          "2020-06-19T00:00:00",
          "2020-06-22T00:00:00",
          "2020-06-23T00:00:00",
          "2020-06-24T00:00:00",
          "2020-06-25T00:00:00",
          "2020-06-26T00:00:00",
          "2020-06-29T00:00:00",
          "2020-06-30T00:00:00",
          "2020-07-01T00:00:00",
          "2020-07-02T00:00:00",
          "2020-07-06T00:00:00",
          "2020-07-07T00:00:00",
          "2020-07-08T00:00:00",
          "2020-07-09T00:00:00",
          "2020-07-10T00:00:00",
          "2020-07-13T00:00:00",
          "2020-07-14T00:00:00",
          "2020-07-15T00:00:00",
          "2020-07-16T00:00:00",
          "2020-07-17T00:00:00",
          "2020-07-20T00:00:00",
          "2020-07-21T00:00:00",
          "2020-07-22T00:00:00",
          "2020-07-23T00:00:00",
          "2020-07-24T00:00:00",
          "2020-07-27T00:00:00",
          "2020-07-28T00:00:00",
          "2020-07-29T00:00:00",
          "2020-07-30T00:00:00",
          "2020-07-31T00:00:00",
          "2020-08-03T00:00:00",
          "2020-08-04T00:00:00",
          "2020-08-05T00:00:00",
          "2020-08-06T00:00:00",
          "2020-08-07T00:00:00",
          "2020-08-10T00:00:00",
          "2020-08-11T00:00:00",
          "2020-08-12T00:00:00",
          "2020-08-13T00:00:00",
          "2020-08-14T00:00:00",
          "2020-08-17T00:00:00",
          "2020-08-18T00:00:00",
          "2020-08-19T00:00:00",
          "2020-08-20T00:00:00",
          "2020-08-21T00:00:00",
          "2020-08-24T00:00:00",
          "2020-08-25T00:00:00",
          "2020-08-26T00:00:00",
          "2020-08-27T00:00:00",
          "2020-08-28T00:00:00",
          "2020-08-31T00:00:00",
          "2020-09-01T00:00:00",
          "2020-09-02T00:00:00",
          "2020-09-03T00:00:00"
         ],
         "y": [
          0.7713514304313409,
          0.7444678656742405,
          0.7586809156319223,
          0.7037467705733205,
          0.7022603905102707,
          0.6866869695917135,
          0.6099691077420961,
          0.7193474593078246,
          0.6759750997691567,
          0.6312399710024552,
          0.6283597910104062,
          0.5922060610671145,
          0.6417490020889995,
          0.7135100279579327,
          0.691467383054083,
          0.6756617183226048,
          0.5789617593757641,
          0.6944739298907701,
          0.6327506526108828,
          0.6098624648301643,
          0.49549016682048386,
          0.5756607002613583,
          0.5932411874966368,
          0.4957747051028569,
          0.5090896232971538,
          0.46964632366874914,
          0.49730726945905346,
          0.6052738484311702,
          0.6237783309097402,
          0.5921413815773371,
          0.5781276934332316,
          0.5962946698495228,
          0.6491757265577713,
          0.6225294904676093,
          0.5676808592320572,
          0.46403343833563593,
          0.4389397055257711,
          0.44333759002201445,
          0.33969824736849397,
          0.2709530735262975,
          0.35913821628477427,
          0.33437127919169285,
          0.395020077793935,
          0.4817446730794459,
          0.35500970572567603,
          0.36113710719783754,
          0.49895613104972725,
          0.44567630520905555,
          0.32412080247742914,
          0.3986093145791676,
          0.2825268373913916,
          0.3920652635540729,
          0.2489038920228972,
          0.2916154059713669,
          0.29335141536762954,
          0.30113057012218114,
          0.48818548509076276,
          0.43965682485806523,
          0.3978832431817416,
          0.3508199330188724,
          0.3926796185091561,
          0.38895834604945545,
          0.42634335545886826,
          0.48178205934947904,
          0.49288361246545964,
          0.5827656220549287,
          0.6011478143504863,
          0.5749894753900482,
          0.5725604600035683,
          0.5510561232623528,
          0.6274642374594142,
          0.6389134717937921,
          0.6632915486863373,
          0.6506789505645427,
          0.591930943946875,
          0.5892760041237239,
          0.6224959744015646,
          0.6567209930468771,
          0.6233516493489444,
          0.5988973878465718,
          0.5899181109761731,
          0.6474133999757044,
          0.666717961010685,
          0.6924904659357387,
          0.6979264754165806,
          0.6560615839943118,
          0.5872245114430208,
          0.6279038394076593,
          0.6552846010660422,
          0.5663401013549114,
          0.5547881010656952,
          0.5697733068935094,
          0.6319033240868723,
          0.6290334205649635,
          0.6126163847515578,
          0.5863549497252052,
          0.6737335458359031,
          0.6360662441147142,
          0.649479063105384,
          0.7015510787178938,
          0.7022759081177501,
          0.7197116390367526,
          0.7272007756358136,
          0.7334484605618288,
          0.7227994432988782,
          0.7244802267621453,
          0.6709018438589345,
          0.7354005781582154,
          0.7602555449521957,
          0.7394825784218173,
          0.7028222515116549,
          0.5686434067843544,
          0.6139026605826872,
          0.6666252200300122,
          0.5862498663434446,
          0.5224023284489614,
          0.5523169214641444,
          0.5974518827489983,
          0.642833703525902,
          0.6233903407969157,
          0.5817619145886264,
          0.608586764677673,
          0.627166047189347,
          0.5868696298390228,
          0.6033240182350608,
          0.548925866311448,
          0.5139230933405079,
          0.7130215712701751,
          0.683394553352199,
          0.6270179350747527,
          0.6766180807397952,
          0.6241679236435589,
          0.5160033811564104,
          0.5433222964883289,
          0.5587442575182515,
          0.4802520154411427,
          0.5745808601771132,
          0.4944590755968954,
          0.4850044558799049,
          0.5433432737791679,
          0.5897405965045075,
          0.5921942403151994,
          0.6596981619093265,
          0.5905718153035253,
          0.6438727338781551,
          0.6340741688901272,
          0.6239735006997189,
          0.6549895306370574,
          0.6503786615241993,
          0.638807343516846,
          0.6536136994927739,
          0.6867770073323012,
          0.6729512971859108,
          0.70370949989224,
          0.7140980337472111,
          0.7256484961479992,
          0.7042074435260144,
          0.7013332357296638,
          0.6610237704437085,
          0.6962409840993256,
          0.6391975801292382,
          0.5877319218825625,
          0.596909245309539,
          0.4344109569547383,
          0.4586259670832913,
          0.39010730796276416,
          0.37416186883355795,
          0.42173993175656266,
          0.49880445704819754,
          0.48845202229223217,
          -0.037274214583125076
         ]
        }
       ],
       "layout": {
        "template": {
         "data": {
          "bar": [
           {
            "error_x": {
             "color": "#2a3f5f"
            },
            "error_y": {
             "color": "#2a3f5f"
            },
            "marker": {
             "line": {
              "color": "#E5ECF6",
              "width": 0.5
             }
            },
            "type": "bar"
           }
          ],
          "barpolar": [
           {
            "marker": {
             "line": {
              "color": "#E5ECF6",
              "width": 0.5
             }
            },
            "type": "barpolar"
           }
          ],
          "carpet": [
           {
            "aaxis": {
             "endlinecolor": "#2a3f5f",
             "gridcolor": "white",
             "linecolor": "white",
             "minorgridcolor": "white",
             "startlinecolor": "#2a3f5f"
            },
            "baxis": {
             "endlinecolor": "#2a3f5f",
             "gridcolor": "white",
             "linecolor": "white",
             "minorgridcolor": "white",
             "startlinecolor": "#2a3f5f"
            },
            "type": "carpet"
           }
          ],
          "choropleth": [
           {
            "colorbar": {
             "outlinewidth": 0,
             "ticks": ""
            },
            "type": "choropleth"
           }
          ],
          "contour": [
           {
            "colorbar": {
             "outlinewidth": 0,
             "ticks": ""
            },
            "colorscale": [
             [
              0,
              "#0d0887"
             ],
             [
              0.1111111111111111,
              "#46039f"
             ],
             [
              0.2222222222222222,
              "#7201a8"
             ],
             [
              0.3333333333333333,
              "#9c179e"
             ],
             [
              0.4444444444444444,
              "#bd3786"
             ],
             [
              0.5555555555555556,
              "#d8576b"
             ],
             [
              0.6666666666666666,
              "#ed7953"
             ],
             [
              0.7777777777777778,
              "#fb9f3a"
             ],
             [
              0.8888888888888888,
              "#fdca26"
             ],
             [
              1,
              "#f0f921"
             ]
            ],
            "type": "contour"
           }
          ],
          "contourcarpet": [
           {
            "colorbar": {
             "outlinewidth": 0,
             "ticks": ""
            },
            "type": "contourcarpet"
           }
          ],
          "heatmap": [
           {
            "colorbar": {
             "outlinewidth": 0,
             "ticks": ""
            },
            "colorscale": [
             [
              0,
              "#0d0887"
             ],
             [
              0.1111111111111111,
              "#46039f"
             ],
             [
              0.2222222222222222,
              "#7201a8"
             ],
             [
              0.3333333333333333,
              "#9c179e"
             ],
             [
              0.4444444444444444,
              "#bd3786"
             ],
             [
              0.5555555555555556,
              "#d8576b"
             ],
             [
              0.6666666666666666,
              "#ed7953"
             ],
             [
              0.7777777777777778,
              "#fb9f3a"
             ],
             [
              0.8888888888888888,
              "#fdca26"
             ],
             [
              1,
              "#f0f921"
             ]
            ],
            "type": "heatmap"
           }
          ],
          "heatmapgl": [
           {
            "colorbar": {
             "outlinewidth": 0,
             "ticks": ""
            },
            "colorscale": [
             [
              0,
              "#0d0887"
             ],
             [
              0.1111111111111111,
              "#46039f"
             ],
             [
              0.2222222222222222,
              "#7201a8"
             ],
             [
              0.3333333333333333,
              "#9c179e"
             ],
             [
              0.4444444444444444,
              "#bd3786"
             ],
             [
              0.5555555555555556,
              "#d8576b"
             ],
             [
              0.6666666666666666,
              "#ed7953"
             ],
             [
              0.7777777777777778,
              "#fb9f3a"
             ],
             [
              0.8888888888888888,
              "#fdca26"
             ],
             [
              1,
              "#f0f921"
             ]
            ],
            "type": "heatmapgl"
           }
          ],
          "histogram": [
           {
            "marker": {
             "colorbar": {
              "outlinewidth": 0,
              "ticks": ""
             }
            },
            "type": "histogram"
           }
          ],
          "histogram2d": [
           {
            "colorbar": {
             "outlinewidth": 0,
             "ticks": ""
            },
            "colorscale": [
             [
              0,
              "#0d0887"
             ],
             [
              0.1111111111111111,
              "#46039f"
             ],
             [
              0.2222222222222222,
              "#7201a8"
             ],
             [
              0.3333333333333333,
              "#9c179e"
             ],
             [
              0.4444444444444444,
              "#bd3786"
             ],
             [
              0.5555555555555556,
              "#d8576b"
             ],
             [
              0.6666666666666666,
              "#ed7953"
             ],
             [
              0.7777777777777778,
              "#fb9f3a"
             ],
             [
              0.8888888888888888,
              "#fdca26"
             ],
             [
              1,
              "#f0f921"
             ]
            ],
            "type": "histogram2d"
           }
          ],
          "histogram2dcontour": [
           {
            "colorbar": {
             "outlinewidth": 0,
             "ticks": ""
            },
            "colorscale": [
             [
              0,
              "#0d0887"
             ],
             [
              0.1111111111111111,
              "#46039f"
             ],
             [
              0.2222222222222222,
              "#7201a8"
             ],
             [
              0.3333333333333333,
              "#9c179e"
             ],
             [
              0.4444444444444444,
              "#bd3786"
             ],
             [
              0.5555555555555556,
              "#d8576b"
             ],
             [
              0.6666666666666666,
              "#ed7953"
             ],
             [
              0.7777777777777778,
              "#fb9f3a"
             ],
             [
              0.8888888888888888,
              "#fdca26"
             ],
             [
              1,
              "#f0f921"
             ]
            ],
            "type": "histogram2dcontour"
           }
          ],
          "mesh3d": [
           {
            "colorbar": {
             "outlinewidth": 0,
             "ticks": ""
            },
            "type": "mesh3d"
           }
          ],
          "parcoords": [
           {
            "line": {
             "colorbar": {
              "outlinewidth": 0,
              "ticks": ""
             }
            },
            "type": "parcoords"
           }
          ],
          "pie": [
           {
            "automargin": true,
            "type": "pie"
           }
          ],
          "scatter": [
           {
            "marker": {
             "colorbar": {
              "outlinewidth": 0,
              "ticks": ""
             }
            },
            "type": "scatter"
           }
          ],
          "scatter3d": [
           {
            "line": {
             "colorbar": {
              "outlinewidth": 0,
              "ticks": ""
             }
            },
            "marker": {
             "colorbar": {
              "outlinewidth": 0,
              "ticks": ""
             }
            },
            "type": "scatter3d"
           }
          ],
          "scattercarpet": [
           {
            "marker": {
             "colorbar": {
              "outlinewidth": 0,
              "ticks": ""
             }
            },
            "type": "scattercarpet"
           }
          ],
          "scattergeo": [
           {
            "marker": {
             "colorbar": {
              "outlinewidth": 0,
              "ticks": ""
             }
            },
            "type": "scattergeo"
           }
          ],
          "scattergl": [
           {
            "marker": {
             "colorbar": {
              "outlinewidth": 0,
              "ticks": ""
             }
            },
            "type": "scattergl"
           }
          ],
          "scattermapbox": [
           {
            "marker": {
             "colorbar": {
              "outlinewidth": 0,
              "ticks": ""
             }
            },
            "type": "scattermapbox"
           }
          ],
          "scatterpolar": [
           {
            "marker": {
             "colorbar": {
              "outlinewidth": 0,
              "ticks": ""
             }
            },
            "type": "scatterpolar"
           }
          ],
          "scatterpolargl": [
           {
            "marker": {
             "colorbar": {
              "outlinewidth": 0,
              "ticks": ""
             }
            },
            "type": "scatterpolargl"
           }
          ],
          "scatterternary": [
           {
            "marker": {
             "colorbar": {
              "outlinewidth": 0,
              "ticks": ""
             }
            },
            "type": "scatterternary"
           }
          ],
          "surface": [
           {
            "colorbar": {
             "outlinewidth": 0,
             "ticks": ""
            },
            "colorscale": [
             [
              0,
              "#0d0887"
             ],
             [
              0.1111111111111111,
              "#46039f"
             ],
             [
              0.2222222222222222,
              "#7201a8"
             ],
             [
              0.3333333333333333,
              "#9c179e"
             ],
             [
              0.4444444444444444,
              "#bd3786"
             ],
             [
              0.5555555555555556,
              "#d8576b"
             ],
             [
              0.6666666666666666,
              "#ed7953"
             ],
             [
              0.7777777777777778,
              "#fb9f3a"
             ],
             [
              0.8888888888888888,
              "#fdca26"
             ],
             [
              1,
              "#f0f921"
             ]
            ],
            "type": "surface"
           }
          ],
          "table": [
           {
            "cells": {
             "fill": {
              "color": "#EBF0F8"
             },
             "line": {
              "color": "white"
             }
            },
            "header": {
             "fill": {
              "color": "#C8D4E3"
             },
             "line": {
              "color": "white"
             }
            },
            "type": "table"
           }
          ]
         },
         "layout": {
          "annotationdefaults": {
           "arrowcolor": "#2a3f5f",
           "arrowhead": 0,
           "arrowwidth": 1
          },
          "coloraxis": {
           "colorbar": {
            "outlinewidth": 0,
            "ticks": ""
           }
          },
          "colorscale": {
           "diverging": [
            [
             0,
             "#8e0152"
            ],
            [
             0.1,
             "#c51b7d"
            ],
            [
             0.2,
             "#de77ae"
            ],
            [
             0.3,
             "#f1b6da"
            ],
            [
             0.4,
             "#fde0ef"
            ],
            [
             0.5,
             "#f7f7f7"
            ],
            [
             0.6,
             "#e6f5d0"
            ],
            [
             0.7,
             "#b8e186"
            ],
            [
             0.8,
             "#7fbc41"
            ],
            [
             0.9,
             "#4d9221"
            ],
            [
             1,
             "#276419"
            ]
           ],
           "sequential": [
            [
             0,
             "#0d0887"
            ],
            [
             0.1111111111111111,
             "#46039f"
            ],
            [
             0.2222222222222222,
             "#7201a8"
            ],
            [
             0.3333333333333333,
             "#9c179e"
            ],
            [
             0.4444444444444444,
             "#bd3786"
            ],
            [
             0.5555555555555556,
             "#d8576b"
            ],
            [
             0.6666666666666666,
             "#ed7953"
            ],
            [
             0.7777777777777778,
             "#fb9f3a"
            ],
            [
             0.8888888888888888,
             "#fdca26"
            ],
            [
             1,
             "#f0f921"
            ]
           ],
           "sequentialminus": [
            [
             0,
             "#0d0887"
            ],
            [
             0.1111111111111111,
             "#46039f"
            ],
            [
             0.2222222222222222,
             "#7201a8"
            ],
            [
             0.3333333333333333,
             "#9c179e"
            ],
            [
             0.4444444444444444,
             "#bd3786"
            ],
            [
             0.5555555555555556,
             "#d8576b"
            ],
            [
             0.6666666666666666,
             "#ed7953"
            ],
            [
             0.7777777777777778,
             "#fb9f3a"
            ],
            [
             0.8888888888888888,
             "#fdca26"
            ],
            [
             1,
             "#f0f921"
            ]
           ]
          },
          "colorway": [
           "#636efa",
           "#EF553B",
           "#00cc96",
           "#ab63fa",
           "#FFA15A",
           "#19d3f3",
           "#FF6692",
           "#B6E880",
           "#FF97FF",
           "#FECB52"
          ],
          "font": {
           "color": "#2a3f5f"
          },
          "geo": {
           "bgcolor": "white",
           "lakecolor": "white",
           "landcolor": "#E5ECF6",
           "showlakes": true,
           "showland": true,
           "subunitcolor": "white"
          },
          "hoverlabel": {
           "align": "left"
          },
          "hovermode": "closest",
          "mapbox": {
           "style": "light"
          },
          "paper_bgcolor": "white",
          "plot_bgcolor": "#E5ECF6",
          "polar": {
           "angularaxis": {
            "gridcolor": "white",
            "linecolor": "white",
            "ticks": ""
           },
           "bgcolor": "#E5ECF6",
           "radialaxis": {
            "gridcolor": "white",
            "linecolor": "white",
            "ticks": ""
           }
          },
          "scene": {
           "xaxis": {
            "backgroundcolor": "#E5ECF6",
            "gridcolor": "white",
            "gridwidth": 2,
            "linecolor": "white",
            "showbackground": true,
            "ticks": "",
            "zerolinecolor": "white"
           },
           "yaxis": {
            "backgroundcolor": "#E5ECF6",
            "gridcolor": "white",
            "gridwidth": 2,
            "linecolor": "white",
            "showbackground": true,
            "ticks": "",
            "zerolinecolor": "white"
           },
           "zaxis": {
            "backgroundcolor": "#E5ECF6",
            "gridcolor": "white",
            "gridwidth": 2,
            "linecolor": "white",
            "showbackground": true,
            "ticks": "",
            "zerolinecolor": "white"
           }
          },
          "shapedefaults": {
           "line": {
            "color": "#2a3f5f"
           }
          },
          "ternary": {
           "aaxis": {
            "gridcolor": "white",
            "linecolor": "white",
            "ticks": ""
           },
           "baxis": {
            "gridcolor": "white",
            "linecolor": "white",
            "ticks": ""
           },
           "bgcolor": "#E5ECF6",
           "caxis": {
            "gridcolor": "white",
            "linecolor": "white",
            "ticks": ""
           }
          },
          "title": {
           "x": 0.05
          },
          "xaxis": {
           "automargin": true,
           "gridcolor": "white",
           "linecolor": "white",
           "ticks": "",
           "title": {
            "standoff": 15
           },
           "zerolinecolor": "white",
           "zerolinewidth": 2
          },
          "yaxis": {
           "automargin": true,
           "gridcolor": "white",
           "linecolor": "white",
           "ticks": "",
           "title": {
            "standoff": 15
           },
           "zerolinecolor": "white",
           "zerolinewidth": 2
          }
         }
        }
       }
      },
      "text/html": [
       "<div>\n",
       "        \n",
       "        \n",
       "            <div id=\"bb8fe31f-5907-47d6-9211-f62c952d64e5\" class=\"plotly-graph-div\" style=\"height:525px; width:100%;\"></div>\n",
       "            <script type=\"text/javascript\">\n",
       "                require([\"plotly\"], function(Plotly) {\n",
       "                    window.PLOTLYENV=window.PLOTLYENV || {};\n",
       "                    \n",
       "                if (document.getElementById(\"bb8fe31f-5907-47d6-9211-f62c952d64e5\")) {\n",
       "                    Plotly.newPlot(\n",
       "                        'bb8fe31f-5907-47d6-9211-f62c952d64e5',\n",
       "                        [{\"mode\": \"lines\", \"name\": \"Trading Signal\", \"type\": \"scatter\", \"x\": [\"2020-01-02T00:00:00\", \"2020-01-03T00:00:00\", \"2020-01-06T00:00:00\", \"2020-01-07T00:00:00\", \"2020-01-08T00:00:00\", \"2020-01-09T00:00:00\", \"2020-01-10T00:00:00\", \"2020-01-13T00:00:00\", \"2020-01-14T00:00:00\", \"2020-01-15T00:00:00\", \"2020-01-16T00:00:00\", \"2020-01-17T00:00:00\", \"2020-01-21T00:00:00\", \"2020-01-22T00:00:00\", \"2020-01-23T00:00:00\", \"2020-01-24T00:00:00\", \"2020-01-27T00:00:00\", \"2020-01-28T00:00:00\", \"2020-01-29T00:00:00\", \"2020-01-30T00:00:00\", \"2020-01-31T00:00:00\", \"2020-02-03T00:00:00\", \"2020-02-04T00:00:00\", \"2020-02-05T00:00:00\", \"2020-02-06T00:00:00\", \"2020-02-07T00:00:00\", \"2020-02-10T00:00:00\", \"2020-02-11T00:00:00\", \"2020-02-12T00:00:00\", \"2020-02-13T00:00:00\", \"2020-02-14T00:00:00\", \"2020-02-18T00:00:00\", \"2020-02-19T00:00:00\", \"2020-02-20T00:00:00\", \"2020-02-21T00:00:00\", \"2020-02-24T00:00:00\", \"2020-02-25T00:00:00\", \"2020-02-26T00:00:00\", \"2020-02-27T00:00:00\", \"2020-02-28T00:00:00\", \"2020-03-02T00:00:00\", \"2020-03-03T00:00:00\", \"2020-03-04T00:00:00\", \"2020-03-05T00:00:00\", \"2020-03-06T00:00:00\", \"2020-03-09T00:00:00\", \"2020-03-10T00:00:00\", \"2020-03-11T00:00:00\", \"2020-03-12T00:00:00\", \"2020-03-13T00:00:00\", \"2020-03-16T00:00:00\", \"2020-03-17T00:00:00\", \"2020-03-18T00:00:00\", \"2020-03-19T00:00:00\", \"2020-03-20T00:00:00\", \"2020-03-23T00:00:00\", \"2020-03-24T00:00:00\", \"2020-03-25T00:00:00\", \"2020-03-26T00:00:00\", \"2020-03-27T00:00:00\", \"2020-03-30T00:00:00\", \"2020-03-31T00:00:00\", \"2020-04-01T00:00:00\", \"2020-04-02T00:00:00\", \"2020-04-03T00:00:00\", \"2020-04-06T00:00:00\", \"2020-04-07T00:00:00\", \"2020-04-08T00:00:00\", \"2020-04-09T00:00:00\", \"2020-04-13T00:00:00\", \"2020-04-14T00:00:00\", \"2020-04-15T00:00:00\", \"2020-04-16T00:00:00\", \"2020-04-17T00:00:00\", \"2020-04-20T00:00:00\", \"2020-04-21T00:00:00\", \"2020-04-22T00:00:00\", \"2020-04-23T00:00:00\", \"2020-04-24T00:00:00\", \"2020-04-27T00:00:00\", \"2020-04-28T00:00:00\", \"2020-04-29T00:00:00\", \"2020-04-30T00:00:00\", \"2020-05-01T00:00:00\", \"2020-05-04T00:00:00\", \"2020-05-05T00:00:00\", \"2020-05-06T00:00:00\", \"2020-05-07T00:00:00\", \"2020-05-08T00:00:00\", \"2020-05-11T00:00:00\", \"2020-05-12T00:00:00\", \"2020-05-13T00:00:00\", \"2020-05-14T00:00:00\", \"2020-05-15T00:00:00\", \"2020-05-18T00:00:00\", \"2020-05-19T00:00:00\", \"2020-05-20T00:00:00\", \"2020-05-21T00:00:00\", \"2020-05-22T00:00:00\", \"2020-05-26T00:00:00\", \"2020-05-27T00:00:00\", \"2020-05-28T00:00:00\", \"2020-05-29T00:00:00\", \"2020-06-01T00:00:00\", \"2020-06-02T00:00:00\", \"2020-06-03T00:00:00\", \"2020-06-04T00:00:00\", \"2020-06-05T00:00:00\", \"2020-06-08T00:00:00\", \"2020-06-09T00:00:00\", \"2020-06-10T00:00:00\", \"2020-06-11T00:00:00\", \"2020-06-12T00:00:00\", \"2020-06-15T00:00:00\", \"2020-06-16T00:00:00\", \"2020-06-17T00:00:00\", \"2020-06-18T00:00:00\", \"2020-06-19T00:00:00\", \"2020-06-22T00:00:00\", \"2020-06-23T00:00:00\", \"2020-06-24T00:00:00\", \"2020-06-25T00:00:00\", \"2020-06-26T00:00:00\", \"2020-06-29T00:00:00\", \"2020-06-30T00:00:00\", \"2020-07-01T00:00:00\", \"2020-07-02T00:00:00\", \"2020-07-06T00:00:00\", \"2020-07-07T00:00:00\", \"2020-07-08T00:00:00\", \"2020-07-09T00:00:00\", \"2020-07-10T00:00:00\", \"2020-07-13T00:00:00\", \"2020-07-14T00:00:00\", \"2020-07-15T00:00:00\", \"2020-07-16T00:00:00\", \"2020-07-17T00:00:00\", \"2020-07-20T00:00:00\", \"2020-07-21T00:00:00\", \"2020-07-22T00:00:00\", \"2020-07-23T00:00:00\", \"2020-07-24T00:00:00\", \"2020-07-27T00:00:00\", \"2020-07-28T00:00:00\", \"2020-07-29T00:00:00\", \"2020-07-30T00:00:00\", \"2020-07-31T00:00:00\", \"2020-08-03T00:00:00\", \"2020-08-04T00:00:00\", \"2020-08-05T00:00:00\", \"2020-08-06T00:00:00\", \"2020-08-07T00:00:00\", \"2020-08-10T00:00:00\", \"2020-08-11T00:00:00\", \"2020-08-12T00:00:00\", \"2020-08-13T00:00:00\", \"2020-08-14T00:00:00\", \"2020-08-17T00:00:00\", \"2020-08-18T00:00:00\", \"2020-08-19T00:00:00\", \"2020-08-20T00:00:00\", \"2020-08-21T00:00:00\", \"2020-08-24T00:00:00\", \"2020-08-25T00:00:00\", \"2020-08-26T00:00:00\", \"2020-08-27T00:00:00\", \"2020-08-28T00:00:00\", \"2020-08-31T00:00:00\", \"2020-09-01T00:00:00\", \"2020-09-02T00:00:00\", \"2020-09-03T00:00:00\"], \"y\": [1.0, 0.970587575312188, 0.7328769628719985, 0.5, 1.0, 0.8066660563151042, 0.5, 1.0, 0.5, 0.6048397516750856, 1.0, 0.6111134658585173, 0.5, 0.5, 0.7038458039772644, 1.0, 0.5, 1.0, 0.990131983466304, 1.0, 0.5, 0.5, 0.6234570517620575, 0.5178564130044823, 1.0, 0.633332697552881, 0.5, 0.5, 0.541674613770742, 1.0, 0.5779213380166559, 0.5, 0.5, 1.0, 1.0, 1.0, 1.0, 1.0, 0.7148763847992081, 0.5, 0.0, 0.0, 0.14804427603902498, 0.5, 0.5, 0.0, 0.5, 0.5, 0.0, 0.23501198382640834, 0.0, 0.5, 0.0, 0.5, 0.17963387626585567, 0.0, 0.0663714498874159, 0.0, 0.4281609888387327, 0.0, 0.5, 0.0, 0.0, 0.029850624870369387, 0.0, 0.0, 0.5, 1.0, 1.0, 0.6879428498767663, 1.0, 0.5, 0.5953489032290116, 0.5366383633631164, 1.0, 0.5, 0.5, 0.5, 0.5, 1.0, 0.9204549887943404, 1.0, 0.5, 0.5, 0.8493595700144763, 1.0, 0.5, 0.5, 0.5, 1.0, 1.0, 0.5, 0.5, 0.5, 0.5533713945269889, 0.5, 1.0, 0.5, 0.5, 0.5, 1.0, 0.5, 0.5, 0.7578126396976868, 0.8649783834072129, 1.0, 0.5, 0.5, 0.5, 1.0, 1.0, 0.5, 0.5, 0.5833337408851046, 1.0, 1.0, 0.5, 0.5, 1.0, 1.0, 0.0, 0.32812388241184465, 0.15841595377032466, 0.0, 0.5, 0.04984919851053997, 0.0, 0.5, 0.3000017606253741, 0.22688980000064116, 1.0, 1.0, 0.5, 0.5983628086149536, 0.674285888671875, 0.5, 1.0, 0.5, 0.5, 0.5, 0.5, 0.5, 0.8575262311623748, 0.5, 0.9250026226193768, 0.5, 0.5, 0.5106405428218946, 0.7281553577843701, 0.5, 0.953487340536896, 1.0, 1.0, 0.5, 0.9308503946594159, 1.0, 1.0, 0.7434208875213951, 0.5, 0.5, 1.0, 1.0, 1.0, 1.0, 1.0, 0.5, 0.0, 0.0, 0.4496919521118435, 0.5, 0.0]}, {\"mode\": \"lines\", \"name\": \"Predictions\", \"type\": \"scatter\", \"x\": [\"2020-01-02T00:00:00\", \"2020-01-03T00:00:00\", \"2020-01-06T00:00:00\", \"2020-01-07T00:00:00\", \"2020-01-08T00:00:00\", \"2020-01-09T00:00:00\", \"2020-01-10T00:00:00\", \"2020-01-13T00:00:00\", \"2020-01-14T00:00:00\", \"2020-01-15T00:00:00\", \"2020-01-16T00:00:00\", \"2020-01-17T00:00:00\", \"2020-01-21T00:00:00\", \"2020-01-22T00:00:00\", \"2020-01-23T00:00:00\", \"2020-01-24T00:00:00\", \"2020-01-27T00:00:00\", \"2020-01-28T00:00:00\", \"2020-01-29T00:00:00\", \"2020-01-30T00:00:00\", \"2020-01-31T00:00:00\", \"2020-02-03T00:00:00\", \"2020-02-04T00:00:00\", \"2020-02-05T00:00:00\", \"2020-02-06T00:00:00\", \"2020-02-07T00:00:00\", \"2020-02-10T00:00:00\", \"2020-02-11T00:00:00\", \"2020-02-12T00:00:00\", \"2020-02-13T00:00:00\", \"2020-02-14T00:00:00\", \"2020-02-18T00:00:00\", \"2020-02-19T00:00:00\", \"2020-02-20T00:00:00\", \"2020-02-21T00:00:00\", \"2020-02-24T00:00:00\", \"2020-02-25T00:00:00\", \"2020-02-26T00:00:00\", \"2020-02-27T00:00:00\", \"2020-02-28T00:00:00\", \"2020-03-02T00:00:00\", \"2020-03-03T00:00:00\", \"2020-03-04T00:00:00\", \"2020-03-05T00:00:00\", \"2020-03-06T00:00:00\", \"2020-03-09T00:00:00\", \"2020-03-10T00:00:00\", \"2020-03-11T00:00:00\", \"2020-03-12T00:00:00\", \"2020-03-13T00:00:00\", \"2020-03-16T00:00:00\", \"2020-03-17T00:00:00\", \"2020-03-18T00:00:00\", \"2020-03-19T00:00:00\", \"2020-03-20T00:00:00\", \"2020-03-23T00:00:00\", \"2020-03-24T00:00:00\", \"2020-03-25T00:00:00\", \"2020-03-26T00:00:00\", \"2020-03-27T00:00:00\", \"2020-03-30T00:00:00\", \"2020-03-31T00:00:00\", \"2020-04-01T00:00:00\", \"2020-04-02T00:00:00\", \"2020-04-03T00:00:00\", \"2020-04-06T00:00:00\", \"2020-04-07T00:00:00\", \"2020-04-08T00:00:00\", \"2020-04-09T00:00:00\", \"2020-04-13T00:00:00\", \"2020-04-14T00:00:00\", \"2020-04-15T00:00:00\", \"2020-04-16T00:00:00\", \"2020-04-17T00:00:00\", \"2020-04-20T00:00:00\", \"2020-04-21T00:00:00\", \"2020-04-22T00:00:00\", \"2020-04-23T00:00:00\", \"2020-04-24T00:00:00\", \"2020-04-27T00:00:00\", \"2020-04-28T00:00:00\", \"2020-04-29T00:00:00\", \"2020-04-30T00:00:00\", \"2020-05-01T00:00:00\", \"2020-05-04T00:00:00\", \"2020-05-05T00:00:00\", \"2020-05-06T00:00:00\", \"2020-05-07T00:00:00\", \"2020-05-08T00:00:00\", \"2020-05-11T00:00:00\", \"2020-05-12T00:00:00\", \"2020-05-13T00:00:00\", \"2020-05-14T00:00:00\", \"2020-05-15T00:00:00\", \"2020-05-18T00:00:00\", \"2020-05-19T00:00:00\", \"2020-05-20T00:00:00\", \"2020-05-21T00:00:00\", \"2020-05-22T00:00:00\", \"2020-05-26T00:00:00\", \"2020-05-27T00:00:00\", \"2020-05-28T00:00:00\", \"2020-05-29T00:00:00\", \"2020-06-01T00:00:00\", \"2020-06-02T00:00:00\", \"2020-06-03T00:00:00\", \"2020-06-04T00:00:00\", \"2020-06-05T00:00:00\", \"2020-06-08T00:00:00\", \"2020-06-09T00:00:00\", \"2020-06-10T00:00:00\", \"2020-06-11T00:00:00\", \"2020-06-12T00:00:00\", \"2020-06-15T00:00:00\", \"2020-06-16T00:00:00\", \"2020-06-17T00:00:00\", \"2020-06-18T00:00:00\", \"2020-06-19T00:00:00\", \"2020-06-22T00:00:00\", \"2020-06-23T00:00:00\", \"2020-06-24T00:00:00\", \"2020-06-25T00:00:00\", \"2020-06-26T00:00:00\", \"2020-06-29T00:00:00\", \"2020-06-30T00:00:00\", \"2020-07-01T00:00:00\", \"2020-07-02T00:00:00\", \"2020-07-06T00:00:00\", \"2020-07-07T00:00:00\", \"2020-07-08T00:00:00\", \"2020-07-09T00:00:00\", \"2020-07-10T00:00:00\", \"2020-07-13T00:00:00\", \"2020-07-14T00:00:00\", \"2020-07-15T00:00:00\", \"2020-07-16T00:00:00\", \"2020-07-17T00:00:00\", \"2020-07-20T00:00:00\", \"2020-07-21T00:00:00\", \"2020-07-22T00:00:00\", \"2020-07-23T00:00:00\", \"2020-07-24T00:00:00\", \"2020-07-27T00:00:00\", \"2020-07-28T00:00:00\", \"2020-07-29T00:00:00\", \"2020-07-30T00:00:00\", \"2020-07-31T00:00:00\", \"2020-08-03T00:00:00\", \"2020-08-04T00:00:00\", \"2020-08-05T00:00:00\", \"2020-08-06T00:00:00\", \"2020-08-07T00:00:00\", \"2020-08-10T00:00:00\", \"2020-08-11T00:00:00\", \"2020-08-12T00:00:00\", \"2020-08-13T00:00:00\", \"2020-08-14T00:00:00\", \"2020-08-17T00:00:00\", \"2020-08-18T00:00:00\", \"2020-08-19T00:00:00\", \"2020-08-20T00:00:00\", \"2020-08-21T00:00:00\", \"2020-08-24T00:00:00\", \"2020-08-25T00:00:00\", \"2020-08-26T00:00:00\", \"2020-08-27T00:00:00\", \"2020-08-28T00:00:00\", \"2020-08-31T00:00:00\", \"2020-09-01T00:00:00\", \"2020-09-02T00:00:00\", \"2020-09-03T00:00:00\"], \"y\": [0.7713514304313409, 0.7444678656742405, 0.7586809156319223, 0.7037467705733205, 0.7022603905102707, 0.6866869695917135, 0.6099691077420961, 0.7193474593078246, 0.6759750997691567, 0.6312399710024552, 0.6283597910104062, 0.5922060610671145, 0.6417490020889995, 0.7135100279579327, 0.691467383054083, 0.6756617183226048, 0.5789617593757641, 0.6944739298907701, 0.6327506526108828, 0.6098624648301643, 0.49549016682048386, 0.5756607002613583, 0.5932411874966368, 0.4957747051028569, 0.5090896232971538, 0.46964632366874914, 0.49730726945905346, 0.6052738484311702, 0.6237783309097402, 0.5921413815773371, 0.5781276934332316, 0.5962946698495228, 0.6491757265577713, 0.6225294904676093, 0.5676808592320572, 0.46403343833563593, 0.4389397055257711, 0.44333759002201445, 0.33969824736849397, 0.2709530735262975, 0.35913821628477427, 0.33437127919169285, 0.395020077793935, 0.4817446730794459, 0.35500970572567603, 0.36113710719783754, 0.49895613104972725, 0.44567630520905555, 0.32412080247742914, 0.3986093145791676, 0.2825268373913916, 0.3920652635540729, 0.2489038920228972, 0.2916154059713669, 0.29335141536762954, 0.30113057012218114, 0.48818548509076276, 0.43965682485806523, 0.3978832431817416, 0.3508199330188724, 0.3926796185091561, 0.38895834604945545, 0.42634335545886826, 0.48178205934947904, 0.49288361246545964, 0.5827656220549287, 0.6011478143504863, 0.5749894753900482, 0.5725604600035683, 0.5510561232623528, 0.6274642374594142, 0.6389134717937921, 0.6632915486863373, 0.6506789505645427, 0.591930943946875, 0.5892760041237239, 0.6224959744015646, 0.6567209930468771, 0.6233516493489444, 0.5988973878465718, 0.5899181109761731, 0.6474133999757044, 0.666717961010685, 0.6924904659357387, 0.6979264754165806, 0.6560615839943118, 0.5872245114430208, 0.6279038394076593, 0.6552846010660422, 0.5663401013549114, 0.5547881010656952, 0.5697733068935094, 0.6319033240868723, 0.6290334205649635, 0.6126163847515578, 0.5863549497252052, 0.6737335458359031, 0.6360662441147142, 0.649479063105384, 0.7015510787178938, 0.7022759081177501, 0.7197116390367526, 0.7272007756358136, 0.7334484605618288, 0.7227994432988782, 0.7244802267621453, 0.6709018438589345, 0.7354005781582154, 0.7602555449521957, 0.7394825784218173, 0.7028222515116549, 0.5686434067843544, 0.6139026605826872, 0.6666252200300122, 0.5862498663434446, 0.5224023284489614, 0.5523169214641444, 0.5974518827489983, 0.642833703525902, 0.6233903407969157, 0.5817619145886264, 0.608586764677673, 0.627166047189347, 0.5868696298390228, 0.6033240182350608, 0.548925866311448, 0.5139230933405079, 0.7130215712701751, 0.683394553352199, 0.6270179350747527, 0.6766180807397952, 0.6241679236435589, 0.5160033811564104, 0.5433222964883289, 0.5587442575182515, 0.4802520154411427, 0.5745808601771132, 0.4944590755968954, 0.4850044558799049, 0.5433432737791679, 0.5897405965045075, 0.5921942403151994, 0.6596981619093265, 0.5905718153035253, 0.6438727338781551, 0.6340741688901272, 0.6239735006997189, 0.6549895306370574, 0.6503786615241993, 0.638807343516846, 0.6536136994927739, 0.6867770073323012, 0.6729512971859108, 0.70370949989224, 0.7140980337472111, 0.7256484961479992, 0.7042074435260144, 0.7013332357296638, 0.6610237704437085, 0.6962409840993256, 0.6391975801292382, 0.5877319218825625, 0.596909245309539, 0.4344109569547383, 0.4586259670832913, 0.39010730796276416, 0.37416186883355795, 0.42173993175656266, 0.49880445704819754, 0.48845202229223217, -0.037274214583125076]}],\n",
       "                        {\"template\": {\"data\": {\"bar\": [{\"error_x\": {\"color\": \"#2a3f5f\"}, \"error_y\": {\"color\": \"#2a3f5f\"}, \"marker\": {\"line\": {\"color\": \"#E5ECF6\", \"width\": 0.5}}, \"type\": \"bar\"}], \"barpolar\": [{\"marker\": {\"line\": {\"color\": \"#E5ECF6\", \"width\": 0.5}}, \"type\": \"barpolar\"}], \"carpet\": [{\"aaxis\": {\"endlinecolor\": \"#2a3f5f\", \"gridcolor\": \"white\", \"linecolor\": \"white\", \"minorgridcolor\": \"white\", \"startlinecolor\": \"#2a3f5f\"}, \"baxis\": {\"endlinecolor\": \"#2a3f5f\", \"gridcolor\": \"white\", \"linecolor\": \"white\", \"minorgridcolor\": \"white\", \"startlinecolor\": \"#2a3f5f\"}, \"type\": \"carpet\"}], \"choropleth\": [{\"colorbar\": {\"outlinewidth\": 0, \"ticks\": \"\"}, \"type\": \"choropleth\"}], \"contour\": [{\"colorbar\": {\"outlinewidth\": 0, \"ticks\": \"\"}, \"colorscale\": [[0.0, \"#0d0887\"], [0.1111111111111111, \"#46039f\"], [0.2222222222222222, \"#7201a8\"], [0.3333333333333333, \"#9c179e\"], [0.4444444444444444, \"#bd3786\"], [0.5555555555555556, \"#d8576b\"], [0.6666666666666666, \"#ed7953\"], [0.7777777777777778, \"#fb9f3a\"], [0.8888888888888888, \"#fdca26\"], [1.0, \"#f0f921\"]], \"type\": \"contour\"}], \"contourcarpet\": [{\"colorbar\": {\"outlinewidth\": 0, \"ticks\": \"\"}, \"type\": \"contourcarpet\"}], \"heatmap\": [{\"colorbar\": {\"outlinewidth\": 0, \"ticks\": \"\"}, \"colorscale\": [[0.0, \"#0d0887\"], [0.1111111111111111, \"#46039f\"], [0.2222222222222222, \"#7201a8\"], [0.3333333333333333, \"#9c179e\"], [0.4444444444444444, \"#bd3786\"], [0.5555555555555556, \"#d8576b\"], [0.6666666666666666, \"#ed7953\"], [0.7777777777777778, \"#fb9f3a\"], [0.8888888888888888, \"#fdca26\"], [1.0, \"#f0f921\"]], \"type\": \"heatmap\"}], \"heatmapgl\": [{\"colorbar\": {\"outlinewidth\": 0, \"ticks\": \"\"}, \"colorscale\": [[0.0, \"#0d0887\"], [0.1111111111111111, \"#46039f\"], [0.2222222222222222, \"#7201a8\"], [0.3333333333333333, \"#9c179e\"], [0.4444444444444444, \"#bd3786\"], [0.5555555555555556, \"#d8576b\"], [0.6666666666666666, \"#ed7953\"], [0.7777777777777778, \"#fb9f3a\"], [0.8888888888888888, \"#fdca26\"], [1.0, \"#f0f921\"]], \"type\": \"heatmapgl\"}], \"histogram\": [{\"marker\": {\"colorbar\": {\"outlinewidth\": 0, \"ticks\": \"\"}}, \"type\": \"histogram\"}], \"histogram2d\": [{\"colorbar\": {\"outlinewidth\": 0, \"ticks\": \"\"}, \"colorscale\": [[0.0, \"#0d0887\"], [0.1111111111111111, \"#46039f\"], [0.2222222222222222, \"#7201a8\"], [0.3333333333333333, \"#9c179e\"], [0.4444444444444444, \"#bd3786\"], [0.5555555555555556, \"#d8576b\"], [0.6666666666666666, \"#ed7953\"], [0.7777777777777778, \"#fb9f3a\"], [0.8888888888888888, \"#fdca26\"], [1.0, \"#f0f921\"]], \"type\": \"histogram2d\"}], \"histogram2dcontour\": [{\"colorbar\": {\"outlinewidth\": 0, \"ticks\": \"\"}, \"colorscale\": [[0.0, \"#0d0887\"], [0.1111111111111111, \"#46039f\"], [0.2222222222222222, \"#7201a8\"], [0.3333333333333333, \"#9c179e\"], [0.4444444444444444, \"#bd3786\"], [0.5555555555555556, \"#d8576b\"], [0.6666666666666666, \"#ed7953\"], [0.7777777777777778, \"#fb9f3a\"], [0.8888888888888888, \"#fdca26\"], [1.0, \"#f0f921\"]], \"type\": \"histogram2dcontour\"}], \"mesh3d\": [{\"colorbar\": {\"outlinewidth\": 0, \"ticks\": \"\"}, \"type\": \"mesh3d\"}], \"parcoords\": [{\"line\": {\"colorbar\": {\"outlinewidth\": 0, \"ticks\": \"\"}}, \"type\": \"parcoords\"}], \"pie\": [{\"automargin\": true, \"type\": \"pie\"}], \"scatter\": [{\"marker\": {\"colorbar\": {\"outlinewidth\": 0, \"ticks\": \"\"}}, \"type\": \"scatter\"}], \"scatter3d\": [{\"line\": {\"colorbar\": {\"outlinewidth\": 0, \"ticks\": \"\"}}, \"marker\": {\"colorbar\": {\"outlinewidth\": 0, \"ticks\": \"\"}}, \"type\": \"scatter3d\"}], \"scattercarpet\": [{\"marker\": {\"colorbar\": {\"outlinewidth\": 0, \"ticks\": \"\"}}, \"type\": \"scattercarpet\"}], \"scattergeo\": [{\"marker\": {\"colorbar\": {\"outlinewidth\": 0, \"ticks\": \"\"}}, \"type\": \"scattergeo\"}], \"scattergl\": [{\"marker\": {\"colorbar\": {\"outlinewidth\": 0, \"ticks\": \"\"}}, \"type\": \"scattergl\"}], \"scattermapbox\": [{\"marker\": {\"colorbar\": {\"outlinewidth\": 0, \"ticks\": \"\"}}, \"type\": \"scattermapbox\"}], \"scatterpolar\": [{\"marker\": {\"colorbar\": {\"outlinewidth\": 0, \"ticks\": \"\"}}, \"type\": \"scatterpolar\"}], \"scatterpolargl\": [{\"marker\": {\"colorbar\": {\"outlinewidth\": 0, \"ticks\": \"\"}}, \"type\": \"scatterpolargl\"}], \"scatterternary\": [{\"marker\": {\"colorbar\": {\"outlinewidth\": 0, \"ticks\": \"\"}}, \"type\": \"scatterternary\"}], \"surface\": [{\"colorbar\": {\"outlinewidth\": 0, \"ticks\": \"\"}, \"colorscale\": [[0.0, \"#0d0887\"], [0.1111111111111111, \"#46039f\"], [0.2222222222222222, \"#7201a8\"], [0.3333333333333333, \"#9c179e\"], [0.4444444444444444, \"#bd3786\"], [0.5555555555555556, \"#d8576b\"], [0.6666666666666666, \"#ed7953\"], [0.7777777777777778, \"#fb9f3a\"], [0.8888888888888888, \"#fdca26\"], [1.0, \"#f0f921\"]], \"type\": \"surface\"}], \"table\": [{\"cells\": {\"fill\": {\"color\": \"#EBF0F8\"}, \"line\": {\"color\": \"white\"}}, \"header\": {\"fill\": {\"color\": \"#C8D4E3\"}, \"line\": {\"color\": \"white\"}}, \"type\": \"table\"}]}, \"layout\": {\"annotationdefaults\": {\"arrowcolor\": \"#2a3f5f\", \"arrowhead\": 0, \"arrowwidth\": 1}, \"coloraxis\": {\"colorbar\": {\"outlinewidth\": 0, \"ticks\": \"\"}}, \"colorscale\": {\"diverging\": [[0, \"#8e0152\"], [0.1, \"#c51b7d\"], [0.2, \"#de77ae\"], [0.3, \"#f1b6da\"], [0.4, \"#fde0ef\"], [0.5, \"#f7f7f7\"], [0.6, \"#e6f5d0\"], [0.7, \"#b8e186\"], [0.8, \"#7fbc41\"], [0.9, \"#4d9221\"], [1, \"#276419\"]], \"sequential\": [[0.0, \"#0d0887\"], [0.1111111111111111, \"#46039f\"], [0.2222222222222222, \"#7201a8\"], [0.3333333333333333, \"#9c179e\"], [0.4444444444444444, \"#bd3786\"], [0.5555555555555556, \"#d8576b\"], [0.6666666666666666, \"#ed7953\"], [0.7777777777777778, \"#fb9f3a\"], [0.8888888888888888, \"#fdca26\"], [1.0, \"#f0f921\"]], \"sequentialminus\": [[0.0, \"#0d0887\"], [0.1111111111111111, \"#46039f\"], [0.2222222222222222, \"#7201a8\"], [0.3333333333333333, \"#9c179e\"], [0.4444444444444444, \"#bd3786\"], [0.5555555555555556, \"#d8576b\"], [0.6666666666666666, \"#ed7953\"], [0.7777777777777778, \"#fb9f3a\"], [0.8888888888888888, \"#fdca26\"], [1.0, \"#f0f921\"]]}, \"colorway\": [\"#636efa\", \"#EF553B\", \"#00cc96\", \"#ab63fa\", \"#FFA15A\", \"#19d3f3\", \"#FF6692\", \"#B6E880\", \"#FF97FF\", \"#FECB52\"], \"font\": {\"color\": \"#2a3f5f\"}, \"geo\": {\"bgcolor\": \"white\", \"lakecolor\": \"white\", \"landcolor\": \"#E5ECF6\", \"showlakes\": true, \"showland\": true, \"subunitcolor\": \"white\"}, \"hoverlabel\": {\"align\": \"left\"}, \"hovermode\": \"closest\", \"mapbox\": {\"style\": \"light\"}, \"paper_bgcolor\": \"white\", \"plot_bgcolor\": \"#E5ECF6\", \"polar\": {\"angularaxis\": {\"gridcolor\": \"white\", \"linecolor\": \"white\", \"ticks\": \"\"}, \"bgcolor\": \"#E5ECF6\", \"radialaxis\": {\"gridcolor\": \"white\", \"linecolor\": \"white\", \"ticks\": \"\"}}, \"scene\": {\"xaxis\": {\"backgroundcolor\": \"#E5ECF6\", \"gridcolor\": \"white\", \"gridwidth\": 2, \"linecolor\": \"white\", \"showbackground\": true, \"ticks\": \"\", \"zerolinecolor\": \"white\"}, \"yaxis\": {\"backgroundcolor\": \"#E5ECF6\", \"gridcolor\": \"white\", \"gridwidth\": 2, \"linecolor\": \"white\", \"showbackground\": true, \"ticks\": \"\", \"zerolinecolor\": \"white\"}, \"zaxis\": {\"backgroundcolor\": \"#E5ECF6\", \"gridcolor\": \"white\", \"gridwidth\": 2, \"linecolor\": \"white\", \"showbackground\": true, \"ticks\": \"\", \"zerolinecolor\": \"white\"}}, \"shapedefaults\": {\"line\": {\"color\": \"#2a3f5f\"}}, \"ternary\": {\"aaxis\": {\"gridcolor\": \"white\", \"linecolor\": \"white\", \"ticks\": \"\"}, \"baxis\": {\"gridcolor\": \"white\", \"linecolor\": \"white\", \"ticks\": \"\"}, \"bgcolor\": \"#E5ECF6\", \"caxis\": {\"gridcolor\": \"white\", \"linecolor\": \"white\", \"ticks\": \"\"}}, \"title\": {\"x\": 0.05}, \"xaxis\": {\"automargin\": true, \"gridcolor\": \"white\", \"linecolor\": \"white\", \"ticks\": \"\", \"title\": {\"standoff\": 15}, \"zerolinecolor\": \"white\", \"zerolinewidth\": 2}, \"yaxis\": {\"automargin\": true, \"gridcolor\": \"white\", \"linecolor\": \"white\", \"ticks\": \"\", \"title\": {\"standoff\": 15}, \"zerolinecolor\": \"white\", \"zerolinewidth\": 2}}}},\n",
       "                        {\"responsive\": true}\n",
       "                    ).then(function(){\n",
       "                            \n",
       "var gd = document.getElementById('bb8fe31f-5907-47d6-9211-f62c952d64e5');\n",
       "var x = new MutationObserver(function (mutations, observer) {{\n",
       "        var display = window.getComputedStyle(gd).display;\n",
       "        if (!display || display === 'none') {{\n",
       "            console.log([gd, 'removed!']);\n",
       "            Plotly.purge(gd);\n",
       "            observer.disconnect();\n",
       "        }}\n",
       "}});\n",
       "\n",
       "// Listen for the removal of the full notebook cells\n",
       "var notebookContainer = gd.closest('#notebook-container');\n",
       "if (notebookContainer) {{\n",
       "    x.observe(notebookContainer, {childList: true});\n",
       "}}\n",
       "\n",
       "// Listen for the clearing of the current output cell\n",
       "var outputEl = gd.closest('.output');\n",
       "if (outputEl) {{\n",
       "    x.observe(outputEl, {childList: true});\n",
       "}}\n",
       "\n",
       "                        })\n",
       "                };\n",
       "                });\n",
       "            </script>\n",
       "        </div>"
      ]
     },
     "metadata": {},
     "output_type": "display_data"
    }
   ],
   "source": [
    "fig = go.Figure()\n",
    "\n",
    "# Add traces\n",
    "fig.add_trace(go.Scatter(x=df_test['Date'], y=df_test['Trading Signal'],\n",
    "                    mode='lines',\n",
    "                    name='Trading Signal'))\n",
    "\n",
    "# Add traces\n",
    "fig.add_trace(go.Scatter(x=df_test['Date'], y=df_test['pred'],\n",
    "                    mode='lines',\n",
    "                    name='Predictions'))\n",
    "\n",
    "\n",
    "fig.show()"
   ]
  },
  {
   "cell_type": "code",
   "execution_count": 93,
   "metadata": {},
   "outputs": [],
   "source": [
    "def buysellSignal(x):\n",
    "    if x > 0.7:\n",
    "        return 'SELL'\n",
    "    if x < 0.35:\n",
    "        return 'BUY'\n",
    "    \n",
    "df_test['action'] = df_test['pred'].apply(lambda x: buysellSignal(x))"
   ]
  },
  {
   "cell_type": "code",
   "execution_count": 94,
   "metadata": {},
   "outputs": [
    {
     "data": {
      "application/vnd.plotly.v1+json": {
       "config": {
        "plotlyServerURL": "https://plot.ly"
       },
       "data": [
        {
         "hovertext": [
          0.7713514304313409,
          0.7444678656742405,
          0.7586809156319223,
          0.7037467705733205,
          0.7022603905102707,
          0.6866869695917135,
          0.6099691077420961,
          0.7193474593078246,
          0.6759750997691567,
          0.6312399710024552,
          0.6283597910104062,
          0.5922060610671145,
          0.6417490020889995,
          0.7135100279579327,
          0.691467383054083,
          0.6756617183226048,
          0.5789617593757641,
          0.6944739298907701,
          0.6327506526108828,
          0.6098624648301643,
          0.49549016682048386,
          0.5756607002613583,
          0.5932411874966368,
          0.4957747051028569,
          0.5090896232971538,
          0.46964632366874914,
          0.49730726945905346,
          0.6052738484311702,
          0.6237783309097402,
          0.5921413815773371,
          0.5781276934332316,
          0.5962946698495228,
          0.6491757265577713,
          0.6225294904676093,
          0.5676808592320572,
          0.46403343833563593,
          0.4389397055257711,
          0.44333759002201445,
          0.33969824736849397,
          0.2709530735262975,
          0.35913821628477427,
          0.33437127919169285,
          0.395020077793935,
          0.4817446730794459,
          0.35500970572567603,
          0.36113710719783754,
          0.49895613104972725,
          0.44567630520905555,
          0.32412080247742914,
          0.3986093145791676,
          0.2825268373913916,
          0.3920652635540729,
          0.2489038920228972,
          0.2916154059713669,
          0.29335141536762954,
          0.30113057012218114,
          0.48818548509076276,
          0.43965682485806523,
          0.3978832431817416,
          0.3508199330188724,
          0.3926796185091561,
          0.38895834604945545,
          0.42634335545886826,
          0.48178205934947904,
          0.49288361246545964,
          0.5827656220549287,
          0.6011478143504863,
          0.5749894753900482,
          0.5725604600035683,
          0.5510561232623528,
          0.6274642374594142,
          0.6389134717937921,
          0.6632915486863373,
          0.6506789505645427,
          0.591930943946875,
          0.5892760041237239,
          0.6224959744015646,
          0.6567209930468771,
          0.6233516493489444,
          0.5988973878465718,
          0.5899181109761731,
          0.6474133999757044,
          0.666717961010685,
          0.6924904659357387,
          0.6979264754165806,
          0.6560615839943118,
          0.5872245114430208,
          0.6279038394076593,
          0.6552846010660422,
          0.5663401013549114,
          0.5547881010656952,
          0.5697733068935094,
          0.6319033240868723,
          0.6290334205649635,
          0.6126163847515578,
          0.5863549497252052,
          0.6737335458359031,
          0.6360662441147142,
          0.649479063105384,
          0.7015510787178938,
          0.7022759081177501,
          0.7197116390367526,
          0.7272007756358136,
          0.7334484605618288,
          0.7227994432988782,
          0.7244802267621453,
          0.6709018438589345,
          0.7354005781582154,
          0.7602555449521957,
          0.7394825784218173,
          0.7028222515116549,
          0.5686434067843544,
          0.6139026605826872,
          0.6666252200300122,
          0.5862498663434446,
          0.5224023284489614,
          0.5523169214641444,
          0.5974518827489983,
          0.642833703525902,
          0.6233903407969157,
          0.5817619145886264,
          0.608586764677673,
          0.627166047189347,
          0.5868696298390228,
          0.6033240182350608,
          0.548925866311448,
          0.5139230933405079,
          0.7130215712701751,
          0.683394553352199,
          0.6270179350747527,
          0.6766180807397952,
          0.6241679236435589,
          0.5160033811564104,
          0.5433222964883289,
          0.5587442575182515,
          0.4802520154411427,
          0.5745808601771132,
          0.4944590755968954,
          0.4850044558799049,
          0.5433432737791679,
          0.5897405965045075,
          0.5921942403151994,
          0.6596981619093265,
          0.5905718153035253,
          0.6438727338781551,
          0.6340741688901272,
          0.6239735006997189,
          0.6549895306370574,
          0.6503786615241993,
          0.638807343516846,
          0.6536136994927739,
          0.6867770073323012,
          0.6729512971859108,
          0.70370949989224,
          0.7140980337472111,
          0.7256484961479992,
          0.7042074435260144,
          0.7013332357296638,
          0.6610237704437085,
          0.6962409840993256,
          0.6391975801292382,
          0.5877319218825625,
          0.596909245309539,
          0.4344109569547383,
          0.4586259670832913,
          0.39010730796276416,
          0.37416186883355795,
          0.42173993175656266,
          0.49880445704819754,
          0.48845202229223217,
          -0.037274214583125076
         ],
         "mode": "lines",
         "name": "markers",
         "type": "scatter",
         "x": [
          "2020-01-02T00:00:00",
          "2020-01-03T00:00:00",
          "2020-01-06T00:00:00",
          "2020-01-07T00:00:00",
          "2020-01-08T00:00:00",
          "2020-01-09T00:00:00",
          "2020-01-10T00:00:00",
          "2020-01-13T00:00:00",
          "2020-01-14T00:00:00",
          "2020-01-15T00:00:00",
          "2020-01-16T00:00:00",
          "2020-01-17T00:00:00",
          "2020-01-21T00:00:00",
          "2020-01-22T00:00:00",
          "2020-01-23T00:00:00",
          "2020-01-24T00:00:00",
          "2020-01-27T00:00:00",
          "2020-01-28T00:00:00",
          "2020-01-29T00:00:00",
          "2020-01-30T00:00:00",
          "2020-01-31T00:00:00",
          "2020-02-03T00:00:00",
          "2020-02-04T00:00:00",
          "2020-02-05T00:00:00",
          "2020-02-06T00:00:00",
          "2020-02-07T00:00:00",
          "2020-02-10T00:00:00",
          "2020-02-11T00:00:00",
          "2020-02-12T00:00:00",
          "2020-02-13T00:00:00",
          "2020-02-14T00:00:00",
          "2020-02-18T00:00:00",
          "2020-02-19T00:00:00",
          "2020-02-20T00:00:00",
          "2020-02-21T00:00:00",
          "2020-02-24T00:00:00",
          "2020-02-25T00:00:00",
          "2020-02-26T00:00:00",
          "2020-02-27T00:00:00",
          "2020-02-28T00:00:00",
          "2020-03-02T00:00:00",
          "2020-03-03T00:00:00",
          "2020-03-04T00:00:00",
          "2020-03-05T00:00:00",
          "2020-03-06T00:00:00",
          "2020-03-09T00:00:00",
          "2020-03-10T00:00:00",
          "2020-03-11T00:00:00",
          "2020-03-12T00:00:00",
          "2020-03-13T00:00:00",
          "2020-03-16T00:00:00",
          "2020-03-17T00:00:00",
          "2020-03-18T00:00:00",
          "2020-03-19T00:00:00",
          "2020-03-20T00:00:00",
          "2020-03-23T00:00:00",
          "2020-03-24T00:00:00",
          "2020-03-25T00:00:00",
          "2020-03-26T00:00:00",
          "2020-03-27T00:00:00",
          "2020-03-30T00:00:00",
          "2020-03-31T00:00:00",
          "2020-04-01T00:00:00",
          "2020-04-02T00:00:00",
          "2020-04-03T00:00:00",
          "2020-04-06T00:00:00",
          "2020-04-07T00:00:00",
          "2020-04-08T00:00:00",
          "2020-04-09T00:00:00",
          "2020-04-13T00:00:00",
          "2020-04-14T00:00:00",
          "2020-04-15T00:00:00",
          "2020-04-16T00:00:00",
          "2020-04-17T00:00:00",
          "2020-04-20T00:00:00",
          "2020-04-21T00:00:00",
          "2020-04-22T00:00:00",
          "2020-04-23T00:00:00",
          "2020-04-24T00:00:00",
          "2020-04-27T00:00:00",
          "2020-04-28T00:00:00",
          "2020-04-29T00:00:00",
          "2020-04-30T00:00:00",
          "2020-05-01T00:00:00",
          "2020-05-04T00:00:00",
          "2020-05-05T00:00:00",
          "2020-05-06T00:00:00",
          "2020-05-07T00:00:00",
          "2020-05-08T00:00:00",
          "2020-05-11T00:00:00",
          "2020-05-12T00:00:00",
          "2020-05-13T00:00:00",
          "2020-05-14T00:00:00",
          "2020-05-15T00:00:00",
          "2020-05-18T00:00:00",
          "2020-05-19T00:00:00",
          "2020-05-20T00:00:00",
          "2020-05-21T00:00:00",
          "2020-05-22T00:00:00",
          "2020-05-26T00:00:00",
          "2020-05-27T00:00:00",
          "2020-05-28T00:00:00",
          "2020-05-29T00:00:00",
          "2020-06-01T00:00:00",
          "2020-06-02T00:00:00",
          "2020-06-03T00:00:00",
          "2020-06-04T00:00:00",
          "2020-06-05T00:00:00",
          "2020-06-08T00:00:00",
          "2020-06-09T00:00:00",
          "2020-06-10T00:00:00",
          "2020-06-11T00:00:00",
          "2020-06-12T00:00:00",
          "2020-06-15T00:00:00",
          "2020-06-16T00:00:00",
          "2020-06-17T00:00:00",
          "2020-06-18T00:00:00",
          "2020-06-19T00:00:00",
          "2020-06-22T00:00:00",
          "2020-06-23T00:00:00",
          "2020-06-24T00:00:00",
          "2020-06-25T00:00:00",
          "2020-06-26T00:00:00",
          "2020-06-29T00:00:00",
          "2020-06-30T00:00:00",
          "2020-07-01T00:00:00",
          "2020-07-02T00:00:00",
          "2020-07-06T00:00:00",
          "2020-07-07T00:00:00",
          "2020-07-08T00:00:00",
          "2020-07-09T00:00:00",
          "2020-07-10T00:00:00",
          "2020-07-13T00:00:00",
          "2020-07-14T00:00:00",
          "2020-07-15T00:00:00",
          "2020-07-16T00:00:00",
          "2020-07-17T00:00:00",
          "2020-07-20T00:00:00",
          "2020-07-21T00:00:00",
          "2020-07-22T00:00:00",
          "2020-07-23T00:00:00",
          "2020-07-24T00:00:00",
          "2020-07-27T00:00:00",
          "2020-07-28T00:00:00",
          "2020-07-29T00:00:00",
          "2020-07-30T00:00:00",
          "2020-07-31T00:00:00",
          "2020-08-03T00:00:00",
          "2020-08-04T00:00:00",
          "2020-08-05T00:00:00",
          "2020-08-06T00:00:00",
          "2020-08-07T00:00:00",
          "2020-08-10T00:00:00",
          "2020-08-11T00:00:00",
          "2020-08-12T00:00:00",
          "2020-08-13T00:00:00",
          "2020-08-14T00:00:00",
          "2020-08-17T00:00:00",
          "2020-08-18T00:00:00",
          "2020-08-19T00:00:00",
          "2020-08-20T00:00:00",
          "2020-08-21T00:00:00",
          "2020-08-24T00:00:00",
          "2020-08-25T00:00:00",
          "2020-08-26T00:00:00",
          "2020-08-27T00:00:00",
          "2020-08-28T00:00:00",
          "2020-08-31T00:00:00",
          "2020-09-01T00:00:00",
          "2020-09-02T00:00:00",
          "2020-09-03T00:00:00"
         ],
         "y": [
          42.86000061035156,
          41.86999893188477,
          41.88999938964844,
          41.54999923706055,
          42.27999877929688,
          42.099998474121094,
          41.63999938964844,
          42.38999938964844,
          42.060001373291016,
          42.36000061035156,
          42.849998474121094,
          42.22999954223633,
          42.16999816894531,
          42.43999862670898,
          42.5,
          43.27000045776367,
          41.97000122070313,
          42.93000030517578,
          42.15999984741211,
          42.18999862670898,
          40.66999816894531,
          41.83000183105469,
          42.86999893188477,
          42.66999816894531,
          43.47999954223633,
          42.63999938964844,
          42.47999954223633,
          43.08000183105469,
          43.20000076293945,
          43.310001373291016,
          43.18999862670898,
          43.06999969482422,
          43.84000015258789,
          44.47000122070313,
          43.88999938964844,
          42.63000106811523,
          40.93000030517578,
          40.38999938964844,
          38.97000122070313,
          38.45000076293945,
          39.65999984741211,
          40.02000045776367,
          41.61999893188477,
          42.88000106811523,
          41.09000015258789,
          38.72000122070313,
          40.52000045776367,
          38.83000183105469,
          34.72999954223633,
          37.02000045776367,
          35.060001373291016,
          39.22999954223633,
          36,
          37.52000045776367,
          36.06999969482422,
          34.5,
          38.86999893188477,
          38.56999969482422,
          40.83000183105469,
          39.34000015258789,
          41.08000183105469,
          39.810001373291016,
          39.97000122070313,
          40.61999893188477,
          40.34000015258789,
          45.02999877929688,
          45.540000915527344,
          46.15999984741211,
          45.6500015258789,
          44.43000030517578,
          45.31000137329102,
          43.900001525878906,
          44.61000061035156,
          44.20000076293945,
          46.349998474121094,
          44.02999877929688,
          44.72999954223633,
          44.7599983215332,
          46.58000183105469,
          48.91999816894531,
          46.9900016784668,
          47.13000106811523,
          46.25,
          46.34000015258789,
          46.83000183105469,
          47.29999923706055,
          45.7400016784668,
          46.56999969482422,
          47.959999084472656,
          48.52999877929688,
          48.09000015258789,
          46.7599983215332,
          46.83000183105469,
          49.6500015258789,
          51.36000061035156,
          51.16999816894531,
          52.95000076293945,
          51.72000122070313,
          52.81000137329102,
          53.90999984741211,
          55.56999969482422,
          54.790000915527344,
          55.2599983215332,
          56,
          55.66999816894531,
          56.31000137329102,
          53.93999862670898,
          54.290000915527344,
          54.5099983215332,
          55.09000015258789,
          54.93000030517578,
          52.209999084472656,
          52.7599983215332,
          53.75,
          54.4000015258789,
          53.61999893188477,
          53.36000061035156,
          53.61999893188477,
          54.1500015258789,
          54.08000183105469,
          53.22000122070313,
          53.36000061035156,
          53.47000122070313,
          53.1500015258789,
          54.15999984741211,
          53.59000015258789,
          53.2599983215332,
          56.56999969482422,
          55.9000015258789,
          55.5099983215332,
          56.15999984741211,
          54.97000122070313,
          52.36000061035156,
          52.97000122070313,
          53.459999084472656,
          52.849998474121094,
          54.599998474121094,
          54.349998474121094,
          54.52000045776367,
          54.95000076293945,
          55.16999816894531,
          56.72000122070313,
          58.91999816894531,
          57.59000015258789,
          59.45000076293945,
          59.11000061035156,
          59.5099983215332,
          59.93000030517578,
          60.38999938964844,
          59.91999816894531,
          60.95000076293945,
          60.9900016784668,
          60.56000137329102,
          60.16999816894531,
          60.54999923706055,
          60.68000030517578,
          59.7400016784668,
          59.45000076293945,
          59.08000183105469,
          59.84000015258789,
          59.88000106811523,
          59.86000061035156,
          59.599998474121094,
          57.09000015258789,
          56.93000030517578,
          55.9900016784668,
          56.02999877929688,
          56.77000045776367,
          58.599998474121094,
          60.06999969482422,
          45.459999084472656
         ]
        },
        {
         "hovertext": [
          0.7713514304313409,
          0.7444678656742405,
          0.7586809156319223,
          0.7037467705733205,
          0.7022603905102707,
          0.7193474593078246,
          0.7135100279579327,
          0.7015510787178938,
          0.7022759081177501,
          0.7197116390367526,
          0.7272007756358136,
          0.7334484605618288,
          0.7227994432988782,
          0.7244802267621453,
          0.7354005781582154,
          0.7602555449521957,
          0.7394825784218173,
          0.7028222515116549,
          0.7130215712701751,
          0.70370949989224,
          0.7140980337472111,
          0.7256484961479992,
          0.7042074435260144,
          0.7013332357296638
         ],
         "mode": "markers",
         "name": "SELL",
         "type": "scatter",
         "x": [
          "2020-01-02T00:00:00",
          "2020-01-03T00:00:00",
          "2020-01-06T00:00:00",
          "2020-01-07T00:00:00",
          "2020-01-08T00:00:00",
          "2020-01-13T00:00:00",
          "2020-01-22T00:00:00",
          "2020-05-26T00:00:00",
          "2020-05-27T00:00:00",
          "2020-05-28T00:00:00",
          "2020-05-29T00:00:00",
          "2020-06-01T00:00:00",
          "2020-06-02T00:00:00",
          "2020-06-03T00:00:00",
          "2020-06-05T00:00:00",
          "2020-06-08T00:00:00",
          "2020-06-09T00:00:00",
          "2020-06-10T00:00:00",
          "2020-07-06T00:00:00",
          "2020-08-11T00:00:00",
          "2020-08-12T00:00:00",
          "2020-08-13T00:00:00",
          "2020-08-14T00:00:00",
          "2020-08-17T00:00:00"
         ],
         "y": [
          42.86000061035156,
          41.86999893188477,
          41.88999938964844,
          41.54999923706055,
          42.27999877929688,
          42.38999938964844,
          42.43999862670898,
          53.90999984741211,
          55.56999969482422,
          54.790000915527344,
          55.2599983215332,
          56,
          55.66999816894531,
          56.31000137329102,
          54.290000915527344,
          54.5099983215332,
          55.09000015258789,
          54.93000030517578,
          56.56999969482422,
          60.16999816894531,
          60.54999923706055,
          60.68000030517578,
          59.7400016784668,
          59.45000076293945
         ]
        },
        {
         "hovertext": [
          0.33969824736849397,
          0.2709530735262975,
          0.33437127919169285,
          0.32412080247742914,
          0.2825268373913916,
          0.2489038920228972,
          0.2916154059713669,
          0.29335141536762954,
          0.30113057012218114,
          -0.037274214583125076
         ],
         "mode": "markers",
         "name": "BUY",
         "type": "scatter",
         "x": [
          "2020-02-27T00:00:00",
          "2020-02-28T00:00:00",
          "2020-03-03T00:00:00",
          "2020-03-12T00:00:00",
          "2020-03-16T00:00:00",
          "2020-03-18T00:00:00",
          "2020-03-19T00:00:00",
          "2020-03-20T00:00:00",
          "2020-03-23T00:00:00",
          "2020-09-03T00:00:00"
         ],
         "y": [
          38.97000122070313,
          38.45000076293945,
          40.02000045776367,
          34.72999954223633,
          35.060001373291016,
          36,
          37.52000045776367,
          36.06999969482422,
          34.5,
          45.459999084472656
         ]
        }
       ],
       "layout": {
        "template": {
         "data": {
          "bar": [
           {
            "error_x": {
             "color": "#2a3f5f"
            },
            "error_y": {
             "color": "#2a3f5f"
            },
            "marker": {
             "line": {
              "color": "#E5ECF6",
              "width": 0.5
             }
            },
            "type": "bar"
           }
          ],
          "barpolar": [
           {
            "marker": {
             "line": {
              "color": "#E5ECF6",
              "width": 0.5
             }
            },
            "type": "barpolar"
           }
          ],
          "carpet": [
           {
            "aaxis": {
             "endlinecolor": "#2a3f5f",
             "gridcolor": "white",
             "linecolor": "white",
             "minorgridcolor": "white",
             "startlinecolor": "#2a3f5f"
            },
            "baxis": {
             "endlinecolor": "#2a3f5f",
             "gridcolor": "white",
             "linecolor": "white",
             "minorgridcolor": "white",
             "startlinecolor": "#2a3f5f"
            },
            "type": "carpet"
           }
          ],
          "choropleth": [
           {
            "colorbar": {
             "outlinewidth": 0,
             "ticks": ""
            },
            "type": "choropleth"
           }
          ],
          "contour": [
           {
            "colorbar": {
             "outlinewidth": 0,
             "ticks": ""
            },
            "colorscale": [
             [
              0,
              "#0d0887"
             ],
             [
              0.1111111111111111,
              "#46039f"
             ],
             [
              0.2222222222222222,
              "#7201a8"
             ],
             [
              0.3333333333333333,
              "#9c179e"
             ],
             [
              0.4444444444444444,
              "#bd3786"
             ],
             [
              0.5555555555555556,
              "#d8576b"
             ],
             [
              0.6666666666666666,
              "#ed7953"
             ],
             [
              0.7777777777777778,
              "#fb9f3a"
             ],
             [
              0.8888888888888888,
              "#fdca26"
             ],
             [
              1,
              "#f0f921"
             ]
            ],
            "type": "contour"
           }
          ],
          "contourcarpet": [
           {
            "colorbar": {
             "outlinewidth": 0,
             "ticks": ""
            },
            "type": "contourcarpet"
           }
          ],
          "heatmap": [
           {
            "colorbar": {
             "outlinewidth": 0,
             "ticks": ""
            },
            "colorscale": [
             [
              0,
              "#0d0887"
             ],
             [
              0.1111111111111111,
              "#46039f"
             ],
             [
              0.2222222222222222,
              "#7201a8"
             ],
             [
              0.3333333333333333,
              "#9c179e"
             ],
             [
              0.4444444444444444,
              "#bd3786"
             ],
             [
              0.5555555555555556,
              "#d8576b"
             ],
             [
              0.6666666666666666,
              "#ed7953"
             ],
             [
              0.7777777777777778,
              "#fb9f3a"
             ],
             [
              0.8888888888888888,
              "#fdca26"
             ],
             [
              1,
              "#f0f921"
             ]
            ],
            "type": "heatmap"
           }
          ],
          "heatmapgl": [
           {
            "colorbar": {
             "outlinewidth": 0,
             "ticks": ""
            },
            "colorscale": [
             [
              0,
              "#0d0887"
             ],
             [
              0.1111111111111111,
              "#46039f"
             ],
             [
              0.2222222222222222,
              "#7201a8"
             ],
             [
              0.3333333333333333,
              "#9c179e"
             ],
             [
              0.4444444444444444,
              "#bd3786"
             ],
             [
              0.5555555555555556,
              "#d8576b"
             ],
             [
              0.6666666666666666,
              "#ed7953"
             ],
             [
              0.7777777777777778,
              "#fb9f3a"
             ],
             [
              0.8888888888888888,
              "#fdca26"
             ],
             [
              1,
              "#f0f921"
             ]
            ],
            "type": "heatmapgl"
           }
          ],
          "histogram": [
           {
            "marker": {
             "colorbar": {
              "outlinewidth": 0,
              "ticks": ""
             }
            },
            "type": "histogram"
           }
          ],
          "histogram2d": [
           {
            "colorbar": {
             "outlinewidth": 0,
             "ticks": ""
            },
            "colorscale": [
             [
              0,
              "#0d0887"
             ],
             [
              0.1111111111111111,
              "#46039f"
             ],
             [
              0.2222222222222222,
              "#7201a8"
             ],
             [
              0.3333333333333333,
              "#9c179e"
             ],
             [
              0.4444444444444444,
              "#bd3786"
             ],
             [
              0.5555555555555556,
              "#d8576b"
             ],
             [
              0.6666666666666666,
              "#ed7953"
             ],
             [
              0.7777777777777778,
              "#fb9f3a"
             ],
             [
              0.8888888888888888,
              "#fdca26"
             ],
             [
              1,
              "#f0f921"
             ]
            ],
            "type": "histogram2d"
           }
          ],
          "histogram2dcontour": [
           {
            "colorbar": {
             "outlinewidth": 0,
             "ticks": ""
            },
            "colorscale": [
             [
              0,
              "#0d0887"
             ],
             [
              0.1111111111111111,
              "#46039f"
             ],
             [
              0.2222222222222222,
              "#7201a8"
             ],
             [
              0.3333333333333333,
              "#9c179e"
             ],
             [
              0.4444444444444444,
              "#bd3786"
             ],
             [
              0.5555555555555556,
              "#d8576b"
             ],
             [
              0.6666666666666666,
              "#ed7953"
             ],
             [
              0.7777777777777778,
              "#fb9f3a"
             ],
             [
              0.8888888888888888,
              "#fdca26"
             ],
             [
              1,
              "#f0f921"
             ]
            ],
            "type": "histogram2dcontour"
           }
          ],
          "mesh3d": [
           {
            "colorbar": {
             "outlinewidth": 0,
             "ticks": ""
            },
            "type": "mesh3d"
           }
          ],
          "parcoords": [
           {
            "line": {
             "colorbar": {
              "outlinewidth": 0,
              "ticks": ""
             }
            },
            "type": "parcoords"
           }
          ],
          "pie": [
           {
            "automargin": true,
            "type": "pie"
           }
          ],
          "scatter": [
           {
            "marker": {
             "colorbar": {
              "outlinewidth": 0,
              "ticks": ""
             }
            },
            "type": "scatter"
           }
          ],
          "scatter3d": [
           {
            "line": {
             "colorbar": {
              "outlinewidth": 0,
              "ticks": ""
             }
            },
            "marker": {
             "colorbar": {
              "outlinewidth": 0,
              "ticks": ""
             }
            },
            "type": "scatter3d"
           }
          ],
          "scattercarpet": [
           {
            "marker": {
             "colorbar": {
              "outlinewidth": 0,
              "ticks": ""
             }
            },
            "type": "scattercarpet"
           }
          ],
          "scattergeo": [
           {
            "marker": {
             "colorbar": {
              "outlinewidth": 0,
              "ticks": ""
             }
            },
            "type": "scattergeo"
           }
          ],
          "scattergl": [
           {
            "marker": {
             "colorbar": {
              "outlinewidth": 0,
              "ticks": ""
             }
            },
            "type": "scattergl"
           }
          ],
          "scattermapbox": [
           {
            "marker": {
             "colorbar": {
              "outlinewidth": 0,
              "ticks": ""
             }
            },
            "type": "scattermapbox"
           }
          ],
          "scatterpolar": [
           {
            "marker": {
             "colorbar": {
              "outlinewidth": 0,
              "ticks": ""
             }
            },
            "type": "scatterpolar"
           }
          ],
          "scatterpolargl": [
           {
            "marker": {
             "colorbar": {
              "outlinewidth": 0,
              "ticks": ""
             }
            },
            "type": "scatterpolargl"
           }
          ],
          "scatterternary": [
           {
            "marker": {
             "colorbar": {
              "outlinewidth": 0,
              "ticks": ""
             }
            },
            "type": "scatterternary"
           }
          ],
          "surface": [
           {
            "colorbar": {
             "outlinewidth": 0,
             "ticks": ""
            },
            "colorscale": [
             [
              0,
              "#0d0887"
             ],
             [
              0.1111111111111111,
              "#46039f"
             ],
             [
              0.2222222222222222,
              "#7201a8"
             ],
             [
              0.3333333333333333,
              "#9c179e"
             ],
             [
              0.4444444444444444,
              "#bd3786"
             ],
             [
              0.5555555555555556,
              "#d8576b"
             ],
             [
              0.6666666666666666,
              "#ed7953"
             ],
             [
              0.7777777777777778,
              "#fb9f3a"
             ],
             [
              0.8888888888888888,
              "#fdca26"
             ],
             [
              1,
              "#f0f921"
             ]
            ],
            "type": "surface"
           }
          ],
          "table": [
           {
            "cells": {
             "fill": {
              "color": "#EBF0F8"
             },
             "line": {
              "color": "white"
             }
            },
            "header": {
             "fill": {
              "color": "#C8D4E3"
             },
             "line": {
              "color": "white"
             }
            },
            "type": "table"
           }
          ]
         },
         "layout": {
          "annotationdefaults": {
           "arrowcolor": "#2a3f5f",
           "arrowhead": 0,
           "arrowwidth": 1
          },
          "coloraxis": {
           "colorbar": {
            "outlinewidth": 0,
            "ticks": ""
           }
          },
          "colorscale": {
           "diverging": [
            [
             0,
             "#8e0152"
            ],
            [
             0.1,
             "#c51b7d"
            ],
            [
             0.2,
             "#de77ae"
            ],
            [
             0.3,
             "#f1b6da"
            ],
            [
             0.4,
             "#fde0ef"
            ],
            [
             0.5,
             "#f7f7f7"
            ],
            [
             0.6,
             "#e6f5d0"
            ],
            [
             0.7,
             "#b8e186"
            ],
            [
             0.8,
             "#7fbc41"
            ],
            [
             0.9,
             "#4d9221"
            ],
            [
             1,
             "#276419"
            ]
           ],
           "sequential": [
            [
             0,
             "#0d0887"
            ],
            [
             0.1111111111111111,
             "#46039f"
            ],
            [
             0.2222222222222222,
             "#7201a8"
            ],
            [
             0.3333333333333333,
             "#9c179e"
            ],
            [
             0.4444444444444444,
             "#bd3786"
            ],
            [
             0.5555555555555556,
             "#d8576b"
            ],
            [
             0.6666666666666666,
             "#ed7953"
            ],
            [
             0.7777777777777778,
             "#fb9f3a"
            ],
            [
             0.8888888888888888,
             "#fdca26"
            ],
            [
             1,
             "#f0f921"
            ]
           ],
           "sequentialminus": [
            [
             0,
             "#0d0887"
            ],
            [
             0.1111111111111111,
             "#46039f"
            ],
            [
             0.2222222222222222,
             "#7201a8"
            ],
            [
             0.3333333333333333,
             "#9c179e"
            ],
            [
             0.4444444444444444,
             "#bd3786"
            ],
            [
             0.5555555555555556,
             "#d8576b"
            ],
            [
             0.6666666666666666,
             "#ed7953"
            ],
            [
             0.7777777777777778,
             "#fb9f3a"
            ],
            [
             0.8888888888888888,
             "#fdca26"
            ],
            [
             1,
             "#f0f921"
            ]
           ]
          },
          "colorway": [
           "#636efa",
           "#EF553B",
           "#00cc96",
           "#ab63fa",
           "#FFA15A",
           "#19d3f3",
           "#FF6692",
           "#B6E880",
           "#FF97FF",
           "#FECB52"
          ],
          "font": {
           "color": "#2a3f5f"
          },
          "geo": {
           "bgcolor": "white",
           "lakecolor": "white",
           "landcolor": "#E5ECF6",
           "showlakes": true,
           "showland": true,
           "subunitcolor": "white"
          },
          "hoverlabel": {
           "align": "left"
          },
          "hovermode": "closest",
          "mapbox": {
           "style": "light"
          },
          "paper_bgcolor": "white",
          "plot_bgcolor": "#E5ECF6",
          "polar": {
           "angularaxis": {
            "gridcolor": "white",
            "linecolor": "white",
            "ticks": ""
           },
           "bgcolor": "#E5ECF6",
           "radialaxis": {
            "gridcolor": "white",
            "linecolor": "white",
            "ticks": ""
           }
          },
          "scene": {
           "xaxis": {
            "backgroundcolor": "#E5ECF6",
            "gridcolor": "white",
            "gridwidth": 2,
            "linecolor": "white",
            "showbackground": true,
            "ticks": "",
            "zerolinecolor": "white"
           },
           "yaxis": {
            "backgroundcolor": "#E5ECF6",
            "gridcolor": "white",
            "gridwidth": 2,
            "linecolor": "white",
            "showbackground": true,
            "ticks": "",
            "zerolinecolor": "white"
           },
           "zaxis": {
            "backgroundcolor": "#E5ECF6",
            "gridcolor": "white",
            "gridwidth": 2,
            "linecolor": "white",
            "showbackground": true,
            "ticks": "",
            "zerolinecolor": "white"
           }
          },
          "shapedefaults": {
           "line": {
            "color": "#2a3f5f"
           }
          },
          "ternary": {
           "aaxis": {
            "gridcolor": "white",
            "linecolor": "white",
            "ticks": ""
           },
           "baxis": {
            "gridcolor": "white",
            "linecolor": "white",
            "ticks": ""
           },
           "bgcolor": "#E5ECF6",
           "caxis": {
            "gridcolor": "white",
            "linecolor": "white",
            "ticks": ""
           }
          },
          "title": {
           "x": 0.05
          },
          "xaxis": {
           "automargin": true,
           "gridcolor": "white",
           "linecolor": "white",
           "ticks": "",
           "title": {
            "standoff": 15
           },
           "zerolinecolor": "white",
           "zerolinewidth": 2
          },
          "yaxis": {
           "automargin": true,
           "gridcolor": "white",
           "linecolor": "white",
           "ticks": "",
           "title": {
            "standoff": 15
           },
           "zerolinecolor": "white",
           "zerolinewidth": 2
          }
         }
        }
       }
      },
      "text/html": [
       "<div>\n",
       "        \n",
       "        \n",
       "            <div id=\"339b2304-11a2-4333-805f-56a7e90de534\" class=\"plotly-graph-div\" style=\"height:525px; width:100%;\"></div>\n",
       "            <script type=\"text/javascript\">\n",
       "                require([\"plotly\"], function(Plotly) {\n",
       "                    window.PLOTLYENV=window.PLOTLYENV || {};\n",
       "                    \n",
       "                if (document.getElementById(\"339b2304-11a2-4333-805f-56a7e90de534\")) {\n",
       "                    Plotly.newPlot(\n",
       "                        '339b2304-11a2-4333-805f-56a7e90de534',\n",
       "                        [{\"hovertext\": [0.7713514304313409, 0.7444678656742405, 0.7586809156319223, 0.7037467705733205, 0.7022603905102707, 0.6866869695917135, 0.6099691077420961, 0.7193474593078246, 0.6759750997691567, 0.6312399710024552, 0.6283597910104062, 0.5922060610671145, 0.6417490020889995, 0.7135100279579327, 0.691467383054083, 0.6756617183226048, 0.5789617593757641, 0.6944739298907701, 0.6327506526108828, 0.6098624648301643, 0.49549016682048386, 0.5756607002613583, 0.5932411874966368, 0.4957747051028569, 0.5090896232971538, 0.46964632366874914, 0.49730726945905346, 0.6052738484311702, 0.6237783309097402, 0.5921413815773371, 0.5781276934332316, 0.5962946698495228, 0.6491757265577713, 0.6225294904676093, 0.5676808592320572, 0.46403343833563593, 0.4389397055257711, 0.44333759002201445, 0.33969824736849397, 0.2709530735262975, 0.35913821628477427, 0.33437127919169285, 0.395020077793935, 0.4817446730794459, 0.35500970572567603, 0.36113710719783754, 0.49895613104972725, 0.44567630520905555, 0.32412080247742914, 0.3986093145791676, 0.2825268373913916, 0.3920652635540729, 0.2489038920228972, 0.2916154059713669, 0.29335141536762954, 0.30113057012218114, 0.48818548509076276, 0.43965682485806523, 0.3978832431817416, 0.3508199330188724, 0.3926796185091561, 0.38895834604945545, 0.42634335545886826, 0.48178205934947904, 0.49288361246545964, 0.5827656220549287, 0.6011478143504863, 0.5749894753900482, 0.5725604600035683, 0.5510561232623528, 0.6274642374594142, 0.6389134717937921, 0.6632915486863373, 0.6506789505645427, 0.591930943946875, 0.5892760041237239, 0.6224959744015646, 0.6567209930468771, 0.6233516493489444, 0.5988973878465718, 0.5899181109761731, 0.6474133999757044, 0.666717961010685, 0.6924904659357387, 0.6979264754165806, 0.6560615839943118, 0.5872245114430208, 0.6279038394076593, 0.6552846010660422, 0.5663401013549114, 0.5547881010656952, 0.5697733068935094, 0.6319033240868723, 0.6290334205649635, 0.6126163847515578, 0.5863549497252052, 0.6737335458359031, 0.6360662441147142, 0.649479063105384, 0.7015510787178938, 0.7022759081177501, 0.7197116390367526, 0.7272007756358136, 0.7334484605618288, 0.7227994432988782, 0.7244802267621453, 0.6709018438589345, 0.7354005781582154, 0.7602555449521957, 0.7394825784218173, 0.7028222515116549, 0.5686434067843544, 0.6139026605826872, 0.6666252200300122, 0.5862498663434446, 0.5224023284489614, 0.5523169214641444, 0.5974518827489983, 0.642833703525902, 0.6233903407969157, 0.5817619145886264, 0.608586764677673, 0.627166047189347, 0.5868696298390228, 0.6033240182350608, 0.548925866311448, 0.5139230933405079, 0.7130215712701751, 0.683394553352199, 0.6270179350747527, 0.6766180807397952, 0.6241679236435589, 0.5160033811564104, 0.5433222964883289, 0.5587442575182515, 0.4802520154411427, 0.5745808601771132, 0.4944590755968954, 0.4850044558799049, 0.5433432737791679, 0.5897405965045075, 0.5921942403151994, 0.6596981619093265, 0.5905718153035253, 0.6438727338781551, 0.6340741688901272, 0.6239735006997189, 0.6549895306370574, 0.6503786615241993, 0.638807343516846, 0.6536136994927739, 0.6867770073323012, 0.6729512971859108, 0.70370949989224, 0.7140980337472111, 0.7256484961479992, 0.7042074435260144, 0.7013332357296638, 0.6610237704437085, 0.6962409840993256, 0.6391975801292382, 0.5877319218825625, 0.596909245309539, 0.4344109569547383, 0.4586259670832913, 0.39010730796276416, 0.37416186883355795, 0.42173993175656266, 0.49880445704819754, 0.48845202229223217, -0.037274214583125076], \"mode\": \"lines\", \"name\": \"markers\", \"type\": \"scatter\", \"x\": [\"2020-01-02T00:00:00\", \"2020-01-03T00:00:00\", \"2020-01-06T00:00:00\", \"2020-01-07T00:00:00\", \"2020-01-08T00:00:00\", \"2020-01-09T00:00:00\", \"2020-01-10T00:00:00\", \"2020-01-13T00:00:00\", \"2020-01-14T00:00:00\", \"2020-01-15T00:00:00\", \"2020-01-16T00:00:00\", \"2020-01-17T00:00:00\", \"2020-01-21T00:00:00\", \"2020-01-22T00:00:00\", \"2020-01-23T00:00:00\", \"2020-01-24T00:00:00\", \"2020-01-27T00:00:00\", \"2020-01-28T00:00:00\", \"2020-01-29T00:00:00\", \"2020-01-30T00:00:00\", \"2020-01-31T00:00:00\", \"2020-02-03T00:00:00\", \"2020-02-04T00:00:00\", \"2020-02-05T00:00:00\", \"2020-02-06T00:00:00\", \"2020-02-07T00:00:00\", \"2020-02-10T00:00:00\", \"2020-02-11T00:00:00\", \"2020-02-12T00:00:00\", \"2020-02-13T00:00:00\", \"2020-02-14T00:00:00\", \"2020-02-18T00:00:00\", \"2020-02-19T00:00:00\", \"2020-02-20T00:00:00\", \"2020-02-21T00:00:00\", \"2020-02-24T00:00:00\", \"2020-02-25T00:00:00\", \"2020-02-26T00:00:00\", \"2020-02-27T00:00:00\", \"2020-02-28T00:00:00\", \"2020-03-02T00:00:00\", \"2020-03-03T00:00:00\", \"2020-03-04T00:00:00\", \"2020-03-05T00:00:00\", \"2020-03-06T00:00:00\", \"2020-03-09T00:00:00\", \"2020-03-10T00:00:00\", \"2020-03-11T00:00:00\", \"2020-03-12T00:00:00\", \"2020-03-13T00:00:00\", \"2020-03-16T00:00:00\", \"2020-03-17T00:00:00\", \"2020-03-18T00:00:00\", \"2020-03-19T00:00:00\", \"2020-03-20T00:00:00\", \"2020-03-23T00:00:00\", \"2020-03-24T00:00:00\", \"2020-03-25T00:00:00\", \"2020-03-26T00:00:00\", \"2020-03-27T00:00:00\", \"2020-03-30T00:00:00\", \"2020-03-31T00:00:00\", \"2020-04-01T00:00:00\", \"2020-04-02T00:00:00\", \"2020-04-03T00:00:00\", \"2020-04-06T00:00:00\", \"2020-04-07T00:00:00\", \"2020-04-08T00:00:00\", \"2020-04-09T00:00:00\", \"2020-04-13T00:00:00\", \"2020-04-14T00:00:00\", \"2020-04-15T00:00:00\", \"2020-04-16T00:00:00\", \"2020-04-17T00:00:00\", \"2020-04-20T00:00:00\", \"2020-04-21T00:00:00\", \"2020-04-22T00:00:00\", \"2020-04-23T00:00:00\", \"2020-04-24T00:00:00\", \"2020-04-27T00:00:00\", \"2020-04-28T00:00:00\", \"2020-04-29T00:00:00\", \"2020-04-30T00:00:00\", \"2020-05-01T00:00:00\", \"2020-05-04T00:00:00\", \"2020-05-05T00:00:00\", \"2020-05-06T00:00:00\", \"2020-05-07T00:00:00\", \"2020-05-08T00:00:00\", \"2020-05-11T00:00:00\", \"2020-05-12T00:00:00\", \"2020-05-13T00:00:00\", \"2020-05-14T00:00:00\", \"2020-05-15T00:00:00\", \"2020-05-18T00:00:00\", \"2020-05-19T00:00:00\", \"2020-05-20T00:00:00\", \"2020-05-21T00:00:00\", \"2020-05-22T00:00:00\", \"2020-05-26T00:00:00\", \"2020-05-27T00:00:00\", \"2020-05-28T00:00:00\", \"2020-05-29T00:00:00\", \"2020-06-01T00:00:00\", \"2020-06-02T00:00:00\", \"2020-06-03T00:00:00\", \"2020-06-04T00:00:00\", \"2020-06-05T00:00:00\", \"2020-06-08T00:00:00\", \"2020-06-09T00:00:00\", \"2020-06-10T00:00:00\", \"2020-06-11T00:00:00\", \"2020-06-12T00:00:00\", \"2020-06-15T00:00:00\", \"2020-06-16T00:00:00\", \"2020-06-17T00:00:00\", \"2020-06-18T00:00:00\", \"2020-06-19T00:00:00\", \"2020-06-22T00:00:00\", \"2020-06-23T00:00:00\", \"2020-06-24T00:00:00\", \"2020-06-25T00:00:00\", \"2020-06-26T00:00:00\", \"2020-06-29T00:00:00\", \"2020-06-30T00:00:00\", \"2020-07-01T00:00:00\", \"2020-07-02T00:00:00\", \"2020-07-06T00:00:00\", \"2020-07-07T00:00:00\", \"2020-07-08T00:00:00\", \"2020-07-09T00:00:00\", \"2020-07-10T00:00:00\", \"2020-07-13T00:00:00\", \"2020-07-14T00:00:00\", \"2020-07-15T00:00:00\", \"2020-07-16T00:00:00\", \"2020-07-17T00:00:00\", \"2020-07-20T00:00:00\", \"2020-07-21T00:00:00\", \"2020-07-22T00:00:00\", \"2020-07-23T00:00:00\", \"2020-07-24T00:00:00\", \"2020-07-27T00:00:00\", \"2020-07-28T00:00:00\", \"2020-07-29T00:00:00\", \"2020-07-30T00:00:00\", \"2020-07-31T00:00:00\", \"2020-08-03T00:00:00\", \"2020-08-04T00:00:00\", \"2020-08-05T00:00:00\", \"2020-08-06T00:00:00\", \"2020-08-07T00:00:00\", \"2020-08-10T00:00:00\", \"2020-08-11T00:00:00\", \"2020-08-12T00:00:00\", \"2020-08-13T00:00:00\", \"2020-08-14T00:00:00\", \"2020-08-17T00:00:00\", \"2020-08-18T00:00:00\", \"2020-08-19T00:00:00\", \"2020-08-20T00:00:00\", \"2020-08-21T00:00:00\", \"2020-08-24T00:00:00\", \"2020-08-25T00:00:00\", \"2020-08-26T00:00:00\", \"2020-08-27T00:00:00\", \"2020-08-28T00:00:00\", \"2020-08-31T00:00:00\", \"2020-09-01T00:00:00\", \"2020-09-02T00:00:00\", \"2020-09-03T00:00:00\"], \"y\": [42.86000061035156, 41.86999893188477, 41.88999938964844, 41.54999923706055, 42.27999877929688, 42.099998474121094, 41.63999938964844, 42.38999938964844, 42.060001373291016, 42.36000061035156, 42.849998474121094, 42.22999954223633, 42.16999816894531, 42.43999862670898, 42.5, 43.27000045776367, 41.97000122070313, 42.93000030517578, 42.15999984741211, 42.18999862670898, 40.66999816894531, 41.83000183105469, 42.86999893188477, 42.66999816894531, 43.47999954223633, 42.63999938964844, 42.47999954223633, 43.08000183105469, 43.20000076293945, 43.310001373291016, 43.18999862670898, 43.06999969482422, 43.84000015258789, 44.47000122070313, 43.88999938964844, 42.63000106811523, 40.93000030517578, 40.38999938964844, 38.97000122070313, 38.45000076293945, 39.65999984741211, 40.02000045776367, 41.61999893188477, 42.88000106811523, 41.09000015258789, 38.72000122070313, 40.52000045776367, 38.83000183105469, 34.72999954223633, 37.02000045776367, 35.060001373291016, 39.22999954223633, 36.0, 37.52000045776367, 36.06999969482422, 34.5, 38.86999893188477, 38.56999969482422, 40.83000183105469, 39.34000015258789, 41.08000183105469, 39.810001373291016, 39.97000122070313, 40.61999893188477, 40.34000015258789, 45.02999877929688, 45.540000915527344, 46.15999984741211, 45.6500015258789, 44.43000030517578, 45.31000137329102, 43.900001525878906, 44.61000061035156, 44.20000076293945, 46.349998474121094, 44.02999877929688, 44.72999954223633, 44.7599983215332, 46.58000183105469, 48.91999816894531, 46.9900016784668, 47.13000106811523, 46.25, 46.34000015258789, 46.83000183105469, 47.29999923706055, 45.7400016784668, 46.56999969482422, 47.959999084472656, 48.52999877929688, 48.09000015258789, 46.7599983215332, 46.83000183105469, 49.6500015258789, 51.36000061035156, 51.16999816894531, 52.95000076293945, 51.72000122070313, 52.81000137329102, 53.90999984741211, 55.56999969482422, 54.790000915527344, 55.2599983215332, 56.0, 55.66999816894531, 56.31000137329102, 53.93999862670898, 54.290000915527344, 54.5099983215332, 55.09000015258789, 54.93000030517578, 52.209999084472656, 52.7599983215332, 53.75, 54.4000015258789, 53.61999893188477, 53.36000061035156, 53.61999893188477, 54.1500015258789, 54.08000183105469, 53.22000122070313, 53.36000061035156, 53.47000122070313, 53.1500015258789, 54.15999984741211, 53.59000015258789, 53.2599983215332, 56.56999969482422, 55.9000015258789, 55.5099983215332, 56.15999984741211, 54.97000122070313, 52.36000061035156, 52.97000122070313, 53.459999084472656, 52.849998474121094, 54.599998474121094, 54.349998474121094, 54.52000045776367, 54.95000076293945, 55.16999816894531, 56.72000122070313, 58.91999816894531, 57.59000015258789, 59.45000076293945, 59.11000061035156, 59.5099983215332, 59.93000030517578, 60.38999938964844, 59.91999816894531, 60.95000076293945, 60.9900016784668, 60.56000137329102, 60.16999816894531, 60.54999923706055, 60.68000030517578, 59.7400016784668, 59.45000076293945, 59.08000183105469, 59.84000015258789, 59.88000106811523, 59.86000061035156, 59.599998474121094, 57.09000015258789, 56.93000030517578, 55.9900016784668, 56.02999877929688, 56.77000045776367, 58.599998474121094, 60.06999969482422, 45.459999084472656]}, {\"hovertext\": [0.7713514304313409, 0.7444678656742405, 0.7586809156319223, 0.7037467705733205, 0.7022603905102707, 0.7193474593078246, 0.7135100279579327, 0.7015510787178938, 0.7022759081177501, 0.7197116390367526, 0.7272007756358136, 0.7334484605618288, 0.7227994432988782, 0.7244802267621453, 0.7354005781582154, 0.7602555449521957, 0.7394825784218173, 0.7028222515116549, 0.7130215712701751, 0.70370949989224, 0.7140980337472111, 0.7256484961479992, 0.7042074435260144, 0.7013332357296638], \"mode\": \"markers\", \"name\": \"SELL\", \"type\": \"scatter\", \"x\": [\"2020-01-02T00:00:00\", \"2020-01-03T00:00:00\", \"2020-01-06T00:00:00\", \"2020-01-07T00:00:00\", \"2020-01-08T00:00:00\", \"2020-01-13T00:00:00\", \"2020-01-22T00:00:00\", \"2020-05-26T00:00:00\", \"2020-05-27T00:00:00\", \"2020-05-28T00:00:00\", \"2020-05-29T00:00:00\", \"2020-06-01T00:00:00\", \"2020-06-02T00:00:00\", \"2020-06-03T00:00:00\", \"2020-06-05T00:00:00\", \"2020-06-08T00:00:00\", \"2020-06-09T00:00:00\", \"2020-06-10T00:00:00\", \"2020-07-06T00:00:00\", \"2020-08-11T00:00:00\", \"2020-08-12T00:00:00\", \"2020-08-13T00:00:00\", \"2020-08-14T00:00:00\", \"2020-08-17T00:00:00\"], \"y\": [42.86000061035156, 41.86999893188477, 41.88999938964844, 41.54999923706055, 42.27999877929688, 42.38999938964844, 42.43999862670898, 53.90999984741211, 55.56999969482422, 54.790000915527344, 55.2599983215332, 56.0, 55.66999816894531, 56.31000137329102, 54.290000915527344, 54.5099983215332, 55.09000015258789, 54.93000030517578, 56.56999969482422, 60.16999816894531, 60.54999923706055, 60.68000030517578, 59.7400016784668, 59.45000076293945]}, {\"hovertext\": [0.33969824736849397, 0.2709530735262975, 0.33437127919169285, 0.32412080247742914, 0.2825268373913916, 0.2489038920228972, 0.2916154059713669, 0.29335141536762954, 0.30113057012218114, -0.037274214583125076], \"mode\": \"markers\", \"name\": \"BUY\", \"type\": \"scatter\", \"x\": [\"2020-02-27T00:00:00\", \"2020-02-28T00:00:00\", \"2020-03-03T00:00:00\", \"2020-03-12T00:00:00\", \"2020-03-16T00:00:00\", \"2020-03-18T00:00:00\", \"2020-03-19T00:00:00\", \"2020-03-20T00:00:00\", \"2020-03-23T00:00:00\", \"2020-09-03T00:00:00\"], \"y\": [38.97000122070313, 38.45000076293945, 40.02000045776367, 34.72999954223633, 35.060001373291016, 36.0, 37.52000045776367, 36.06999969482422, 34.5, 45.459999084472656]}],\n",
       "                        {\"template\": {\"data\": {\"bar\": [{\"error_x\": {\"color\": \"#2a3f5f\"}, \"error_y\": {\"color\": \"#2a3f5f\"}, \"marker\": {\"line\": {\"color\": \"#E5ECF6\", \"width\": 0.5}}, \"type\": \"bar\"}], \"barpolar\": [{\"marker\": {\"line\": {\"color\": \"#E5ECF6\", \"width\": 0.5}}, \"type\": \"barpolar\"}], \"carpet\": [{\"aaxis\": {\"endlinecolor\": \"#2a3f5f\", \"gridcolor\": \"white\", \"linecolor\": \"white\", \"minorgridcolor\": \"white\", \"startlinecolor\": \"#2a3f5f\"}, \"baxis\": {\"endlinecolor\": \"#2a3f5f\", \"gridcolor\": \"white\", \"linecolor\": \"white\", \"minorgridcolor\": \"white\", \"startlinecolor\": \"#2a3f5f\"}, \"type\": \"carpet\"}], \"choropleth\": [{\"colorbar\": {\"outlinewidth\": 0, \"ticks\": \"\"}, \"type\": \"choropleth\"}], \"contour\": [{\"colorbar\": {\"outlinewidth\": 0, \"ticks\": \"\"}, \"colorscale\": [[0.0, \"#0d0887\"], [0.1111111111111111, \"#46039f\"], [0.2222222222222222, \"#7201a8\"], [0.3333333333333333, \"#9c179e\"], [0.4444444444444444, \"#bd3786\"], [0.5555555555555556, \"#d8576b\"], [0.6666666666666666, \"#ed7953\"], [0.7777777777777778, \"#fb9f3a\"], [0.8888888888888888, \"#fdca26\"], [1.0, \"#f0f921\"]], \"type\": \"contour\"}], \"contourcarpet\": [{\"colorbar\": {\"outlinewidth\": 0, \"ticks\": \"\"}, \"type\": \"contourcarpet\"}], \"heatmap\": [{\"colorbar\": {\"outlinewidth\": 0, \"ticks\": \"\"}, \"colorscale\": [[0.0, \"#0d0887\"], [0.1111111111111111, \"#46039f\"], [0.2222222222222222, \"#7201a8\"], [0.3333333333333333, \"#9c179e\"], [0.4444444444444444, \"#bd3786\"], [0.5555555555555556, \"#d8576b\"], [0.6666666666666666, \"#ed7953\"], [0.7777777777777778, \"#fb9f3a\"], [0.8888888888888888, \"#fdca26\"], [1.0, \"#f0f921\"]], \"type\": \"heatmap\"}], \"heatmapgl\": [{\"colorbar\": {\"outlinewidth\": 0, \"ticks\": \"\"}, \"colorscale\": [[0.0, \"#0d0887\"], [0.1111111111111111, \"#46039f\"], [0.2222222222222222, \"#7201a8\"], [0.3333333333333333, \"#9c179e\"], [0.4444444444444444, \"#bd3786\"], [0.5555555555555556, \"#d8576b\"], [0.6666666666666666, \"#ed7953\"], [0.7777777777777778, \"#fb9f3a\"], [0.8888888888888888, \"#fdca26\"], [1.0, \"#f0f921\"]], \"type\": \"heatmapgl\"}], \"histogram\": [{\"marker\": {\"colorbar\": {\"outlinewidth\": 0, \"ticks\": \"\"}}, \"type\": \"histogram\"}], \"histogram2d\": [{\"colorbar\": {\"outlinewidth\": 0, \"ticks\": \"\"}, \"colorscale\": [[0.0, \"#0d0887\"], [0.1111111111111111, \"#46039f\"], [0.2222222222222222, \"#7201a8\"], [0.3333333333333333, \"#9c179e\"], [0.4444444444444444, \"#bd3786\"], [0.5555555555555556, \"#d8576b\"], [0.6666666666666666, \"#ed7953\"], [0.7777777777777778, \"#fb9f3a\"], [0.8888888888888888, \"#fdca26\"], [1.0, \"#f0f921\"]], \"type\": \"histogram2d\"}], \"histogram2dcontour\": [{\"colorbar\": {\"outlinewidth\": 0, \"ticks\": \"\"}, \"colorscale\": [[0.0, \"#0d0887\"], [0.1111111111111111, \"#46039f\"], [0.2222222222222222, \"#7201a8\"], [0.3333333333333333, \"#9c179e\"], [0.4444444444444444, \"#bd3786\"], [0.5555555555555556, \"#d8576b\"], [0.6666666666666666, \"#ed7953\"], [0.7777777777777778, \"#fb9f3a\"], [0.8888888888888888, \"#fdca26\"], [1.0, \"#f0f921\"]], \"type\": \"histogram2dcontour\"}], \"mesh3d\": [{\"colorbar\": {\"outlinewidth\": 0, \"ticks\": \"\"}, \"type\": \"mesh3d\"}], \"parcoords\": [{\"line\": {\"colorbar\": {\"outlinewidth\": 0, \"ticks\": \"\"}}, \"type\": \"parcoords\"}], \"pie\": [{\"automargin\": true, \"type\": \"pie\"}], \"scatter\": [{\"marker\": {\"colorbar\": {\"outlinewidth\": 0, \"ticks\": \"\"}}, \"type\": \"scatter\"}], \"scatter3d\": [{\"line\": {\"colorbar\": {\"outlinewidth\": 0, \"ticks\": \"\"}}, \"marker\": {\"colorbar\": {\"outlinewidth\": 0, \"ticks\": \"\"}}, \"type\": \"scatter3d\"}], \"scattercarpet\": [{\"marker\": {\"colorbar\": {\"outlinewidth\": 0, \"ticks\": \"\"}}, \"type\": \"scattercarpet\"}], \"scattergeo\": [{\"marker\": {\"colorbar\": {\"outlinewidth\": 0, \"ticks\": \"\"}}, \"type\": \"scattergeo\"}], \"scattergl\": [{\"marker\": {\"colorbar\": {\"outlinewidth\": 0, \"ticks\": \"\"}}, \"type\": \"scattergl\"}], \"scattermapbox\": [{\"marker\": {\"colorbar\": {\"outlinewidth\": 0, \"ticks\": \"\"}}, \"type\": \"scattermapbox\"}], \"scatterpolar\": [{\"marker\": {\"colorbar\": {\"outlinewidth\": 0, \"ticks\": \"\"}}, \"type\": \"scatterpolar\"}], \"scatterpolargl\": [{\"marker\": {\"colorbar\": {\"outlinewidth\": 0, \"ticks\": \"\"}}, \"type\": \"scatterpolargl\"}], \"scatterternary\": [{\"marker\": {\"colorbar\": {\"outlinewidth\": 0, \"ticks\": \"\"}}, \"type\": \"scatterternary\"}], \"surface\": [{\"colorbar\": {\"outlinewidth\": 0, \"ticks\": \"\"}, \"colorscale\": [[0.0, \"#0d0887\"], [0.1111111111111111, \"#46039f\"], [0.2222222222222222, \"#7201a8\"], [0.3333333333333333, \"#9c179e\"], [0.4444444444444444, \"#bd3786\"], [0.5555555555555556, \"#d8576b\"], [0.6666666666666666, \"#ed7953\"], [0.7777777777777778, \"#fb9f3a\"], [0.8888888888888888, \"#fdca26\"], [1.0, \"#f0f921\"]], \"type\": \"surface\"}], \"table\": [{\"cells\": {\"fill\": {\"color\": \"#EBF0F8\"}, \"line\": {\"color\": \"white\"}}, \"header\": {\"fill\": {\"color\": \"#C8D4E3\"}, \"line\": {\"color\": \"white\"}}, \"type\": \"table\"}]}, \"layout\": {\"annotationdefaults\": {\"arrowcolor\": \"#2a3f5f\", \"arrowhead\": 0, \"arrowwidth\": 1}, \"coloraxis\": {\"colorbar\": {\"outlinewidth\": 0, \"ticks\": \"\"}}, \"colorscale\": {\"diverging\": [[0, \"#8e0152\"], [0.1, \"#c51b7d\"], [0.2, \"#de77ae\"], [0.3, \"#f1b6da\"], [0.4, \"#fde0ef\"], [0.5, \"#f7f7f7\"], [0.6, \"#e6f5d0\"], [0.7, \"#b8e186\"], [0.8, \"#7fbc41\"], [0.9, \"#4d9221\"], [1, \"#276419\"]], \"sequential\": [[0.0, \"#0d0887\"], [0.1111111111111111, \"#46039f\"], [0.2222222222222222, \"#7201a8\"], [0.3333333333333333, \"#9c179e\"], [0.4444444444444444, \"#bd3786\"], [0.5555555555555556, \"#d8576b\"], [0.6666666666666666, \"#ed7953\"], [0.7777777777777778, \"#fb9f3a\"], [0.8888888888888888, \"#fdca26\"], [1.0, \"#f0f921\"]], \"sequentialminus\": [[0.0, \"#0d0887\"], [0.1111111111111111, \"#46039f\"], [0.2222222222222222, \"#7201a8\"], [0.3333333333333333, \"#9c179e\"], [0.4444444444444444, \"#bd3786\"], [0.5555555555555556, \"#d8576b\"], [0.6666666666666666, \"#ed7953\"], [0.7777777777777778, \"#fb9f3a\"], [0.8888888888888888, \"#fdca26\"], [1.0, \"#f0f921\"]]}, \"colorway\": [\"#636efa\", \"#EF553B\", \"#00cc96\", \"#ab63fa\", \"#FFA15A\", \"#19d3f3\", \"#FF6692\", \"#B6E880\", \"#FF97FF\", \"#FECB52\"], \"font\": {\"color\": \"#2a3f5f\"}, \"geo\": {\"bgcolor\": \"white\", \"lakecolor\": \"white\", \"landcolor\": \"#E5ECF6\", \"showlakes\": true, \"showland\": true, \"subunitcolor\": \"white\"}, \"hoverlabel\": {\"align\": \"left\"}, \"hovermode\": \"closest\", \"mapbox\": {\"style\": \"light\"}, \"paper_bgcolor\": \"white\", \"plot_bgcolor\": \"#E5ECF6\", \"polar\": {\"angularaxis\": {\"gridcolor\": \"white\", \"linecolor\": \"white\", \"ticks\": \"\"}, \"bgcolor\": \"#E5ECF6\", \"radialaxis\": {\"gridcolor\": \"white\", \"linecolor\": \"white\", \"ticks\": \"\"}}, \"scene\": {\"xaxis\": {\"backgroundcolor\": \"#E5ECF6\", \"gridcolor\": \"white\", \"gridwidth\": 2, \"linecolor\": \"white\", \"showbackground\": true, \"ticks\": \"\", \"zerolinecolor\": \"white\"}, \"yaxis\": {\"backgroundcolor\": \"#E5ECF6\", \"gridcolor\": \"white\", \"gridwidth\": 2, \"linecolor\": \"white\", \"showbackground\": true, \"ticks\": \"\", \"zerolinecolor\": \"white\"}, \"zaxis\": {\"backgroundcolor\": \"#E5ECF6\", \"gridcolor\": \"white\", \"gridwidth\": 2, \"linecolor\": \"white\", \"showbackground\": true, \"ticks\": \"\", \"zerolinecolor\": \"white\"}}, \"shapedefaults\": {\"line\": {\"color\": \"#2a3f5f\"}}, \"ternary\": {\"aaxis\": {\"gridcolor\": \"white\", \"linecolor\": \"white\", \"ticks\": \"\"}, \"baxis\": {\"gridcolor\": \"white\", \"linecolor\": \"white\", \"ticks\": \"\"}, \"bgcolor\": \"#E5ECF6\", \"caxis\": {\"gridcolor\": \"white\", \"linecolor\": \"white\", \"ticks\": \"\"}}, \"title\": {\"x\": 0.05}, \"xaxis\": {\"automargin\": true, \"gridcolor\": \"white\", \"linecolor\": \"white\", \"ticks\": \"\", \"title\": {\"standoff\": 15}, \"zerolinecolor\": \"white\", \"zerolinewidth\": 2}, \"yaxis\": {\"automargin\": true, \"gridcolor\": \"white\", \"linecolor\": \"white\", \"ticks\": \"\", \"title\": {\"standoff\": 15}, \"zerolinecolor\": \"white\", \"zerolinewidth\": 2}}}},\n",
       "                        {\"responsive\": true}\n",
       "                    ).then(function(){\n",
       "                            \n",
       "var gd = document.getElementById('339b2304-11a2-4333-805f-56a7e90de534');\n",
       "var x = new MutationObserver(function (mutations, observer) {{\n",
       "        var display = window.getComputedStyle(gd).display;\n",
       "        if (!display || display === 'none') {{\n",
       "            console.log([gd, 'removed!']);\n",
       "            Plotly.purge(gd);\n",
       "            observer.disconnect();\n",
       "        }}\n",
       "}});\n",
       "\n",
       "// Listen for the removal of the full notebook cells\n",
       "var notebookContainer = gd.closest('#notebook-container');\n",
       "if (notebookContainer) {{\n",
       "    x.observe(notebookContainer, {childList: true});\n",
       "}}\n",
       "\n",
       "// Listen for the clearing of the current output cell\n",
       "var outputEl = gd.closest('.output');\n",
       "if (outputEl) {{\n",
       "    x.observe(outputEl, {childList: true});\n",
       "}}\n",
       "\n",
       "                        })\n",
       "                };\n",
       "                });\n",
       "            </script>\n",
       "        </div>"
      ]
     },
     "metadata": {},
     "output_type": "display_data"
    }
   ],
   "source": [
    "fig = go.Figure()\n",
    "\n",
    "fig.add_trace(go.Scatter(x=df_test['Date'], y=df_test['Adj Close'],\n",
    "                    mode='lines',\n",
    "                    name='markers', hovertext=df_test['pred']))\n",
    "\n",
    "fig.add_trace(go.Scatter(x=df_test[df_test['action'] == 'SELL'].Date, y=df_test[df_test['action'] == 'SELL']['Adj Close'],\n",
    "                    mode='markers',\n",
    "                    name='SELL', hovertext=df_test[df_test['action'] == 'SELL']['pred']))\n",
    "\n",
    "fig.add_trace(go.Scatter(x=df_test[df_test['action'] == 'BUY'].Date, y=df_test[df_test['action'] == 'BUY']['Adj Close'],\n",
    "                    mode='markers',\n",
    "                    name='BUY', hovertext=df_test[df_test['action'] == 'BUY']['pred']))\n",
    "\n",
    "\n",
    "fig.show()"
   ]
  },
  {
   "cell_type": "code",
   "execution_count": null,
   "metadata": {},
   "outputs": [],
   "source": []
  }
 ],
 "metadata": {
  "kernelspec": {
   "display_name": "YOLO",
   "language": "python",
   "name": "yolo"
  },
  "language_info": {
   "codemirror_mode": {
    "name": "ipython",
    "version": 3
   },
   "file_extension": ".py",
   "mimetype": "text/x-python",
   "name": "python",
   "nbconvert_exporter": "python",
   "pygments_lexer": "ipython3",
   "version": "3.6.9"
  }
 },
 "nbformat": 4,
 "nbformat_minor": 2
}
