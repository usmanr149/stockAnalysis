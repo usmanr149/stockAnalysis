{
 "cells": [
  {
   "cell_type": "code",
   "execution_count": 1,
   "metadata": {},
   "outputs": [],
   "source": [
    "import numpy as np\n",
    "from scipy import stats\n",
    "from sklearn.metrics import r2_score"
   ]
  },
  {
   "cell_type": "code",
   "execution_count": 2,
   "metadata": {},
   "outputs": [],
   "source": [
    "x = np.arange(21)\n",
    "y = np.random.rand(21)"
   ]
  },
  {
   "cell_type": "code",
   "execution_count": 3,
   "metadata": {},
   "outputs": [
    {
     "name": "stdout",
     "output_type": "stream",
     "text": [
      "203 µs ± 14.6 µs per loop (mean ± std. dev. of 7 runs, 1000 loops each)\n"
     ]
    }
   ],
   "source": [
    "%timeit stats.linregress(x, y)"
   ]
  },
  {
   "cell_type": "code",
   "execution_count": 4,
   "metadata": {},
   "outputs": [
    {
     "data": {
      "text/plain": [
       "0.017415715606453795"
      ]
     },
     "execution_count": 4,
     "metadata": {},
     "output_type": "execute_result"
    }
   ],
   "source": [
    "slope, intercept, r_value, p_value, std_err = stats.linregress(x, y)\n",
    "\n",
    "slope"
   ]
  },
  {
   "cell_type": "code",
   "execution_count": 5,
   "metadata": {},
   "outputs": [
    {
     "data": {
      "text/plain": [
       "0.13507851068695323"
      ]
     },
     "execution_count": 5,
     "metadata": {},
     "output_type": "execute_result"
    }
   ],
   "source": [
    "r_value**2"
   ]
  },
  {
   "cell_type": "code",
   "execution_count": 6,
   "metadata": {},
   "outputs": [
    {
     "name": "stdout",
     "output_type": "stream",
     "text": [
      "103 µs ± 4.48 µs per loop (mean ± std. dev. of 7 runs, 10000 loops each)\n"
     ]
    }
   ],
   "source": [
    "# def fit(x,y):\n",
    "#     A = np.vstack([x, np.ones(len(x))]).T\n",
    "#     m, c = np.linalg.lstsq(A, y, rcond=None)[0]\n",
    "#     y = \n",
    "#     np.corrcoef(x, y)[0, 1]**2\n",
    "#     return m, c\n",
    "\n",
    "def get_r2_numpy(x, y):\n",
    "#     slope, intercept = np.polyfit(x, y, 1)\n",
    "#     print(x)\n",
    "    A = np.vstack([x, np.ones(len(x))]).T\n",
    "    slope, intercept = np.linalg.lstsq(A, y, rcond=None)[0]\n",
    "    r_squared = 1 - (sum((y - (slope * x + intercept))**2) / ((len(y) - 1) * np.var(y, ddof=1)))\n",
    "    return slope, intercept, r_squared\n",
    "\n",
    "%timeit get_r2_numpy(x,y)"
   ]
  },
  {
   "cell_type": "code",
   "execution_count": 27,
   "metadata": {},
   "outputs": [],
   "source": [
    "m, c, r2 = get_r2_numpy(x, y)"
   ]
  },
  {
   "cell_type": "code",
   "execution_count": 28,
   "metadata": {},
   "outputs": [
    {
     "data": {
      "text/plain": [
       "0.017415715606453802"
      ]
     },
     "execution_count": 28,
     "metadata": {},
     "output_type": "execute_result"
    }
   ],
   "source": [
    "m"
   ]
  },
  {
   "cell_type": "code",
   "execution_count": 29,
   "metadata": {},
   "outputs": [
    {
     "data": {
      "text/plain": [
       "0.25268361300746456"
      ]
     },
     "execution_count": 29,
     "metadata": {},
     "output_type": "execute_result"
    }
   ],
   "source": [
    "c"
   ]
  },
  {
   "cell_type": "code",
   "execution_count": 30,
   "metadata": {},
   "outputs": [
    {
     "data": {
      "text/plain": [
       "0.1350785106869532"
      ]
     },
     "execution_count": 30,
     "metadata": {},
     "output_type": "execute_result"
    }
   ],
   "source": [
    "r2"
   ]
  },
  {
   "cell_type": "code",
   "execution_count": 12,
   "metadata": {},
   "outputs": [
    {
     "data": {
      "text/plain": [
       "0.2526836130074642"
      ]
     },
     "execution_count": 12,
     "metadata": {},
     "output_type": "execute_result"
    }
   ],
   "source": [
    "top = sum(y)*sum(x**2) - sum(x)*sum(x*y)\n",
    "bottom = len(y)*sum(x**2) - (sum(x))**2\n",
    "\n",
    "top/bottom"
   ]
  },
  {
   "cell_type": "code",
   "execution_count": 13,
   "metadata": {},
   "outputs": [
    {
     "data": {
      "text/plain": [
       "0.017415715606453823"
      ]
     },
     "execution_count": 13,
     "metadata": {},
     "output_type": "execute_result"
    }
   ],
   "source": [
    "top = len(x)*sum(x*y) - sum(x)*sum(y)\n",
    "bottom = len(y)*sum(x**2) - (sum(x))**2\n",
    "\n",
    "top/bottom"
   ]
  },
  {
   "cell_type": "code",
   "execution_count": 14,
   "metadata": {},
   "outputs": [
    {
     "data": {
      "text/plain": [
       "0.017415715606453823"
      ]
     },
     "execution_count": 14,
     "metadata": {},
     "output_type": "execute_result"
    }
   ],
   "source": [
    "sum_y = sum(y)\n",
    "sum_x = sum(x)\n",
    "sum_xy = sum(x*y)\n",
    "sum_x2 = sum(x**2)\n",
    "\n",
    "top = len(x)*sum_xy - sum_x*sum_y\n",
    "bottom = len(y)*sum_x2 - sum_x**2\n",
    "\n",
    "top/bottom"
   ]
  },
  {
   "cell_type": "code",
   "execution_count": 15,
   "metadata": {},
   "outputs": [
    {
     "data": {
      "text/plain": [
       "0.2526836130074642"
      ]
     },
     "execution_count": 15,
     "metadata": {},
     "output_type": "execute_result"
    }
   ],
   "source": [
    "top = sum_y*sum_x2 - sum_x*sum_xy\n",
    "bottom = len(y)*sum_x2 - sum_x**2\n",
    "\n",
    "top/bottom"
   ]
  },
  {
   "cell_type": "code",
   "execution_count": 35,
   "metadata": {},
   "outputs": [
    {
     "name": "stdout",
     "output_type": "stream",
     "text": [
      "31 µs ± 1.89 µs per loop (mean ± std. dev. of 7 runs, 10000 loops each)\n"
     ]
    }
   ],
   "source": [
    "def fit(x,y):\n",
    "    sum_y = sum(y)\n",
    "    sum_x = sum(x)\n",
    "    sum_xy = sum(x*y)\n",
    "    sum_x2 = sum(x**2)\n",
    "    sum_y2 = sum(y**2)\n",
    "    \n",
    "    l = 21\n",
    "    \n",
    "    m = (l*sum_xy - sum_x*sum_y)/(l*sum_x2 - sum_x**2)\n",
    "    c = (sum_y*sum_x2 - sum_x*sum_xy)/(l*sum_x2 - sum_x**2)\n",
    "    \n",
    "#     r_squared = 1 - (sum((y - (m * x + c))**2) / ((l - 1) * np.var(y, ddof=1)))\n",
    "    r_squared = (l*sum_xy - sum_x*sum_y)/(np.sqrt( (l*sum_x2 - sum_x**2) * (l*sum_y2 - sum_y**2 ) ))\n",
    "    \n",
    "    return m, c, r_squared**2\n",
    "\n",
    "%timeit fit(x,y)"
   ]
  },
  {
   "cell_type": "code",
   "execution_count": 34,
   "metadata": {},
   "outputs": [
    {
     "data": {
      "text/plain": [
       "(0.017415715606453823, 0.2526836130074642, 0.1350785106869537)"
      ]
     },
     "execution_count": 34,
     "metadata": {},
     "output_type": "execute_result"
    }
   ],
   "source": [
    "fit(x,y)"
   ]
  },
  {
   "cell_type": "code",
   "execution_count": 32,
   "metadata": {},
   "outputs": [
    {
     "data": {
      "text/plain": [
       "0.1350785106869537"
      ]
     },
     "execution_count": 32,
     "metadata": {},
     "output_type": "execute_result"
    }
   ],
   "source": [
    "0.36753028540101795**2"
   ]
  },
  {
   "cell_type": "code",
   "execution_count": null,
   "metadata": {},
   "outputs": [],
   "source": []
  }
 ],
 "metadata": {
  "kernelspec": {
   "display_name": "YOLO",
   "language": "python",
   "name": "yolo"
  },
  "language_info": {
   "codemirror_mode": {
    "name": "ipython",
    "version": 3
   },
   "file_extension": ".py",
   "mimetype": "text/x-python",
   "name": "python",
   "nbconvert_exporter": "python",
   "pygments_lexer": "ipython3",
   "version": "3.6.9"
  }
 },
 "nbformat": 4,
 "nbformat_minor": 2
}
